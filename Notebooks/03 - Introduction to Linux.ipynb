{
  "nbformat": 4,
  "nbformat_minor": 0,
  "metadata": {
    "colab": {
      "provenance": []
    },
    "kernelspec": {
      "name": "python3",
      "display_name": "Python 3"
    }
  },
  "cells": [
    {
      "cell_type": "markdown",
      "metadata": {
        "id": "LA6qRQC3EN0F"
      },
      "source": [
        "# Introduction to Linux\n",
        "\n",
        "by Diego H. Useche. Universidad de los Andes\n",
        "\n",
        "Based on [The Unix WorkBench | Coursera | John Hopkins University](https://www.coursera.org/learn/unix)"
      ]
    },
    {
      "cell_type": "code",
      "metadata": {
        "id": "CN1Flwod9kUx",
        "colab": {
          "base_uri": "https://localhost:8080/"
        },
        "outputId": "7404ea84-f179-4433-95c1-fc6afa65df37"
      },
      "source": [
        "%%bash\n",
        "echo \"Hello World!\"\n",
        "echo \"Hello World!\""
      ],
      "execution_count": 1,
      "outputs": [
        {
          "output_type": "stream",
          "name": "stdout",
          "text": [
            "Hello World!\n",
            "Hello World!\n"
          ]
        }
      ]
    },
    {
      "cell_type": "code",
      "metadata": {
        "id": "kEFZduon93fH",
        "colab": {
          "base_uri": "https://localhost:8080/"
        },
        "outputId": "416566ae-7194-437b-87b0-32f71dae7295"
      },
      "source": [
        "!echo \"Hello World\""
      ],
      "execution_count": 2,
      "outputs": [
        {
          "output_type": "stream",
          "name": "stdout",
          "text": [
            "Hello World\n"
          ]
        }
      ]
    },
    {
      "cell_type": "code",
      "metadata": {
        "id": "S9aF9T1-98IS",
        "colab": {
          "base_uri": "https://localhost:8080/"
        },
        "outputId": "348eff29-f500-4ef0-9be8-05fd5e6a245c"
      },
      "source": [
        "# Clean the the terminal up\n",
        "!clear"
      ],
      "execution_count": 3,
      "outputs": [
        {
          "output_type": "stream",
          "name": "stdout",
          "text": [
            "\u001b[H\u001b[2J"
          ]
        }
      ]
    },
    {
      "cell_type": "markdown",
      "metadata": {
        "id": "Cjga4hFGJmU5"
      },
      "source": [
        "##**Directories**\n",
        "\n",
        "Top Directory is called Root Directory represented by \"/\"\n",
        "Home Directory has all your files represented by a tilde \"~\""
      ]
    },
    {
      "cell_type": "code",
      "metadata": {
        "id": "tqGBwOlGFyfT",
        "colab": {
          "base_uri": "https://localhost:8080/"
        },
        "outputId": "7481d603-765b-47ee-9612-e8282199f303"
      },
      "source": [
        "# check your current directory\n",
        "!pwd"
      ],
      "execution_count": 4,
      "outputs": [
        {
          "output_type": "stream",
          "name": "stdout",
          "text": [
            "/content\n"
          ]
        }
      ]
    },
    {
      "cell_type": "code",
      "metadata": {
        "id": "U5z4vnmGKUEs",
        "colab": {
          "base_uri": "https://localhost:8080/"
        },
        "outputId": "741baa77-7d86-4a7b-b9a5-a879c6a16e4d"
      },
      "source": [
        "!ls"
      ],
      "execution_count": 5,
      "outputs": [
        {
          "output_type": "stream",
          "name": "stdout",
          "text": [
            "sample_data\n"
          ]
        }
      ]
    },
    {
      "cell_type": "code",
      "metadata": {
        "id": "6BEGjYBeK4wB",
        "colab": {
          "base_uri": "https://localhost:8080/"
        },
        "outputId": "26688d79-2f84-4483-ee45-6ad0372839e0"
      },
      "source": [
        "%%bash\n",
        "cd sample_data\n",
        "ls"
      ],
      "execution_count": 6,
      "outputs": [
        {
          "output_type": "stream",
          "name": "stdout",
          "text": [
            "anscombe.json\n",
            "california_housing_test.csv\n",
            "california_housing_train.csv\n",
            "mnist_test.csv\n",
            "mnist_train_small.csv\n",
            "README.md\n"
          ]
        }
      ]
    },
    {
      "cell_type": "code",
      "metadata": {
        "id": "JulycbZJLIaL",
        "colab": {
          "base_uri": "https://localhost:8080/"
        },
        "outputId": "cb94f0df-6cbc-4a07-a837-38d209a1fa45"
      },
      "source": [
        "%%bash\n",
        "# Go back to previous directory arrive in root\n",
        "cd ..\n",
        "pwd\n",
        "ls"
      ],
      "execution_count": 7,
      "outputs": [
        {
          "output_type": "stream",
          "name": "stdout",
          "text": [
            "/\n",
            "bin\n",
            "boot\n",
            "content\n",
            "cuda-keyring_1.0-1_all.deb\n",
            "datalab\n",
            "dev\n",
            "etc\n",
            "home\n",
            "lib\n",
            "lib32\n",
            "lib64\n",
            "libx32\n",
            "media\n",
            "mnt\n",
            "NGC-DL-CONTAINER-LICENSE\n",
            "opt\n",
            "proc\n",
            "python-apt\n",
            "root\n",
            "run\n",
            "sbin\n",
            "srv\n",
            "sys\n",
            "tmp\n",
            "tools\n",
            "usr\n",
            "var\n"
          ]
        }
      ]
    },
    {
      "cell_type": "code",
      "metadata": {
        "id": "Yi99c_VULKDm"
      },
      "source": [
        "# Go to a directory which is inside home directory\n",
        "%%bash\n",
        "cd ~/\n",
        "ls"
      ],
      "execution_count": 8,
      "outputs": []
    },
    {
      "cell_type": "code",
      "metadata": {
        "id": "9ZcnemcaODn3"
      },
      "source": [
        "# use tab for autocompleting the directories"
      ],
      "execution_count": null,
      "outputs": []
    },
    {
      "cell_type": "markdown",
      "metadata": {
        "id": "4-nOGP8xO_Ns"
      },
      "source": [
        "**Exercises**\n",
        "\n",
        "Set your working directory to the root directory.\n",
        "Set your working directory to your home directory using three different commands.\n",
        "Find a folder on your computer using your file and folder browser, and then set your working directory to that folder using the terminal.\n",
        "List all of the files and folders in the directory you navigated to in #3."
      ]
    },
    {
      "cell_type": "markdown",
      "metadata": {
        "id": "8aX0iyJ_9Sq5"
      },
      "source": [
        "## Work with files and directories"
      ]
    },
    {
      "cell_type": "code",
      "metadata": {
        "id": "V3emXkm2PD-c"
      },
      "source": [
        "# make a directory\n",
        "!mkdir clase1"
      ],
      "execution_count": 9,
      "outputs": []
    },
    {
      "cell_type": "code",
      "metadata": {
        "id": "Zxkq2v7gP70D",
        "colab": {
          "base_uri": "https://localhost:8080/"
        },
        "outputId": "3dd0e634-7c57-4ab3-fe51-a4772187ee91"
      },
      "source": [
        "!ls"
      ],
      "execution_count": 10,
      "outputs": [
        {
          "output_type": "stream",
          "name": "stdout",
          "text": [
            "clase1\tsample_data\n"
          ]
        }
      ]
    },
    {
      "cell_type": "code",
      "metadata": {
        "id": "QzaFhdcnP9yk",
        "colab": {
          "base_uri": "https://localhost:8080/"
        },
        "outputId": "d8d402dc-a5c0-4603-e862-30aaa1f99c91"
      },
      "source": [
        "!ls"
      ],
      "execution_count": 11,
      "outputs": [
        {
          "output_type": "stream",
          "name": "stdout",
          "text": [
            "clase1\tsample_data\n"
          ]
        }
      ]
    },
    {
      "cell_type": "code",
      "metadata": {
        "id": "gUYDnJhGQMgZ",
        "colab": {
          "base_uri": "https://localhost:8080/"
        },
        "outputId": "08d37562-b5ea-40a4-e081-cbb21018898b"
      },
      "source": [
        "!ls"
      ],
      "execution_count": 12,
      "outputs": [
        {
          "output_type": "stream",
          "name": "stdout",
          "text": [
            "clase1\tsample_data\n"
          ]
        }
      ]
    },
    {
      "cell_type": "code",
      "metadata": {
        "id": "QOoUZzpKU0CE",
        "colab": {
          "base_uri": "https://localhost:8080/"
        },
        "outputId": "89eb8fe8-b0ca-433c-dc7f-fbdaac0fd7b7"
      },
      "source": [
        "# create a .txt file\n",
        "%%bash\n",
        "touch clase1/clase1.txt\n",
        "cd clase1\n",
        "ls"
      ],
      "execution_count": 15,
      "outputs": [
        {
          "output_type": "stream",
          "name": "stdout",
          "text": [
            "clase1.txt\n"
          ]
        }
      ]
    },
    {
      "cell_type": "code",
      "metadata": {
        "id": "KCJfbYuFcX9E",
        "colab": {
          "base_uri": "https://localhost:8080/"
        },
        "outputId": "486a6185-6132-4e52-b0d2-34899d42154c"
      },
      "source": [
        "# Add some information to the text file\n",
        "%%bash\n",
        "echo \"Hello world\" > clase1/clase1.txt\n",
        "echo \"Hello mars\" >> clase1/clase1.txt\n",
        "cat clase1/clase1.txt"
      ],
      "execution_count": 18,
      "outputs": [
        {
          "output_type": "stream",
          "name": "stdout",
          "text": [
            "Hello world\n",
            "Hello mars\n"
          ]
        }
      ]
    },
    {
      "cell_type": "code",
      "metadata": {
        "id": "-ykGmsh0dNju",
        "colab": {
          "base_uri": "https://localhost:8080/"
        },
        "outputId": "9269615a-c215-4dfa-e5ae-9c6bcb4873ca"
      },
      "source": [
        "# Word Count the file\n",
        "%%bash\n",
        "wc clase1/clase1.txt"
      ],
      "execution_count": 19,
      "outputs": [
        {
          "output_type": "stream",
          "name": "stdout",
          "text": [
            " 2  4 23 clase1/clase1.txt\n"
          ]
        }
      ]
    },
    {
      "cell_type": "code",
      "metadata": {
        "id": "YWb0SmUOd5-4",
        "colab": {
          "base_uri": "https://localhost:8080/"
        },
        "outputId": "67e6c1c3-957c-4a33-c5f1-73f0633b02d5"
      },
      "source": [
        "# Print the contents of the .txt file\n",
        "%%bash\n",
        "cat clase1/clase1.txt"
      ],
      "execution_count": 20,
      "outputs": [
        {
          "output_type": "stream",
          "name": "stdout",
          "text": [
            "Hello world\n",
            "Hello mars\n"
          ]
        }
      ]
    },
    {
      "cell_type": "code",
      "metadata": {
        "id": "g051MHQFfnoT",
        "colab": {
          "base_uri": "https://localhost:8080/"
        },
        "outputId": "45038f78-ce74-4be4-f942-81edf17f8b7a"
      },
      "source": [
        "# Print less terms on the terminal\n",
        "%%bash\n",
        "less clase1/clase1.txt"
      ],
      "execution_count": 21,
      "outputs": [
        {
          "output_type": "stream",
          "name": "stdout",
          "text": [
            "Hello world\n",
            "Hello mars\n"
          ]
        }
      ]
    },
    {
      "cell_type": "code",
      "metadata": {
        "id": "SjHVWK-6gZ-E",
        "colab": {
          "base_uri": "https://localhost:8080/"
        },
        "outputId": "6a299222-0104-4ce5-dad0-c504fedc7000"
      },
      "source": [
        "# Check the head of the .txt file\n",
        "%%bash\n",
        "head clase1/clase1.txt"
      ],
      "execution_count": 22,
      "outputs": [
        {
          "output_type": "stream",
          "name": "stdout",
          "text": [
            "Hello world\n",
            "Hello mars\n"
          ]
        }
      ]
    },
    {
      "cell_type": "code",
      "metadata": {
        "id": "4CzhaUkAgrHs",
        "colab": {
          "base_uri": "https://localhost:8080/"
        },
        "outputId": "304f15c5-25de-483c-88e3-08e543693cb7"
      },
      "source": [
        "# Check the tail of the .txt file\n",
        "%%bash\n",
        "tail clase1/clase1.txt"
      ],
      "execution_count": 23,
      "outputs": [
        {
          "output_type": "stream",
          "name": "stdout",
          "text": [
            "Hello world\n",
            "Hello mars\n"
          ]
        }
      ]
    },
    {
      "cell_type": "code",
      "metadata": {
        "id": "bDzhC6DRgyfm",
        "colab": {
          "base_uri": "https://localhost:8080/"
        },
        "outputId": "536b6914-cb05-4852-dd6b-48c5b2a5aa7b"
      },
      "source": [
        "# output redirection no undo button\n",
        "%%bash\n",
        "echo \"Hello Jupyter\" > clase1/clase1.txt\n",
        "cat clase1/clase1.txt"
      ],
      "execution_count": 24,
      "outputs": [
        {
          "output_type": "stream",
          "name": "stdout",
          "text": [
            "Hello Jupyter\n"
          ]
        }
      ]
    },
    {
      "cell_type": "code",
      "metadata": {
        "id": "C0079iUUh3a7",
        "colab": {
          "base_uri": "https://localhost:8080/"
        },
        "outputId": "236e13a2-dd61-4983-c9cf-95da292a3c53"
      },
      "source": [
        "# Append at the end no\n",
        "%%bash\n",
        "echo \"Hello Mars\" >> clase1/clase1.txt\n",
        "cat clase1/clase1.txt"
      ],
      "execution_count": 25,
      "outputs": [
        {
          "output_type": "stream",
          "name": "stdout",
          "text": [
            "Hello Jupyter\n",
            "Hello Mars\n"
          ]
        }
      ]
    },
    {
      "cell_type": "markdown",
      "metadata": {
        "id": "DA5xAthD2ow5"
      },
      "source": [
        "## **Migration and Destruction**"
      ]
    },
    {
      "cell_type": "code",
      "metadata": {
        "id": "jMf6RctJ3qg6",
        "colab": {
          "base_uri": "https://localhost:8080/"
        },
        "outputId": "94791e20-2ce8-4e04-b7d2-e942532dd706"
      },
      "source": [
        "## Move files create a directory called Journal\n",
        "%%bash\n",
        "cd clase1\n",
        "mkdir Journal\n",
        "ls"
      ],
      "execution_count": 26,
      "outputs": [
        {
          "output_type": "stream",
          "name": "stdout",
          "text": [
            "clase1.txt\n",
            "Journal\n"
          ]
        }
      ]
    },
    {
      "cell_type": "code",
      "metadata": {
        "id": "nDZ2ou5u4KN_",
        "colab": {
          "base_uri": "https://localhost:8080/"
        },
        "outputId": "ce6d280b-e44d-426b-bd54-8db4a597f67e"
      },
      "source": [
        "## Create a file called prueba2.txt write \"Hello World\" on prueba2.txt\n",
        "%%bash\n",
        "cd clase1\n",
        "touch prueba2.txt\n",
        "echo \"HelloWorld\" > prueba2.txt\n",
        "cat prueba2.txt"
      ],
      "execution_count": 27,
      "outputs": [
        {
          "output_type": "stream",
          "name": "stdout",
          "text": [
            "HelloWorld\n"
          ]
        }
      ]
    },
    {
      "cell_type": "code",
      "metadata": {
        "id": "KpVOvOFs4oBF"
      },
      "source": [
        "## Move prueba2.txt to Journal use \"cp\" for copy a file in the same way\n",
        "%%bash\n",
        "mv clase1/prueba2.txt clase1/Journal"
      ],
      "execution_count": 28,
      "outputs": []
    },
    {
      "cell_type": "markdown",
      "metadata": {
        "id": "Y-9e8F9I1mw_"
      },
      "source": [
        "##**Self-Help**"
      ]
    },
    {
      "cell_type": "code",
      "metadata": {
        "id": "LpH8UWvq7H2S",
        "colab": {
          "base_uri": "https://localhost:8080/"
        },
        "outputId": "ec0561e1-0067-420a-ae2a-c43fd929003d"
      },
      "source": [
        "# Check the manual of the comman\n",
        "!man ls"
      ],
      "execution_count": 29,
      "outputs": [
        {
          "output_type": "stream",
          "name": "stdout",
          "text": [
            "This system has been minimized by removing packages and content that are\n",
            "not required on a system that users do not log into.\n",
            "\n",
            "To restore this content, including manpages, you can run the 'unminimize'\n",
            "command. You will still need to ensure the 'man-db' package is installed.\n"
          ]
        }
      ]
    },
    {
      "cell_type": "markdown",
      "metadata": {
        "id": "NOkQwMri5nIq"
      },
      "source": [
        "**Exercises**\n",
        "\n",
        "Use man to look up the flag for human-readable output from ls.\n",
        "Get help with man by typing man man into the console.\n",
        "Wouldn’t it be nice if there was a calendar command? Use apropos to look for such a command, then use man to read about how that command works."
      ]
    },
    {
      "cell_type": "markdown",
      "metadata": {
        "id": "vPuPOvsI_Jxk"
      },
      "source": [
        "## **Search**"
      ]
    },
    {
      "cell_type": "code",
      "metadata": {
        "id": "AFQQGEet8IT9",
        "colab": {
          "base_uri": "https://localhost:8080/"
        },
        "outputId": "b1492196-2fd9-4e63-bd8a-866b45f9aa31"
      },
      "source": [
        "## Download A file from the internet\n",
        "%%bash\n",
        "cd clase1\n",
        "wget http://seankross.com/notes/states.txt\n",
        "ls"
      ],
      "execution_count": 30,
      "outputs": [
        {
          "output_type": "stream",
          "name": "stdout",
          "text": [
            "clase1.txt\n",
            "Journal\n",
            "states.txt\n"
          ]
        },
        {
          "output_type": "stream",
          "name": "stderr",
          "text": [
            "--2024-01-31 02:46:06--  http://seankross.com/notes/states.txt\n",
            "Resolving seankross.com (seankross.com)... 185.199.110.153, 185.199.111.153, 185.199.108.153, ...\n",
            "Connecting to seankross.com (seankross.com)|185.199.110.153|:80... connected.\n",
            "HTTP request sent, awaiting response... 301 Moved Permanently\n",
            "Location: https://seankross.com/notes/states.txt [following]\n",
            "--2024-01-31 02:46:06--  https://seankross.com/notes/states.txt\n",
            "Connecting to seankross.com (seankross.com)|185.199.110.153|:443... connected.\n",
            "HTTP request sent, awaiting response... 200 OK\n",
            "Length: 472 [text/plain]\n",
            "Saving to: ‘states.txt’\n",
            "\n",
            "     0K                                                       100% 18.0M=0s\n",
            "\n",
            "2024-01-31 02:46:06 (18.0 MB/s) - ‘states.txt’ saved [472/472]\n",
            "\n"
          ]
        }
      ]
    },
    {
      "cell_type": "code",
      "metadata": {
        "id": "aU7ybeeE_RUC",
        "colab": {
          "base_uri": "https://localhost:8080/"
        },
        "outputId": "0a862d0f-42c2-4af4-b641-21ad0842f75e"
      },
      "source": [
        "# search a character within the document with \"grep\"\n",
        "%%bash\n",
        "cd clase1\n",
        "grep \"nia\" states.txt"
      ],
      "execution_count": 31,
      "outputs": [
        {
          "output_type": "stream",
          "name": "stdout",
          "text": [
            "California\n",
            "Pennsylvania\n",
            "Virginia\n",
            "West Virginia\n"
          ]
        }
      ]
    },
    {
      "cell_type": "markdown",
      "metadata": {
        "id": "zYA5Q42FUbQR"
      },
      "source": [
        "## **Find**"
      ]
    },
    {
      "cell_type": "code",
      "metadata": {
        "id": "kHNMYe9U_qIb",
        "colab": {
          "base_uri": "https://localhost:8080/"
        },
        "outputId": "b354d101-e276-4e62-d784-75bba78de965"
      },
      "source": [
        "# search a file in a directory with \"find\" and the flag -name\n",
        "%%bash\n",
        "cd clase1\n",
        "find ./ -name \"states.txt\""
      ],
      "execution_count": 32,
      "outputs": [
        {
          "output_type": "stream",
          "name": "stdout",
          "text": [
            "./states.txt\n"
          ]
        }
      ]
    },
    {
      "cell_type": "markdown",
      "metadata": {
        "id": "ov-jqN6fVqpq"
      },
      "source": [
        "## **Exercises**\n",
        "\n",
        "Search states.txt and canada.txt for lines that contain the word “New”.\n",
        "Make five text files containing the names of states that don’t contain one of each of the five vowels.\n",
        "Download the GitHub repository for this book and find out how many .html files it contains."
      ]
    },
    {
      "cell_type": "code",
      "metadata": {
        "id": "gUH6tEXCUZGK"
      },
      "source": [],
      "execution_count": null,
      "outputs": []
    },
    {
      "cell_type": "markdown",
      "metadata": {
        "id": "13RG3xzyUuxu"
      },
      "source": [
        "## Pipe"
      ]
    },
    {
      "cell_type": "code",
      "metadata": {
        "id": "qagqqRSxUwoL",
        "colab": {
          "base_uri": "https://localhost:8080/"
        },
        "outputId": "77e0b4a0-81b1-457b-b3a5-222ed2c2d5c6"
      },
      "source": [
        "# Use the \"|\" for output of the file as the input of another command\n",
        "%%bash\n",
        "cd clase1\n",
        "cat states.txt | head -n 5"
      ],
      "execution_count": 33,
      "outputs": [
        {
          "output_type": "stream",
          "name": "stdout",
          "text": [
            "Alabama\n",
            "Alaska\n",
            "Arizona\n",
            "Arkansas\n",
            "California\n"
          ]
        }
      ]
    },
    {
      "cell_type": "code",
      "metadata": {
        "id": "hpBeBa7IVzXg",
        "colab": {
          "base_uri": "https://localhost:8080/"
        },
        "outputId": "09813bc4-4ddf-4db4-8d02-e9c3af770553"
      },
      "source": [
        "# Count the number of states that end with a letter\n",
        "%%bash\n",
        "cd clase1\n",
        "grep \"[aeiou]$\" states.txt | wc -l"
      ],
      "execution_count": 34,
      "outputs": [
        {
          "output_type": "stream",
          "name": "stdout",
          "text": [
            "32\n"
          ]
        }
      ]
    },
    {
      "cell_type": "markdown",
      "metadata": {
        "id": "4BNPGq8BXusa"
      },
      "source": [
        "**Exercises**\n",
        "\n",
        "Use pipes to figure out how many US states contain the word “New.”\n",
        "\n",
        "Examine your ~/.bash_history to try to figure out how many unique commands you’ve ever used. (You may need to look up how to use the uniq and sort commands)."
      ]
    },
    {
      "cell_type": "code",
      "metadata": {
        "id": "d0o6l33jXP2i",
        "colab": {
          "base_uri": "https://localhost:8080/"
        },
        "outputId": "930a2f5d-ff54-47ea-cc4f-0dc5d6365bf0"
      },
      "source": [
        "# Count the number of states that end with a letter\n",
        "%%bash\n",
        "cd clase1\n",
        "grep \"New\" states.txt | wc -l"
      ],
      "execution_count": 35,
      "outputs": [
        {
          "output_type": "stream",
          "name": "stdout",
          "text": [
            "4\n"
          ]
        }
      ]
    },
    {
      "cell_type": "markdown",
      "metadata": {
        "id": "1afA6M3rTVah"
      },
      "source": [
        "##**Git**"
      ]
    },
    {
      "cell_type": "code",
      "metadata": {
        "id": "NfiOqLmOTYnr"
      },
      "source": [
        "## Enter to github with your account\n",
        "\n",
        "# git config --global user.name \"myUserName\"\n",
        "# git config --global user.email myName@email.com"
      ],
      "execution_count": null,
      "outputs": []
    },
    {
      "cell_type": "code",
      "metadata": {
        "id": "uKYBXERZUjLr"
      },
      "source": [
        "# Initialize the git in a folder\n",
        "\n",
        "# git init"
      ],
      "execution_count": null,
      "outputs": []
    },
    {
      "cell_type": "code",
      "metadata": {
        "id": "jhLjRi1nXcT_"
      },
      "source": [
        "# Add a file in git folder\n",
        "\n",
        "# git add readme.txt"
      ],
      "execution_count": null,
      "outputs": []
    },
    {
      "cell_type": "code",
      "metadata": {
        "id": "noR2dEmNXiIJ"
      },
      "source": [
        "# Commit changes in git\n",
        "\n",
        "# git commit -m \"added readme.txt\""
      ],
      "execution_count": null,
      "outputs": []
    },
    {
      "cell_type": "code",
      "metadata": {
        "id": "Ox8JdfmEYXao"
      },
      "source": [
        "# Undo changes in git\n",
        "\n",
        "# git reset --soft HEAD~"
      ],
      "execution_count": null,
      "outputs": []
    },
    {
      "cell_type": "markdown",
      "metadata": {
        "id": "sww4-QfaZRi1"
      },
      "source": [
        "Exercises\n",
        "\n",
        "Start a repository in a new directory.\n",
        "Create a new file in your new Git repository.\n",
        "Make sure Git is tracking the file and then create a new commit.Make changes to the file, and then commit these changes.\n",
        "Add two new files to your repository, but only commit one of them.\n",
        "What is the status of your repository after the commit?Undo the last commit, add the untracked file, and redo the commit."
      ]
    },
    {
      "cell_type": "markdown",
      "metadata": {
        "id": "_p2tkbVAyoaK"
      },
      "source": [
        "## **Git Branches**"
      ]
    },
    {
      "cell_type": "code",
      "metadata": {
        "id": "IoCYfjp0ZTZh"
      },
      "source": [
        "# List all branches\n",
        "\n",
        "# git branch"
      ],
      "execution_count": null,
      "outputs": []
    },
    {
      "cell_type": "code",
      "metadata": {
        "id": "KinAGJR-0ChB"
      },
      "source": [
        "# Create a new branch\n",
        "\n",
        "# git branch my-new-feature\n",
        "\n",
        "# Change to my-new-feature\n",
        "\n",
        "# git checkout my-new-feature"
      ],
      "execution_count": null,
      "outputs": []
    },
    {
      "cell_type": "code",
      "metadata": {
        "id": "fXt3dd62E7Yc"
      },
      "source": [
        "# Merge a branch to master\n",
        "\n",
        "# git checkout master\n",
        "# git merge my-new-feature"
      ],
      "execution_count": null,
      "outputs": []
    },
    {
      "cell_type": "markdown",
      "metadata": {
        "id": "vjJ8j1fPKiHQ"
      },
      "source": [
        "**Exercises**\n",
        "\n",
        "Start a new branch.\n",
        "Switch to that branch and add commits to it. Switch to an older branch and then merge the new branch into your current branch.\n",
        "Purposefully create and resolve a merge conflict."
      ]
    },
    {
      "cell_type": "markdown",
      "metadata": {
        "id": "iSwtwyXOk675"
      },
      "source": [
        "## **GitHub**"
      ]
    },
    {
      "cell_type": "code",
      "metadata": {
        "id": "UGIQapxjk6M-"
      },
      "source": [
        "## Connect git with github\n",
        "# git remote add origin https://github.com/seankross/my-first-repo.git"
      ],
      "execution_count": null,
      "outputs": []
    },
    {
      "cell_type": "code",
      "metadata": {
        "id": "ln0WXaftKk0J"
      },
      "source": [
        "# Push the master branch to remote gihub\n",
        "# git push -u origin master"
      ],
      "execution_count": null,
      "outputs": []
    }
  ]
}