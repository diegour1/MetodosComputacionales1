{
  "nbformat": 4,
  "nbformat_minor": 0,
  "metadata": {
    "colab": {
      "provenance": []
    },
    "kernelspec": {
      "name": "python3",
      "display_name": "Python 3"
    },
    "language_info": {
      "name": "python"
    }
  },
  "cells": [
    {
      "cell_type": "code",
      "source": [
        "import numpy as np\n",
        "import sympy as sym\n",
        "from sympy import symbols"
      ],
      "metadata": {
        "id": "n4S1r6r2mWmH"
      },
      "execution_count": 1,
      "outputs": []
    },
    {
      "cell_type": "code",
      "execution_count": 2,
      "metadata": {
        "id": "Mzj61U5K2lpj",
        "colab": {
          "base_uri": "https://localhost:8080/"
        },
        "outputId": "3cac8cf0-2ef0-448f-e091-94e6676acaa5"
      },
      "outputs": [
        {
          "output_type": "execute_result",
          "data": {
            "text/plain": [
              "(a, b, x, f(a), f(b), f((a+b)/2), f(x))"
            ]
          },
          "metadata": {},
          "execution_count": 2
        }
      ],
      "source": [
        "# su codigo aqui\n",
        "\n",
        "a = symbols('a')\n",
        "b = symbols('b')\n",
        "x = symbols(\"x\")\n",
        "f_a = symbols('f(a)')\n",
        "f_b = symbols('f(b)')\n",
        "f_m = symbols('f((a+b)/2)')\n",
        "f_x = symbols(\"f(x)\")\n",
        "\n",
        "\n",
        "a, b, x, f_a, f_b, f_m, f_x"
      ]
    },
    {
      "cell_type": "code",
      "source": [
        "f_x = (((x - (a + b)/2)*(x - b))/((a - (a + b)/2)*(a -b)))*f_a + ((((x - a)*(x -b))/(((a + b)/2 - a)*((a + b)/2 -b)))*f_m + ((((x - (a + b)/2)*(x - a))/((b - (a + b)/2)*(b - a)))*f_b))\n"
      ],
      "metadata": {
        "id": "yqTwp7M1mWgw"
      },
      "execution_count": 3,
      "outputs": []
    },
    {
      "cell_type": "code",
      "source": [
        "int_fx = sym.integrate(f_x, x)\n",
        "\n",
        "sym.simplify(int_fx.subs(x, b) - int_fx.subs(x, a))"
      ],
      "metadata": {
        "colab": {
          "base_uri": "https://localhost:8080/",
          "height": 53
        },
        "id": "s4_CSBIOpb7Y",
        "outputId": "b900a6bf-96ee-4ec9-9d1f-568a745961ac"
      },
      "execution_count": 4,
      "outputs": [
        {
          "output_type": "execute_result",
          "data": {
            "text/plain": [
              "-2*a*f((a+b)/2)/3 - a*f(a)/6 - a*f(b)/6 + 2*b*f((a+b)/2)/3 + b*f(a)/6 + b*f(b)/6"
            ],
            "text/latex": "$\\displaystyle - \\frac{2 a f((a+b)/2)}{3} - \\frac{a f(a)}{6} - \\frac{a f(b)}{6} + \\frac{2 b f((a+b)/2)}{3} + \\frac{b f(a)}{6} + \\frac{b f(b)}{6}$"
          },
          "metadata": {},
          "execution_count": 4
        }
      ]
    }
  ]
}