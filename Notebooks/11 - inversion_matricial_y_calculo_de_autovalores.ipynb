{
  "cells": [
    {
      "cell_type": "markdown",
      "metadata": {
        "id": "LCrKMubz0y4f"
      },
      "source": [
        "**Métodos computacionales 1**\n",
        "\n",
        "**Universidad de los Andes**"
      ]
    },
    {
      "cell_type": "code",
      "execution_count": 1,
      "metadata": {
        "id": "RdMsHs7qIA9V"
      },
      "outputs": [],
      "source": [
        "import numpy as np"
      ]
    },
    {
      "cell_type": "markdown",
      "metadata": {
        "id": "FvlRAwoosq7c"
      },
      "source": [
        "## Eliminación gaussiana con pivoteo parcial (repaso)\n"
      ]
    },
    {
      "cell_type": "code",
      "execution_count": 2,
      "metadata": {
        "id": "3PrZ2ku8swlQ"
      },
      "outputs": [],
      "source": [
        "def triangular_superior(A):\n",
        "  B = A.copy().astype(float)\n",
        "  n = B.shape[0]\n",
        "  for i in range(n):\n",
        "    indi_max = np.argmax(np.abs(B[i:, i]))\n",
        "    if indi_max > 0:\n",
        "      C = B[i].copy()\n",
        "      B[i] = B[i + indi_max]\n",
        "      B[i + indi_max] = C\n",
        "    for j in range(i+1, n):\n",
        "      B[j] = B[j] - (B[j, i]/B[i, i]) * B[i]\n",
        "  return B\n",
        "\n",
        "def matriz_diagonal(A_t):\n",
        "  B = A_t.copy().astype(float)\n",
        "  n = B.shape[0]\n",
        "  for i in range(n-1, -1, -1):\n",
        "    for j in range(i-1, -1, -1):\n",
        "      B[j] = (B[j, i]/B[i, i]) * B[i] - B[j]\n",
        "    B[i] = B[i] / B[i, i]\n",
        "  return B"
      ]
    },
    {
      "cell_type": "markdown",
      "metadata": {
        "id": "YDcZVzBAqrsD"
      },
      "source": [
        "## Inversión de matrices usando eliminación gaussiana\n",
        "\n",
        "Dada una matriz $A$ es posible encontrar su inversa haciendo eliminación gaussiana sobre la matriz $A$ y copiando cada operación sobre la matriz identidad.\n",
        "\n",
        "Ejemplo: Encontrar la inversa de $A$\n",
        "\n",
        "\\begin{equation}A=   \\left (\n",
        "      \\begin{array}{rrr}\n",
        "          2 &  1 &  3  \\\\\n",
        "         -1 &  2 &  4 \\\\\n",
        "          0 &  1 &  3\n",
        "      \\end{array}\n",
        "   \\right )\\end{equation}\n",
        "\n",
        "   \\begin{equation}\\left (\n",
        "      \\begin{array}{rrr:rrr}\n",
        "          2 &  1 &  3 & 1 & 0 & 0 \\\\\n",
        "         -1 &  2 &  4 & 0 & 1 & 0\\\\\n",
        "          0 &  1 &  3 & 0 & 0 & 1\n",
        "      \\end{array}\n",
        "   \\right )\\end{equation}"
      ]
    },
    {
      "cell_type": "code",
      "execution_count": 3,
      "metadata": {
        "colab": {
          "base_uri": "https://localhost:8080/"
        },
        "id": "kViDfnQhqtvN",
        "outputId": "72575145-9e7b-4096-88a4-2416732a6ed5"
      },
      "outputs": [
        {
          "output_type": "stream",
          "name": "stdout",
          "text": [
            "[[ 2.  1.  3.  1.  0.  0.]\n",
            " [-1.  2.  4.  0.  1.  0.]\n",
            " [ 0.  1.  3.  0.  0.  1.]]\n",
            "[[ 1.    0.    0.    0.5   0.   -0.5 ]\n",
            " [-0.    1.   -0.    0.75  1.5  -2.75]\n",
            " [ 0.    0.    1.   -0.25 -0.5   1.25]]\n",
            "inversa de A:\n",
            "[[ 0.5   0.   -0.5 ]\n",
            " [ 0.75  1.5  -2.75]\n",
            " [-0.25 -0.5   1.25]]\n",
            "comprobar inversa:\n",
            "[[1. 0. 0.]\n",
            " [0. 1. 0.]\n",
            " [0. 0. 1.]]\n",
            "[[ 1.  0. -0.]\n",
            " [ 0.  1. -0.]\n",
            " [ 0.  0.  1.]]\n"
          ]
        }
      ],
      "source": [
        "A = np.array([\n",
        "    [ 2, 1, 3],\n",
        "    [-1, 2, 4],\n",
        "    [ 0, 1, 3],\n",
        "]).astype(float)\n",
        "\n",
        "def matriz_inversa(A):\n",
        "  M_identidad = np.identity(A.shape[0])\n",
        "  B = np.concatenate((A, M_identidad), axis = 1)\n",
        "  print(B)\n",
        "  B_t = triangular_superior(B)\n",
        "  D = matriz_diagonal(B_t)\n",
        "  print(D)\n",
        "  return D[:, A.shape[0]:]\n",
        "\n",
        "inversa_A = matriz_inversa(A)\n",
        "print('inversa de A:')\n",
        "print(inversa_A)\n",
        "print('comprobar inversa:')\n",
        "print(np.round(inversa_A @ A, 14))\n",
        "print(np.round(A @ inversa_A, 14))"
      ]
    },
    {
      "cell_type": "markdown",
      "metadata": {
        "id": "vpjRRe9IiYZh"
      },
      "source": [
        "## Cálculo de determinantes\n",
        "\n",
        "llamemos $B$ a la matriz que resulta al realizar eliminación gaussiana sobre la matriz $A$, obteniendo una matriz triangular superior.\n",
        "\n",
        "Recordemos que\n",
        "\n",
        "* Intercambiar dos filas multiplica el determinante por -1\n",
        "* Multiplicar una fila por un escalar distinto de cero multiplica el determinante por el mismo escalar\n",
        "* Agregar a una fila un múltiplo escalar de otra no cambia el determinante.\n",
        "\n",
        "Entonces el determinante de A es el producto de la diagonal de B con $(-1)^d$ donde $d$ es el numero de pivoteos.\n",
        "\n",
        "$$\\det(A) = (-1)^d*\\prod\\operatorname{diag}(B)$$\n"
      ]
    },
    {
      "cell_type": "code",
      "execution_count": 4,
      "metadata": {
        "id": "24CVgO-zPXdL"
      },
      "outputs": [],
      "source": [
        "def triangular_superior(A):\n",
        "  B = A.copy().astype(float)\n",
        "  n = B.shape[0]\n",
        "  d = 0\n",
        "  for i in range(n):\n",
        "    indi_max = np.argmax(np.abs(B[i:, i]))\n",
        "    if indi_max > 0:\n",
        "      C = B[i].copy()\n",
        "      B[i] = B[i + indi_max]\n",
        "      B[i + indi_max] = C\n",
        "      d += 1\n",
        "    for j in range(i+1, n):\n",
        "      B[j] = B[j] - (B[j, i]/B[i, i]) * B[i]\n",
        "  return B, d\n",
        "\n",
        "def determinante(A):\n",
        "   B, d = triangular_superior(A)\n",
        "   prod = 1\n",
        "   for i in range(len(B)):\n",
        "        prod = prod * B[i, i]\n",
        "   prod = prod * (-1)**d\n",
        "   return prod"
      ]
    },
    {
      "cell_type": "code",
      "execution_count": 5,
      "metadata": {
        "colab": {
          "base_uri": "https://localhost:8080/"
        },
        "id": "CEw7vdopiXdK",
        "outputId": "d431e70b-cb66-48a2-c07e-336ba693cd4d"
      },
      "outputs": [
        {
          "output_type": "stream",
          "name": "stdout",
          "text": [
            "Determinante con nuestro método: 0.05318355416320932\n",
            "Determinante con numpy         : 0.05318355416320932\n"
          ]
        }
      ],
      "source": [
        " A = np.random.rand(3,3)\n",
        "\n",
        "print('Determinante con nuestro método:',determinante(A))\n",
        "print('Determinante con numpy         :',np.linalg.det(A))"
      ]
    },
    {
      "cell_type": "markdown",
      "metadata": {
        "id": "8dtnr6u57XB1"
      },
      "source": [
        "## Valores propios de una matriz\n",
        "\n",
        "Dada una matriz $A$ diagonalizable de tamaño $n \\times n$ sus valores propios se corresponden con las raíces del polinomio característico de $A$ que es\n",
        "\n",
        "$$P(z) = \\det(zI - A) = 0$$\n",
        "\n",
        "Buscar valores propios de forma numérica por este método se considera completamente inadecuado, el solo hecho de encontrar el polinómio caracteristico engendra inconvenientes, sobre todo para matrices grandes. Por lo cual se han desarrollado técnicas, de las cuales solo veremos introducciones básicas que nos permitirán encontrar los valores propios de algunas matrices, pero no para cualquier matriz cuadrada general, dadas las limitaciónes de tiempo de la clase.   \n",
        "\n",
        "## Método de las potencias\n",
        "\n",
        "Permite conocer el valor propio mayor (en valor absoluto) de una matriz $A$ diagonalizable de tamaño $n \\times n$. El método parte de algún vector $v_0$ que puede ser aleatorio y calcula iterativamente\n",
        "\n",
        "$$v_{k+1} = \\frac{Av_k}{\\|Av_k\\|}$$\n",
        "\n",
        "Entonces $v_k$ converge normalmente al autovector de mayor autovalor.\n",
        "\n",
        "Se asume que $A$ tiene un valor propio que es estrictamente mayor en magnitud que sus otros valores propios y el vector inicial $v_0$ tiene un componente distinto de cero en la dirección de un autovector asociado con el autovalor dominante.\n",
        "La aproximación al valor propio dominante $\\mu_k$ se puede calcular a partir del vector propio como\n",
        "$$\\mu_{k} = \\frac{v_{k}^{\\intercal}Av_{k}}{v_{k}^{\\intercal}v_{k}}$$\n",
        "\n",
        "\n",
        "\n",
        "**Ejemplo:** Encontrar el vector propio de mayor valor propio de:\n",
        "\n",
        "\\begin{equation}A =\n",
        "\\left[\\begin{matrix}\n",
        "1 & 2 & 3\\\\\n",
        "1 & 2 & 1\\\\\n",
        "3 & 2 & 1\\\\\n",
        "\\end{matrix}\\right]\\end{equation}\n"
      ]
    },
    {
      "cell_type": "code",
      "execution_count": 6,
      "metadata": {
        "id": "Q4A21gU_7U0d"
      },
      "outputs": [],
      "source": [
        "def metodo_de_potencias(A, v0, iteraciones:int):\n",
        "  Av0 = A @ v0\n",
        "  v = Av0 / (np.sqrt(sum(Av0 * Av0)))\n",
        "  if iteraciones == 1: return v\n",
        "  return metodo_de_potencias(A, v, iteraciones-1)\n",
        "\n",
        "def valor_propio(A, v_prop):\n",
        "  return (v_prop.T @ A @ v_prop) / (v_prop @ v_prop)\n"
      ]
    },
    {
      "cell_type": "code",
      "execution_count": 7,
      "metadata": {
        "colab": {
          "base_uri": "https://localhost:8080/"
        },
        "id": "1IR-twCf7Vgt",
        "outputId": "68534a76-1fad-4db6-d1f9-6ff0ce590527"
      },
      "outputs": [
        {
          "output_type": "stream",
          "name": "stdout",
          "text": [
            "vector propio aprox: [0.64793617 0.40044657 0.64793616]\n",
            "vector propio real: [0.64793616 0.40044657 0.64793616] \n",
            "\n",
            "valor propio dominante aprox: 5.23606797749979\n",
            "valor propio dominante real:  5.23606797749979\n"
          ]
        }
      ],
      "source": [
        "A = np.array([\n",
        "              [ 1, 2, 3],\n",
        "              [ 1, 2, 1],\n",
        "              [ 3, 2, 1]\n",
        "])\n",
        "v0 = np.array([1, 0, 0])\n",
        "iteraciones = 20\n",
        "\n",
        "v = metodo_de_potencias(A, v0, iteraciones)\n",
        "\n",
        "v_teo = np.array([1, (1 + np.sqrt(5))*0.5 - 1, 1])\n",
        "print('vector propio aprox:', v)\n",
        "print('vector propio real:', v_teo/np.sqrt(v_teo @ v_teo), '\\n')\n",
        "\n",
        "mu = valor_propio(A, v)\n",
        "print('valor propio dominante aprox:', mu)\n",
        "print('valor propio dominante real: ', 3 + np.sqrt(5))"
      ]
    },
    {
      "cell_type": "markdown",
      "metadata": {
        "id": "0d6bm1w97WE8"
      },
      "source": [
        "## Algoritmo $QR$\n",
        "Es un procedimiento para calcular los valores propios de una matriz. La idea básica es realizar una descomposición $QR$, escribiendo la matriz como un producto de una matriz ortogonal y una matriz triangular superior, multiplicar los factores en el orden inverso e iterar.\n",
        "\n",
        "El algoritmo $QR$ consiste en  multiplicar los factores $Q$ y $R$ en el orden inverso para obtener $A_0$ que es el resultado de la primera iteración\n",
        "\n",
        "$$A_0 = R_0 Q_0$$\n",
        "En general\n",
        "$$A_{k+1} = R_k Q_k$$\n",
        "Se puede sustituir a $R_k$ haciendo\n",
        "\n",
        "$$A_{k+1} = R_k Q_k = Q_k^{-1} Q_k R_k Q_k = Q_k^{-1} A_k Q_k $$\n",
        "\n",
        "$$A_{k+1} = Q_k^{\\mathsf{T}} A_k Q_k$$\n",
        "\n",
        "Al iterar múltiples veces, los valores en la diagonal de $A_k$ se aproximan a los valores propios de $A$. En la forma como está planteado acá este algoritmo no puede encontrar valores propios complejos y tampoco funcionará para todos los casos con valores reales. La intención es simplemente dar algunas nociones que sirvan de introducción a este extenso tema.\n",
        "\n",
        "## Descomposición $QR$\n",
        "\n",
        "Consiste en una factorización de una matriz $A$ en un producto $A  =  QR$ de una matriz ortogonal $Q$ y una matriz triangular superior $R$. Existen varios métodos para calcular la descomposición $QR$, como por medio del proceso de Gram-Schmidt, transformaciones de Householder o rotaciones de Givens. Se explica a continuación el proceso de Gram-Schmidt. Podemos nombrar a las columnas de $A$ y $Q$ así:\n",
        "\n",
        "\\begin{equation}A =\n",
        "\\left(\\begin{matrix}\n",
        "| & | &  & |\\\\\n",
        "a_0 & a_1 & \\cdots & a_{n-1}\\\\\n",
        "| & | &  & |\\\\\n",
        "\\end{matrix}\\right)\\,\\,\\,\\,\\,\\,\\,\\,\\,\\,Q =\n",
        "\\left(\\begin{matrix}\n",
        "| & | &  & |\\\\\n",
        "q_0 & q_1 & \\cdots & q_{n-1}\\\\\n",
        "| & | &  & |\\\\\n",
        "\\end{matrix}\\right)\\end{equation}\n",
        "\n",
        "donde\n",
        "\n",
        "\\begin{align}\n",
        "  q_0 = {} &\\frac{a_0}{||a_0||} \\\\\n",
        "  q_1 ={} & \\frac{a_1^{\\perp}}{||a_1^{\\perp}||} \\,\\,\\,\\,\\,\\,\\,\\,\\,\\,\\,\\,\\,\\,   a_1^{\\perp} = {} a_1 - \\left \\langle a_1, q_0  \\right \\rangle q_0 \\\\\n",
        "  q_2 ={} & \\frac{a_2^{\\perp}}{||a_2^{\\perp}||} \\,\\,\\,\\,\\,\\,\\,\\,\\,\\,\\,\\,\\,\\,   a_2^{\\perp} = {} a_2 - \\left \\langle a_2, q_0  \\right \\rangle q_0 - \\left \\langle a_2, q_1  \\right \\rangle q_1\\\\\n",
        "  & \\vdots \\\\\n",
        "  q_j ={} & \\frac{a_j^{\\perp}}{||a_j^{\\perp}||} \\,\\,\\,\\,\\,\\,\\,\\,\\,\\,\\,\\,\\,\\,   a_j^{\\perp} = {} a_{j} - \\sum_{i = 0}^{j-1}\\left \\langle a_j, q_i  \\right \\rangle q_i\n",
        "\\end{align}\n"
      ]
    },
    {
      "cell_type": "code",
      "execution_count": 9,
      "metadata": {
        "id": "tz2JCpTKjTd-"
      },
      "outputs": [],
      "source": [
        "#Teter en cuenta que este algoritmo solo encuetra valores propios para algunos casos\n",
        "#El aogoritmo más general se escapa del alcance de este curso\n",
        "def calcula_Q(A):\n",
        "  n = A.shape[0]\n",
        "  Q = np.zeros(A.shape)\n",
        "  Q[:, 0] = A[:, 0] / norm(A[:, 0])\n",
        "  for j in range(1,n):\n",
        "    Q[:,j] = calcula_qj(Q,A[:,j],j,n)\n",
        "  return Q\n",
        "\n",
        "def calcula_qj(Q,aj,j,n):\n",
        "  suma = np.zeros(n)\n",
        "  for i in range(j):\n",
        "    suma += (aj @ Q[:, i])*Q[:, i]\n",
        "  aj_p = aj - suma\n",
        "  return aj_p / norm(aj_p)\n",
        "\n",
        "def norm(v):\n",
        "  return np.sqrt(v @ v)\n",
        "\n",
        "def algoritmo_QR(A,iteraciones):\n",
        "  Ak = A.copy().astype(float)\n",
        "  for k in range(iteraciones):\n",
        "    Qk = calcula_Q(Ak)\n",
        "    Ak = Qk.T @ Ak @ Qk\n",
        "  return np.diag(Ak)"
      ]
    },
    {
      "cell_type": "code",
      "execution_count": 10,
      "metadata": {
        "colab": {
          "base_uri": "https://localhost:8080/"
        },
        "id": "3n2EZrshHkfw",
        "outputId": "8fcce297-5022-4f3d-c706-57e1f91d6835"
      },
      "outputs": [
        {
          "output_type": "stream",
          "name": "stdout",
          "text": [
            "valores propios con nuestro método:\n",
            "[ 5.23606798 -2.          0.76393202] \n",
            "\n",
            "valores propios con numpy:\n",
            "[ 5.23606798 -2.          0.76393202]\n"
          ]
        }
      ],
      "source": [
        "A = np.array([\n",
        "              [ 1, 2, 3],\n",
        "              [ 1, 2, 1],\n",
        "              [ 3, 2, 1]\n",
        "])\n",
        "\n",
        "vals_cal = algoritmo_QR(A,15)\n",
        "vals = np.linalg.eigvals(A)\n",
        "\n",
        "print('valores propios con nuestro método:')\n",
        "print(np.round(vals_cal,10),'\\n')\n",
        "print('valores propios con numpy:')\n",
        "print(np.round(vals,10))\n"
      ]
    },
    {
      "cell_type": "markdown",
      "source": [
        "## Notas adicionales"
      ],
      "metadata": {
        "id": "j8rK1o7Y2SKs"
      }
    },
    {
      "cell_type": "markdown",
      "source": [
        "### Pseudocodigo: Gram-Schmidt, descomposición QR"
      ],
      "metadata": {
        "id": "14GAckok2U4H"
      }
    },
    {
      "cell_type": "code",
      "source": [
        "np.random.seed(0)\n",
        "\n",
        "A = np.random.randint(1, 15, (2, 2))\n",
        "\n",
        "a_1 = A[:, 0]\n",
        "a_2 = A[:, 1]\n",
        "\n",
        "q_1 = a_1 / np.linalg.norm(a_1)\n",
        "r_11 = np.linalg.norm(a_1)\n",
        "\n",
        "r_12 = np.dot(a_2, q_1)\n",
        "a_2_ll = r_12*q_1\n",
        "a_2_p = a_2 - a_2_ll\n",
        "q_2 = a_2_p / np.linalg.norm(a_2_p)\n",
        "r_22 = np.linalg.norm(a_2_p)\n",
        "\n",
        "Q = np.zeros((2, 2))\n",
        "Q[:, 0] = q_1\n",
        "Q[:, 1] = q_2\n",
        "\n",
        "R = np.array([[r_11, r_12], [0, r_22]])\n",
        "\n",
        "A, Q, R, Q @ R"
      ],
      "metadata": {
        "colab": {
          "base_uri": "https://localhost:8080/"
        },
        "id": "YdcyzPDY2h3x",
        "outputId": "23a9de51-9b3c-47b9-8e1c-b8f1ed59e79f"
      },
      "execution_count": 11,
      "outputs": [
        {
          "output_type": "execute_result",
          "data": {
            "text/plain": [
              "(array([[13,  6],\n",
              "        [ 1,  4]]),\n",
              " array([[ 0.99705449, -0.0766965 ],\n",
              "        [ 0.0766965 ,  0.99705449]]),\n",
              " array([[13.03840481,  6.28911291],\n",
              "        [ 0.        ,  3.52803895]]),\n",
              " array([[13.,  6.],\n",
              "        [ 1.,  4.]]))"
            ]
          },
          "metadata": {},
          "execution_count": 11
        }
      ]
    },
    {
      "cell_type": "markdown",
      "source": [
        "### Pseudocodigo: Algoritmo QR"
      ],
      "metadata": {
        "id": "O9kZDF7b3DOg"
      }
    },
    {
      "cell_type": "code",
      "source": [
        "A_0 = A\n",
        "Q_0 = calcula_Q(A_0)\n",
        "A_1 = Q_0.T @ A_0 @ Q_0\n",
        "\n",
        "Q_1 = calcula_Q(A_1)\n",
        "A_2 = Q_1.T @ A_1 @ Q_1\n",
        "\n",
        "A_0, A_1, A_2"
      ],
      "metadata": {
        "colab": {
          "base_uri": "https://localhost:8080/"
        },
        "id": "kR9YyrSqEGl3",
        "outputId": "18c3d053-6285-4c4f-d4d6-af754a076300"
      },
      "execution_count": 12,
      "outputs": [
        {
          "output_type": "execute_result",
          "data": {
            "text/plain": [
              "(array([[13,  6],\n",
              "        [ 1,  4]]),\n",
              " array([[13.48235294,  5.27058824],\n",
              "        [ 0.27058824,  3.51764706]]),\n",
              " array([[13.58950637,  5.06844795],\n",
              "        [ 0.06844795,  3.41049363]]))"
            ]
          },
          "metadata": {},
          "execution_count": 12
        }
      ]
    },
    {
      "cell_type": "code",
      "source": [
        "A_0 = A\n",
        "\n",
        "for i in range(100):\n",
        "  Q_0 = calcula_Q(A_0)\n",
        "  A_1 = Q_0.T @ A_0 @ Q_0\n",
        "  A_0 = A_1\n",
        "\n",
        "np.diagonal(A_0), np.linalg.eigvals(A)"
      ],
      "metadata": {
        "colab": {
          "base_uri": "https://localhost:8080/"
        },
        "id": "IJ1o_-AGFfoe",
        "outputId": "1b4d1051-de14-4266-8061-2fd8bf65b369"
      },
      "execution_count": 13,
      "outputs": [
        {
          "output_type": "execute_result",
          "data": {
            "text/plain": [
              "(array([13.62347538,  3.37652462]), array([13.62347538,  3.37652462]))"
            ]
          },
          "metadata": {},
          "execution_count": 13
        }
      ]
    },
    {
      "cell_type": "markdown",
      "metadata": {
        "id": "yXB4GwHiPXdO"
      },
      "source": [
        "**Referencias:**\n",
        "\n",
        "**Universidad de los Andes**\n",
        "\n",
        "**Profesores: Diego Alberto Castro, Diego Hernando Useche**"
      ]
    }
  ],
  "metadata": {
    "colab": {
      "provenance": [],
      "toc_visible": true
    },
    "kernelspec": {
      "display_name": "Python 3",
      "language": "python",
      "name": "python3"
    },
    "language_info": {
      "codemirror_mode": {
        "name": "ipython",
        "version": 3
      },
      "file_extension": ".py",
      "mimetype": "text/x-python",
      "name": "python",
      "nbconvert_exporter": "python",
      "pygments_lexer": "ipython3",
      "version": "3.8.10"
    }
  },
  "nbformat": 4,
  "nbformat_minor": 0
}