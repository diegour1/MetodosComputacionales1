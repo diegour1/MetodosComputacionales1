{
 "cells": [
  {
   "cell_type": "markdown",
   "metadata": {
    "id": "BfeOSo210jsG"
   },
   "source": [
    "**Métodos computacionales 1**\n",
    "\n",
    "**Universidad de los Andes**"
   ]
  },
  {
   "cell_type": "markdown",
   "metadata": {
    "id": "a_uYLbKOWWZI"
   },
   "source": [
    "## Ajuste lineal de datos (mínimos cuadrados)\n",
    "\n",
    "En muchas ocasiones se quiere encontrar la recta que mejor se ajusta a una nube de puntos, por ejemplo, en un espacio de dos dimensiones.\n",
    "Una forma de lograr esto es medir la distancia en el eje $y$ que existe entre la recta y cada punto de la nube.  "
   ]
  },
  {
   "cell_type": "code",
   "execution_count": null,
   "metadata": {
    "id": "ANb7k6fSWG-O"
   },
   "outputs": [],
   "source": [
    "import matplotlib.pyplot as plt\n",
    "import numpy as np\n",
    "plt.style.use('dark_background')"
   ]
  },
  {
   "cell_type": "code",
   "execution_count": 19,
   "metadata": {
    "colab": {
     "base_uri": "https://localhost:8080/",
     "height": 265
    },
    "id": "5yNI1Taravys",
    "outputId": "f9a7536c-0893-4b9d-e2ee-83246ccac120"
   },
   "outputs": [
    {
     "data": {
      "image/png": "[encoded data removed]",
      "text/plain": [
       "<Figure size 432x288 with 1 Axes>"
      ]
     },
     "metadata": {},
     "output_type": "display_data"
    }
   ],
   "source": [
    "x = [1, 2, 3, 4, 5]\n",
    "y = [0.6, 3, 2, 3.5, 5.4]\n",
    "\n",
    "for i in range(len(x)):\n",
    "  plt.plot([i + 1, x[i]], [i + 1, y[i]], 'r', linewidth = 3.0) \n",
    "\n",
    "plt.plot([0.5, 5.5], [0.5, 5.5], 'g', linewidth = 2.0)   # dibuja una línea\n",
    "plt.plot(x, y, 'bo')     # dibuja puntos\n",
    "plt.show()"
   ]
  },
  {
   "cell_type": "markdown",
   "metadata": {
    "id": "KN4h3ZUxWVCB"
   },
   "source": [
    "En la figura anterior se muestran en rojo las distancias entre cada punto (en azul) y la recta (en verde). \n",
    "\n",
    "Podemos llamar las coordenadas de cada punto azul como ($x_i, y_i$).\n",
    "Si evaluamos la ecuación de la recta ($y_i'=mx_i+b$) en cada valor $x_i$, obtenemos las coordenadas verticales de los puntos teóricos.\n",
    "para obtener las distancias (líneas rojas) se hace simplemente la diferencia entre las dos alturas.\n",
    "$$y'_i - y_i$$\n",
    "Esta distancia da una medida del error entre el modelo (la línea) y los puntos. Para tener solo cantidades positivas se eleva al cuadrado:\n",
    "$$(y'_i - y_i)^2$$\n",
    "si se suman todos los cuadrados tendremos una medida del error total\n",
    "$$\\sum_{i=1}^{i=n}(y'_i - y_i)^2$$\n",
    "Se desea que el valor del error sea el más pequeño posible por lo que se desea encontrar el valor mínimo de la ecuación anterior. \n",
    "Al tratarse de una función cuadrática positiva, el mínimo se puede hallar simplemente derivando respecto a $m$ e igualando a cero y repitiendo el proceso para $b$:\n",
    "\n",
    "$$\\frac{\\partial \\sum(y'_i - y_i)^2}{\\partial m}=0$$\n",
    "$$\\frac{\\partial \\sum(y'_i - y_i)^2}{\\partial b}=0$$\n",
    "Sustituyendo a $y_i'$\n",
    "$$\\frac{\\partial \\sum(mx_i+b - y_i)^2}{\\partial m}=0$$\n",
    "$$\\frac{\\partial \\sum(mx_i+b - y_i)^{2}}{\\partial b}=0$$\n",
    "Con esto se obtiene\n",
    "$$\\sum_{i=1}^{n} y_i = nb+ m\\sum_{i=1}^n x_i$$\n",
    "$$\\sum_{i=1}^{n} x_iy_i = b\\sum_{i=1}^{n}+ m\\sum_{i=1}^n x_i^2$$\n",
    "Resolviendo para $m$ y $b$ se tiene\n",
    "$$m = \\frac{\\sum x_iy_i-\\frac{1}{n}\\sum x_i \\sum y_i}{\\sum x_i^2 - \\frac{1}{n}\\left(\\sum x_i\\right)^2}$$\n",
    "\n",
    "$$b = \\frac{1}{n}\\sum y_i - \\frac{m}{n}\\sum x_i$$\n",
    "\n",
    "A continuación, se muestra un ejemplo de implementación de estas ecuaciones:"
   ]
  },
  {
   "cell_type": "code",
   "execution_count": null,
   "metadata": {
    "colab": {
     "base_uri": "https://localhost:8080/",
     "height": 265
    },
    "id": "L3dKasGx4wwF",
    "outputId": "136931f3-a988-479d-c2f3-a99fa72e8ef2"
   },
   "outputs": [],
   "source": [
    "pts = 100\n",
    "amp = 2\n",
    "\n",
    "x = np.linspace(1, 20, pts).reshape(-1, 1)\n",
    "y = np.random.randn()*(amp*np.random.randn(pts, 1) + x) + np.random.randn()*10\n",
    "\n",
    "sumx = np.sum(x)\n",
    "sumy = np.sum(y)\n",
    "\n",
    "m = (np.sum(x*y) - sumx*sumy / pts)/(np.sum(x*x) - sumx**2/pts)\n",
    "b = (sumy - m*sumx)/pts \n",
    "\n",
    "plt.plot(x, y, 'o')\n",
    "plt.plot([x[0], x[-1]], [m*x[0] + b, m*x[-1] + b], 'r', linewidth = 3)\n",
    "plt.show()"
   ]
  },
  {
   "cell_type": "markdown",
   "metadata": {
    "id": "RQXqJgflIQET"
   },
   "source": [
    "## Ajuste lineal (método matricial)\n",
    "\n",
    "\n",
    "Supongamos que tenemos un sistema inconsistente de ecuaciones que no cumplen\n",
    "\n",
    "$$\\textbf{P}\\vec v = \\vec y$$\n",
    "\n",
    "o escrito de forma más explicita \n",
    "\n",
    "$$\\begin{bmatrix}\n",
    "1 && x_1\\\\ \n",
    "1 && x_2\\\\ \n",
    "\\vdots && \\vdots\\\\ \n",
    "1 && x_n\n",
    "\\end{bmatrix}\n",
    "\\begin{bmatrix}\n",
    "a\\\\ \n",
    "b\\\\ \n",
    "\\end{bmatrix}=\\begin{bmatrix}\n",
    "y_1\\\\ \n",
    "y_2\\\\ \n",
    "\\vdots \\\\ \n",
    "y_n\n",
    "\\end{bmatrix}$$\n",
    "\n",
    "de forma que $\\vec y$ no se encuentra en el espacio columna de $\\textbf{P}$. Sin embargo, la proyección del vector $\\vec y$ sobre el espacio columna de $\\textbf{P}$ se corresponde con la menor distancia entre dicho espacio y $\\vec y$. Entonces para minimizar esta distancia\n",
    "$$\\left \\| \\vec y - \\textbf{P}\\vec v^{*} \\right \\|$$\n",
    "se tiene que $$\\textbf{P}\\vec v^{*} = \\text{Proy}_{C(\\textbf{P})}\\vec y$$ \n",
    "al restar $\\vec y$ a cada lado de la igualdad obtenemos un vector que es ortogonal al espacio columna de $\\textbf{P}$ \n",
    "\n",
    "$$\\textbf{P}\\vec v^{*}-\\vec y = \\text{Proy}_{C(\\textbf{P})}\\vec y - \\vec y$$ \n",
    "Es decir $\\textbf{P}\\vec v^{*}-\\vec y \\in C(P)^{\\perp}$.\n",
    "Teniendo en cuenta que este espacio ortogonal es el espacio izquierdo nulo de $\\textbf{P}^{\\perp}$, que se nota como $N(\\textbf P^{\\intercal})$\n",
    "$$C(P)^{\\perp} = N(\\textbf P^{\\intercal})$$\n",
    "Entonces\n",
    "$$\\textbf{P}\\vec v^{*}-\\vec y \\in N(\\textbf P^{\\intercal})$$\n",
    "Al estar $\\textbf{P}\\vec v^{*}-\\vec y$ en $N(\\textbf P^{\\intercal})$ significa que si se multiplica por izquierda por $\\textbf P^{\\intercal}$ nos dará como resultado el vector cero.\n",
    "$$\\textbf P^{\\intercal}(\\textbf{P}\\vec v^{*}-\\vec y)=\\vec 0$$\n",
    "Distribuyendo\n",
    "$$\\textbf P^{\\intercal}\\textbf{P}\\vec v^{*}-\\textbf P^{\\intercal}\\vec y=\\vec 0$$\n",
    "Sumando $\\textbf P^{\\intercal}\\vec y$ en ambos extremos de la igualdad\n",
    "$$\\textbf P^{\\intercal}\\textbf{P}\\vec v^{*}=\\textbf P^{\\intercal}\\vec y$$\n",
    "Multiplicando ambos extremos por izquierda por $(\\textbf P^{\\intercal}\\textbf{P})^{-1}$ y simplificando se tiene\n",
    "$$\\vec v^{*}=(\\textbf P^{\\intercal}\\textbf{P})^{-1}\\textbf P^{\\intercal}\\vec y$$\n",
    "Así hemos encontrado los parámetros que minimizan la distancia $\\left \\| \\vec y - \\textbf{P}\\vec v^{*} \\right \\|$, los componentes de $\\vec v^*$ son coeficientes del ajuste buscado.\n",
    "\n",
    "Veamos un ejemplo en un espacio de 2 dimensiones en Python:"
   ]
  },
  {
   "cell_type": "code",
   "execution_count": null,
   "metadata": {
    "colab": {
     "base_uri": "https://localhost:8080/",
     "height": 265
    },
    "id": "EwO-odsE7b18",
    "outputId": "745632a9-9331-464a-f4fb-ad0fdcc470d6"
   },
   "outputs": [],
   "source": [
    "pts = 300\n",
    "amp = 2\n",
    "\n",
    "x = np.linspace(1, 20, pts).reshape(-1, 1)\n",
    "y = np.random.randn()*(amp*np.random.randn(pts, 1) + x) + np.random.randn()*10\n",
    "\n",
    "P = np.array([np.ones([pts, 1]), x]).reshape(2, pts).T\n",
    "v = (np.linalg.inv(P.T @ P) @ P.T) @ y\n",
    "b, m = v\n",
    "\n",
    "plt.plot(x, y, 'o')\n",
    "plt.plot([x[0], x[-1]], [m*x[0] + b, m*x[-1] + b], 'r', linewidth=3)\n",
    "plt.show()"
   ]
  },
  {
   "cell_type": "markdown",
   "metadata": {
    "id": "Q9JylV7RSutz"
   },
   "source": [
    "## Solución de sistemas de ecuaciones lineales por eliminación gaussiana\n",
    "\n",
    "El algoritmo es el siguiente:\n",
    "- Ir a la primera columna número cero de izquierda a derecha.\n",
    "- Si la primera fila tiene un cero en esta columna, intercambiarlo con otra que no lo tenga.\n",
    "- Luego, obtener ceros debajo de este elemento delantero, sumando múltiplos adecuados del renglón superior a los renglones debajo de él.\n",
    "- Cubrir el renglón superior y repetir el proceso anterior con la submatriz restante. Repetir con el resto de los renglones (en este punto la matriz se encuentra en forma escalonada).\n",
    "- Comenzando con el último renglón no cero, avanzar hacia arriba: para cada renglón obtener 1 delantero e introducir ceros arriba de este sumando múltiplos correspondientes a los renglones correspondientes.\n",
    "\n",
    "**Ejemplo:** Resolver el siguiente sistema de ecuaciones\n",
    "\n",
    "El sistema de 3 ecuaciones con 3 incognitas\n",
    "\n",
    "$$      \\begin{array}{rrrcr}\n",
    "          2x & + y &   -z & = &   8 \\\\\n",
    "         -3x & - y & + 2z & = & -11 \\\\\n",
    "         -2x & + y & + 2z & = &  -3\n",
    "      \\end{array}$$\n",
    "\n",
    "se puede representar con la siguiente matriz aumentada:\n",
    "\n",
    "$$   \\left (\n",
    "      \\begin{array}{rrr:r}\n",
    "          2 &  1 & -1 &   8 \\\\\n",
    "         -3 & -1 &  2 & -11 \\\\\n",
    "         -2 &  1 &  2 &  -3\n",
    "      \\end{array}\n",
    "   \\right )$$\n",
    "\n",
    "A modo de ejemplo, se muestra un paso del algoritmo de eliminación gaussiana: Sumando a la segunda fila, la primera multiplicada por $\\frac{3}{2}$, y a la tercera, la2001122 primera fila:\n",
    "$$   \\left (\n",
    "      \\begin{array}{rrr:r}\n",
    "         2 & 1           & -1          & 8 \\\\\n",
    "         0 & \\frac{1}{2} & \\frac{1}{2} & 1 \\\\\n",
    "         0 & 2           & 1           & 5 \n",
    "      \\end{array}\n",
    "   \\right )$$"
   ]
  },
  {
   "cell_type": "code",
   "execution_count": null,
   "metadata": {},
   "outputs": [],
   "source": [
    "def triangular_superior(A):\n",
    "    B = A.copy().astype(float)\n",
    "    n = B.shape[0]\n",
    "    for i in range(n): # recorrido por las columnas\n",
    "        for j in range(i+1, n): # recorrido por las filas\n",
    "            B[j] = ((B[j, i])/B[i, i]) * B[i] - B[j]\n",
    "            # B[2] = (B[2, 1] / B[1, 1]) * B[1] - B[2]\n",
    "            # [0, 0, -3, -3]= (2 / 0.5) * [0, 1/2, 1/2, 1] - [0, 2, 1, 5]\n",
    "    return B"
   ]
  },
  {
   "cell_type": "code",
   "execution_count": null,
   "metadata": {
    "id": "rmzrOh37UBHl"
   },
   "outputs": [],
   "source": [
    "def matriz_diagonal(A_t):\n",
    "  B = A_t.copy().astype(float)\n",
    "  n = B.shape[0]\n",
    "  for i in range(n - 1, -1, -1):\n",
    "    for j in range(i - 1, -1, -1):\n",
    "      B[j] = (B[j, i]/B[i, i]) * B[i] - B[j]\n",
    "\n",
    "    B[i] = B[i] / B[i, i]\n",
    "  return B"
   ]
  },
  {
   "cell_type": "code",
   "execution_count": null,
   "metadata": {
    "colab": {
     "base_uri": "https://localhost:8080/"
    },
    "id": "YUu3VvXdmITt",
    "outputId": "9b1b8b8f-5a09-4856-d516-ad907561b379"
   },
   "outputs": [],
   "source": [
    "A = np.array([\n",
    "    [2, 1, -1, 8],\n",
    "    [-3, -1, 2, -11],\n",
    "    [-2, 1, 2, -3]\n",
    "])\n",
    "A_t = triangular_superior(A)\n",
    "D = matriz_diagonal(A_t)\n",
    "print(D)\n",
    "solucion = D[:, -1]\n",
    "print(solucion)\n",
    "print('comprobar solución')\n",
    "print(A[:, 0:-1] @ solucion)"
   ]
  },
  {
   "cell_type": "markdown",
   "metadata": {
    "id": "SKcOVGcsnvM2"
   },
   "source": [
    "## Eliminación gaussiana con pivoteo parcial\n",
    "\n",
    "Si aparecen ceros a lo largo de la diagonal de la matriz que representa el sistema de ecuaciónes el método anteriormente expuesto fallará, una forma versión más robusta del algoritmo es la eliminación gaussiana con pivoteo parcial, el cual realizan intercambios de filas en la matriz de forma tal que en la diagonal quede el elemento más grande en valor absoluto, comparado con los demas elementos de la columna a la que pertenece cada elemento diagonal.\n",
    "\n",
    "**Ejemplo:** Resolver el siguiente sistema de ecuaciones:\n",
    "\n",
    "$$      \\begin{array}{rrrcr}\n",
    "           & - 2y &   -z & = &   -14 \\\\\n",
    "         2x & + 3y & + z & = & 1 \\\\\n",
    "         3x & + y & - z & = & 1\n",
    "      \\end{array}$$\n",
    "\n",
    "se puede representar con la siguiente matriz aumentada:\n",
    "\n",
    "$$   \\left (\n",
    "      \\begin{array}{rrr:r}\n",
    "          0 & -2 & -1 & -14 \\\\\n",
    "          2 &  3 &  1 &   1 \\\\\n",
    "          3 &  1 & -1 &   1\n",
    "      \\end{array}\n",
    "   \\right )$$"
   ]
  },
  {
   "cell_type": "code",
   "execution_count": null,
   "metadata": {
    "id": "yAonFDPln3cz"
   },
   "outputs": [],
   "source": [
    "def triangular_superior_con_pivoteo(A):\n",
    "  B = A.copy().astype(float)\n",
    "  n = B.shape[0]\n",
    "  for i in range(n):\n",
    "    indi_max = np.argmax(np.abs(B[i:, i]))\n",
    "    if indi_max > 0:\n",
    "      C = B[i].copy()\n",
    "      B[i] = B[i + indi_max]\n",
    "      B[i + indi_max] = C\n",
    "    for j in range(i + 1, n):      \n",
    "      B[j] = (B[j, i]/B[i, i]) * B[i] - B[j]\n",
    "  return B\n",
    "  "
   ]
  },
  {
   "cell_type": "code",
   "execution_count": null,
   "metadata": {
    "colab": {
     "base_uri": "https://localhost:8080/"
    },
    "id": "84GLSBXipF5A",
    "outputId": "4a6d111c-358a-4fe9-d9cd-effcb9968ee3"
   },
   "outputs": [],
   "source": [
    "A = np.array([\n",
    "              [0, -2, -1, -14],\n",
    "              [2, 3, 1, 1],\n",
    "              [3, 1, -1, 1]\n",
    "])\n",
    "\n",
    "A_t = triangular_superior_con_pivoteo(A)\n",
    "D = matriz_diagonal(A_t)\n",
    "print(D)\n",
    "solucion = D[:, -1]\n",
    "print(solucion)\n",
    "print('comprobar solución')\n",
    "print(A[:, 0:-1] @ solucion)"
   ]
  },
  {
   "cell_type": "code",
   "execution_count": null,
   "metadata": {},
   "outputs": [],
   "source": [
    "np.linalg.solve(A[:, 0:-1], A[:, -1])"
   ]
  },
  {
   "cell_type": "markdown",
   "metadata": {},
   "source": [
    "**Referencias:**\n",
    "\n",
    "**Universidad de los Andes**\n",
    "\n",
    "**Profesor: Diego Alberto Castro Rodríguez**"
   ]
  },
  {
   "cell_type": "code",
   "execution_count": null,
   "metadata": {},
   "outputs": [],
   "source": []
  }
 ],
 "metadata": {
  "colab": {
   "collapsed_sections": [],
   "name": "09_fit_lineal_y_solucion_sistema_de_ecuaciones.ipynb",
   "provenance": []
  },
  "kernelspec": {
   "display_name": "Python 3",
   "language": "python",
   "name": "python3"
  },
  "language_info": {
   "codemirror_mode": {
    "name": "ipython",
    "version": 3
   },
   "file_extension": ".py",
   "mimetype": "text/x-python",
   "name": "python",
   "nbconvert_exporter": "python",
   "pygments_lexer": "ipython3",
   "version": "3.8.10"
  }
 },
 "nbformat": 4,
 "nbformat_minor": 1
}
