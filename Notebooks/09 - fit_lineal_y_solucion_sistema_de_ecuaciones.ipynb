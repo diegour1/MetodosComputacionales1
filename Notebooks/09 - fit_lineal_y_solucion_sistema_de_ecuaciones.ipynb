{
  "cells": [
    {
      "cell_type": "markdown",
      "metadata": {
        "id": "BfeOSo210jsG"
      },
      "source": [
        "**Métodos computacionales 1**\n",
        "\n",
        "**Universidad de los Andes**"
      ]
    },
    {
      "cell_type": "code",
      "source": [
        "import numpy as np\n",
        "import matplotlib.pyplot as plt\n"
      ],
      "metadata": {
        "id": "tAiSBfC75aR9"
      },
      "execution_count": 1,
      "outputs": []
    },
    {
      "cell_type": "markdown",
      "source": [
        "## Regresión con libreria sklearn"
      ],
      "metadata": {
        "id": "1DsYH2fvM-XS"
      }
    },
    {
      "cell_type": "code",
      "source": [
        "from sklearn.linear_model import LinearRegression\n",
        "x = np.array([1, 2, 3, 4, 5]).reshape(-1, 1)\n",
        "y = np.array([0.6, 3, 2, 3.5, 5.4]).reshape(-1, 1)\n",
        "\n",
        "reg = LinearRegression().fit(x, y)\n",
        "\n",
        "reg.coef_, reg.intercept_"
      ],
      "metadata": {
        "colab": {
          "base_uri": "https://localhost:8080/"
        },
        "id": "r4yyrsPr5aaa",
        "outputId": "6f6c9b0c-2fc2-4d75-e16c-f6dbb3a1c42e"
      },
      "execution_count": 2,
      "outputs": [
        {
          "output_type": "execute_result",
          "data": {
            "text/plain": [
              "(array([[1.01]]), array([-0.13]))"
            ]
          },
          "metadata": {},
          "execution_count": 2
        }
      ]
    },
    {
      "cell_type": "code",
      "source": [
        "x = np.array([1, 2, 3, 4, 5]).reshape(-1, 1)\n",
        "y = np.array([0.6, 3, 2, 3.5, 5.4]).reshape(-1, 1)\n",
        "\n",
        "reg = LinearRegression().fit(x, y)\n",
        "\n",
        "\n",
        "x, y, reg.coef_, reg.intercept_"
      ],
      "metadata": {
        "colab": {
          "base_uri": "https://localhost:8080/"
        },
        "id": "tyLnoUZXquLV",
        "outputId": "2e959504-ab7e-49a3-c0a3-84ecde651150"
      },
      "execution_count": 3,
      "outputs": [
        {
          "output_type": "execute_result",
          "data": {
            "text/plain": [
              "(array([[1],\n",
              "        [2],\n",
              "        [3],\n",
              "        [4],\n",
              "        [5]]),\n",
              " array([[0.6],\n",
              "        [3. ],\n",
              "        [2. ],\n",
              "        [3.5],\n",
              "        [5.4]]),\n",
              " array([[1.01]]),\n",
              " array([-0.13]))"
            ]
          },
          "metadata": {},
          "execution_count": 3
        }
      ]
    },
    {
      "cell_type": "code",
      "source": [
        "reg.predict([[4]])"
      ],
      "metadata": {
        "colab": {
          "base_uri": "https://localhost:8080/"
        },
        "id": "cPfe0DVRrjAM",
        "outputId": "a97f29a1-b2b9-49cd-ed25-4d67e0d744d9"
      },
      "execution_count": 4,
      "outputs": [
        {
          "output_type": "execute_result",
          "data": {
            "text/plain": [
              "array([[3.91]])"
            ]
          },
          "metadata": {},
          "execution_count": 4
        }
      ]
    },
    {
      "cell_type": "markdown",
      "metadata": {
        "id": "a_uYLbKOWWZI"
      },
      "source": [
        "## Ajuste lineal de datos (mínimos cuadrados)\n",
        "\n",
        "En muchas ocasiones se quiere encontrar la recta que mejor se ajusta a una nube de puntos, por ejemplo, en un espacio de dos dimensiones.\n",
        "Una forma de lograr esto es medir la distancia en el eje $y$ que existe entre la recta y cada punto de la nube.  "
      ]
    },
    {
      "cell_type": "code",
      "execution_count": 5,
      "metadata": {
        "id": "ANb7k6fSWG-O"
      },
      "outputs": [],
      "source": [
        "import matplotlib.pyplot as plt\n",
        "import numpy as np\n",
        "plt.style.use('dark_background')"
      ]
    },
    {
      "cell_type": "code",
      "execution_count": 6,
      "metadata": {
        "colab": {
          "base_uri": "https://localhost:8080/",
          "height": 430
        },
        "id": "5yNI1Taravys",
        "outputId": "89734dc5-c51f-4970-93a2-adedaf06049a"
      },
      "outputs": [
        {
          "output_type": "display_data",
          "data": {
            "text/plain": [
              "<Figure size 640x480 with 1 Axes>"
            ],
            "image/png": "[encoded data removed]"
          },
          "metadata": {}
        }
      ],
      "source": [
        "x = [1, 2, 3, 4, 5]\n",
        "y = [0.6, 3, 2, 3.5, 5.4]\n",
        "\n",
        "for i in range(len(x)):\n",
        "  plt.plot([i + 1, x[i]], [i + 1, y[i]], 'r', linewidth = 3.0)\n",
        "\n",
        "plt.plot([0.5, 5.5], [0.5, 5.5], 'g', linewidth = 2.0)   # dibuja una línea\n",
        "plt.plot(x, y, 'bo')     # dibuja puntos\n",
        "plt.show()"
      ]
    },
    {
      "cell_type": "markdown",
      "metadata": {
        "id": "KN4h3ZUxWVCB"
      },
      "source": [
        "En la figura anterior se muestran en rojo las distancias entre cada punto (en azul) y la recta (en verde).\n",
        "\n",
        "Podemos llamar las coordenadas de cada punto azul como ($x_i, y_i$).\n",
        "Si evaluamos la ecuación de la recta ($y_i'=mx_i+b$) en cada valor $x_i$, obtenemos las coordenadas verticales de los puntos teóricos.\n",
        "para obtener las distancias (líneas rojas) se hace simplemente la diferencia entre las dos alturas.\n",
        "$$y'_i - y_i$$\n",
        "Esta distancia da una medida del error entre el modelo (la línea) y los puntos. Para tener solo cantidades positivas se eleva al cuadrado:\n",
        "$$(y'_i - y_i)^2$$\n",
        "si se suman todos los cuadrados tendremos una medida del error total\n",
        "$$\\sum_{i=1}^{i=n}(y'_i - y_i)^2$$\n",
        "Se desea que el valor del error sea el más pequeño posible por lo que se desea encontrar el valor mínimo de la ecuación anterior.\n",
        "Al tratarse de una función cuadrática positiva, el mínimo se puede hallar simplemente derivando respecto a $m$ e igualando a cero y repitiendo el proceso para $b$:\n",
        "\n",
        "$$\\frac{\\partial \\sum(y'_i - y_i)^2}{\\partial m}=0$$\n",
        "$$\\frac{\\partial \\sum(y'_i - y_i)^2}{\\partial b}=0$$\n",
        "Sustituyendo a $y_i'$\n",
        "$$\\frac{\\partial \\sum(mx_i+b - y_i)^2}{\\partial m}=0$$\n",
        "$$\\frac{\\partial \\sum(mx_i+b - y_i)^{2}}{\\partial b}=0$$\n",
        "Con esto se obtiene\n",
        "$$\\sum_{i=1}^{n} y_i = nb+ m\\sum_{i=1}^n x_i$$\n",
        "$$\\sum_{i=1}^{n} x_iy_i = b\\sum_{i=1}^{n}+ m\\sum_{i=1}^n x_i^2$$\n",
        "Resolviendo para $m$ y $b$ se tiene\n",
        "$$m = \\frac{\\sum x_iy_i-\\frac{1}{n}\\sum x_i \\sum y_i}{\\sum x_i^2 - \\frac{1}{n}\\left(\\sum x_i\\right)^2}$$\n",
        "\n",
        "$$b = \\frac{1}{n}\\sum y_i - \\frac{m}{n}\\sum x_i$$\n",
        "\n",
        "A continuación, se muestra un ejemplo de implementación de estas ecuaciones:"
      ]
    },
    {
      "cell_type": "code",
      "execution_count": 7,
      "metadata": {
        "colab": {
          "base_uri": "https://localhost:8080/",
          "height": 430
        },
        "id": "L3dKasGx4wwF",
        "outputId": "99fc8d6a-ca7a-4b31-c70d-498ec90ad07f"
      },
      "outputs": [
        {
          "output_type": "display_data",
          "data": {
            "text/plain": [
              "<Figure size 640x480 with 1 Axes>"
            ],
            "image/png": "[encoded data removed]"
          },
          "metadata": {}
        }
      ],
      "source": [
        "pts = 100\n",
        "amp = 2\n",
        "\n",
        "x = np.linspace(1, 20, pts).reshape(-1, 1)\n",
        "y = np.random.randn()*(amp*np.random.randn(pts, 1) + x) + np.random.randn()*10\n",
        "\n",
        "sumx = np.sum(x)\n",
        "sumy = np.sum(y)\n",
        "\n",
        "m = (np.sum(x*y) - sumx*sumy / pts)/(np.sum(x*x) - sumx**2/pts)\n",
        "b = (sumy - m*sumx)/pts\n",
        "\n",
        "plt.plot(x, y, 'o')\n",
        "plt.plot([x[0], x[-1]], [m*x[0] + b, m*x[-1] + b], 'r', linewidth = 3)\n",
        "plt.show()"
      ]
    },
    {
      "cell_type": "markdown",
      "metadata": {
        "id": "RQXqJgflIQET"
      },
      "source": [
        "## Ajuste lineal (método matricial)\n",
        "\n",
        "\n",
        "Supongamos que tenemos un sistema inconsistente de ecuaciones que no cumplen\n",
        "\n",
        "$$\\textbf{P}\\vec v = \\vec y$$\n",
        "\n",
        "o escrito de forma más explicita\n",
        "\n",
        "$$\\begin{bmatrix}\n",
        "1 && x_1\\\\\n",
        "1 && x_2\\\\\n",
        "\\vdots && \\vdots\\\\\n",
        "1 && x_n\n",
        "\\end{bmatrix}\n",
        "\\begin{bmatrix}\n",
        "a\\\\\n",
        "b\\\\\n",
        "\\end{bmatrix}=\\begin{bmatrix}\n",
        "y_1\\\\\n",
        "y_2\\\\\n",
        "\\vdots \\\\\n",
        "y_n\n",
        "\\end{bmatrix}$$\n",
        "\n",
        "de forma que $\\vec y$ no se encuentra en el espacio columna de $\\textbf{P}$. Sin embargo, la proyección del vector $\\vec y$ sobre el espacio columna de $\\textbf{P}$ se corresponde con la menor distancia entre dicho espacio y $\\vec y$. Entonces para minimizar esta distancia\n",
        "$$\\left \\| \\vec y - \\textbf{P}\\vec v^{*} \\right \\|$$\n",
        "se tiene que $$\\textbf{P}\\vec v^{*} = \\text{Proy}_{C(\\textbf{P})}\\vec y$$\n",
        "al restar $\\vec y$ a cada lado de la igualdad obtenemos un vector que es ortogonal al espacio columna de $\\textbf{P}$\n",
        "\n",
        "$$\\textbf{P}\\vec v^{*}-\\vec y = \\text{Proy}_{C(\\textbf{P})}\\vec y - \\vec y$$\n",
        "Es decir $\\textbf{P}\\vec v^{*}-\\vec y \\in C(P)^{\\perp}$.\n",
        "Teniendo en cuenta que este espacio ortogonal es el espacio izquierdo nulo de $\\textbf{P}^{\\perp}$, que se nota como $N(\\textbf P^{\\intercal})$\n",
        "$$C(P)^{\\perp} = N(\\textbf P^{\\intercal})$$\n",
        "Entonces\n",
        "$$\\textbf{P}\\vec v^{*}-\\vec y \\in N(\\textbf P^{\\intercal})$$\n",
        "Al estar $\\textbf{P}\\vec v^{*}-\\vec y$ en $N(\\textbf P^{\\intercal})$ significa que si se multiplica por izquierda por $\\textbf P^{\\intercal}$ nos dará como resultado el vector cero.\n",
        "$$\\textbf P^{\\intercal}(\\textbf{P}\\vec v^{*}-\\vec y)=\\vec 0$$\n",
        "Distribuyendo\n",
        "$$\\textbf P^{\\intercal}\\textbf{P}\\vec v^{*}-\\textbf P^{\\intercal}\\vec y=\\vec 0$$\n",
        "Sumando $\\textbf P^{\\intercal}\\vec y$ en ambos extremos de la igualdad\n",
        "$$\\textbf P^{\\intercal}\\textbf{P}\\vec v^{*}=\\textbf P^{\\intercal}\\vec y$$\n",
        "Multiplicando ambos extremos por izquierda por $(\\textbf P^{\\intercal}\\textbf{P})^{-1}$ y simplificando se tiene\n",
        "$$\\vec v^{*}=(\\textbf P^{\\intercal}\\textbf{P})^{-1}\\textbf P^{\\intercal}\\vec y$$\n",
        "Así hemos encontrado los parámetros que minimizan la distancia $\\left \\| \\vec y - \\textbf{P}\\vec v^{*} \\right \\|$, los componentes de $\\vec v^*$ son coeficientes del ajuste buscado.\n",
        "\n",
        "Veamos un ejemplo en un espacio de 2 dimensiones en Python:"
      ]
    },
    {
      "cell_type": "code",
      "execution_count": 8,
      "metadata": {
        "colab": {
          "base_uri": "https://localhost:8080/",
          "height": 430
        },
        "id": "EwO-odsE7b18",
        "outputId": "9b403830-280f-4d9a-d8d3-ccbd7e7ae634"
      },
      "outputs": [
        {
          "output_type": "display_data",
          "data": {
            "text/plain": [
              "<Figure size 640x480 with 1 Axes>"
            ],
            "image/png": "[encoded data removed]"
          },
          "metadata": {}
        }
      ],
      "source": [
        "pts = 300\n",
        "amp = 2\n",
        "\n",
        "x = np.linspace(1, 20, pts).reshape(-1, 1)\n",
        "y = np.random.randn()*(amp*np.random.randn(pts, 1) + x) + np.random.randn()*10\n",
        "\n",
        "P = np.array([np.ones([pts, 1]), x]).reshape(2, pts).T\n",
        "v = (np.linalg.inv(P.T @ P) @ P.T) @ y\n",
        "b, m = v\n",
        "\n",
        "plt.plot(x, y, 'o')\n",
        "plt.plot([x[0], x[-1]], [m*x[0] + b, m*x[-1] + b], 'r', linewidth=3)\n",
        "plt.show()"
      ]
    },
    {
      "cell_type": "markdown",
      "source": [
        "## Algebra lineal con numpy"
      ],
      "metadata": {
        "id": "s2VT9uI680Uw"
      }
    },
    {
      "cell_type": "markdown",
      "source": [
        "### Solución de sistemas de ecuaciones"
      ],
      "metadata": {
        "id": "RbXoqI7cK-xG"
      }
    },
    {
      "cell_type": "code",
      "source": [
        "A = np.array([[2,   1, -1], [-3, -1,  2], [-2,  1,  2]])\n",
        "\n",
        "b = np.array([8, -11, -3])\n",
        "\n",
        "x = np.linalg.solve(A, b)\n",
        "\n",
        "print(A)"
      ],
      "metadata": {
        "colab": {
          "base_uri": "https://localhost:8080/"
        },
        "id": "X6rOXRXm87UO",
        "outputId": "8f0622c9-4f14-4fe7-c33d-e278e9876757"
      },
      "execution_count": 11,
      "outputs": [
        {
          "output_type": "stream",
          "name": "stdout",
          "text": [
            "[[ 2  1 -1]\n",
            " [-3 -1  2]\n",
            " [-2  1  2]]\n"
          ]
        }
      ]
    },
    {
      "cell_type": "markdown",
      "source": [
        "### Cálculo de una inversa"
      ],
      "metadata": {
        "id": "cKVoUle0FnC0"
      }
    },
    {
      "cell_type": "code",
      "source": [
        "A_inv = np.linalg.inv(A)\n",
        "\n",
        "A_inv @ A, A @ A_inv, np.linalg.det(A)"
      ],
      "metadata": {
        "colab": {
          "base_uri": "https://localhost:8080/"
        },
        "id": "QW2H_BgI-b2c",
        "outputId": "9941e77d-7a73-43e6-baac-a1c411334ea9"
      },
      "execution_count": 12,
      "outputs": [
        {
          "output_type": "execute_result",
          "data": {
            "text/plain": [
              "(array([[ 1.00000000e+00,  6.66133815e-16, -1.33226763e-15],\n",
              "        [-8.88178420e-16,  1.00000000e+00,  4.44089210e-16],\n",
              "        [ 2.66453526e-15,  4.44089210e-16,  1.00000000e+00]]),\n",
              " array([[ 1.00000000e+00, -4.44089210e-16,  2.22044605e-16],\n",
              "        [-1.77635684e-15,  1.00000000e+00,  0.00000000e+00],\n",
              "        [-1.77635684e-15,  0.00000000e+00,  1.00000000e+00]]),\n",
              " -1.0)"
            ]
          },
          "metadata": {},
          "execution_count": 12
        }
      ]
    },
    {
      "cell_type": "markdown",
      "source": [
        "### Cálculo de determinantes"
      ],
      "metadata": {
        "id": "RHwxnPt4LS4N"
      }
    },
    {
      "cell_type": "code",
      "source": [
        "np.random.seed(3)\n",
        "A = np.random.rand(5,5)\n",
        "\n",
        "np.linalg.det(A)"
      ],
      "metadata": {
        "colab": {
          "base_uri": "https://localhost:8080/"
        },
        "id": "kt_9lfLx-UO9",
        "outputId": "4ed9b2b7-3a9a-4a1c-b10f-2f0f87835262"
      },
      "execution_count": 13,
      "outputs": [
        {
          "output_type": "execute_result",
          "data": {
            "text/plain": [
              "0.030971200398854804"
            ]
          },
          "metadata": {},
          "execution_count": 13
        }
      ]
    },
    {
      "cell_type": "markdown",
      "metadata": {
        "id": "Q9JylV7RSutz"
      },
      "source": [
        "## Solución de sistemas de ecuaciones lineales por eliminación gaussiana\n",
        "\n",
        "El algoritmo es el siguiente:\n",
        "- Ir a la primera columna número cero de izquierda a derecha.\n",
        "- Si la primera fila tiene un cero en esta columna, intercambiarlo con otra que no lo tenga.\n",
        "- Luego, obtener ceros debajo de este elemento delantero, sumando múltiplos adecuados del renglón superior a los renglones debajo de él.\n",
        "- Cubrir el renglón superior y repetir el proceso anterior con la submatriz restante. Repetir con el resto de los renglones (en este punto la matriz se encuentra en forma escalonada).\n",
        "- Comenzando con el último renglón no cero, avanzar hacia arriba: para cada renglón obtener 1 delantero e introducir ceros arriba de este sumando múltiplos correspondientes a los renglones correspondientes.\n",
        "\n",
        "**Ejemplo:** Resolver el siguiente sistema de ecuaciones\n",
        "\n",
        "El sistema de 3 ecuaciones con 3 incognitas\n",
        "\n",
        "$$      \\begin{array}{rrrcr}\n",
        "          2x & + y &   -z & = &   8 \\\\\n",
        "         -3x & - y & + 2z & = & -11 \\\\\n",
        "         -2x & + y & + 2z & = &  -3\n",
        "      \\end{array}$$\n",
        "\n",
        "se puede representar con la siguiente matriz aumentada:\n",
        "\n",
        "$$   \\left (\n",
        "      \\begin{array}{rrr:r}\n",
        "          2 &  1 & -1 &   8 \\\\\n",
        "         -3 & -1 &  2 & -11 \\\\\n",
        "         -2 &  1 &  2 &  -3\n",
        "      \\end{array}\n",
        "   \\right )$$\n",
        "\n",
        "A modo de ejemplo, se muestra un paso del algoritmo de eliminación gaussiana: Sumando a la segunda fila, la primera multiplicada por $\\frac{3}{2}$, y a la tercera, la2001122 primera fila:\n",
        "$$   \\left (\n",
        "      \\begin{array}{rrr:r}\n",
        "         2 & 1           & -1          & 8 \\\\\n",
        "         0 & \\frac{1}{2} & \\frac{1}{2} & 1 \\\\\n",
        "         0 & 2           & 1           & 5\n",
        "      \\end{array}\n",
        "   \\right )$$"
      ]
    },
    {
      "cell_type": "code",
      "execution_count": 14,
      "metadata": {
        "id": "szH6xmUpgQD6"
      },
      "outputs": [],
      "source": [
        "def triangular_superior(A):\n",
        "    B = A.copy().astype(float)\n",
        "    n = B.shape[0]\n",
        "    for i in range(n): # recorrido por las columnas\n",
        "        for j in range(i+1, n): # recorrido por las filas\n",
        "            B[j] = ((B[j, i])/B[i, i]) * B[i] - B[j]\n",
        "            # B[2] = (B[2, 1] / B[1, 1]) * B[1] - B[2]\n",
        "            # [0, 0, -3, -3]= (2 / 0.5) * [0, 1/2, 1/2, 1] - [0, 2, 1, 5]\n",
        "    return B"
      ]
    },
    {
      "cell_type": "code",
      "execution_count": 15,
      "metadata": {
        "id": "rmzrOh37UBHl"
      },
      "outputs": [],
      "source": [
        "def matriz_diagonal(A_t):\n",
        "  B = A_t.copy().astype(float)\n",
        "  n = B.shape[0]\n",
        "  for i in range(n - 1, -1, -1):\n",
        "    for j in range(i - 1, -1, -1):\n",
        "      B[j] = (B[j, i]/B[i, i]) * B[i] - B[j]\n",
        "\n",
        "    B[i] = B[i] / B[i, i]\n",
        "  return B"
      ]
    },
    {
      "cell_type": "code",
      "execution_count": 16,
      "metadata": {
        "colab": {
          "base_uri": "https://localhost:8080/"
        },
        "id": "YUu3VvXdmITt",
        "outputId": "001b69c1-b432-4f1e-81a1-9489e1e47611"
      },
      "outputs": [
        {
          "output_type": "stream",
          "name": "stdout",
          "text": [
            "[[ 2.   1.  -1.   8. ]\n",
            " [ 0.  -0.5 -0.5 -1. ]\n",
            " [ 0.   0.  -1.   1. ]]\n",
            "[[ 1.  0. -0.  2.]\n",
            " [ 0.  1.  0.  3.]\n",
            " [-0. -0.  1. -1.]]\n",
            "[ 2.  3. -1.]\n",
            "comprobar solución\n",
            "[  8. -11.  -3.]\n"
          ]
        }
      ],
      "source": [
        "A = np.array([\n",
        "    [2, 1, -1, 8],\n",
        "    [-3, -1, 2, -11],\n",
        "    [-2, 1, 2, -3]\n",
        "])\n",
        "A_t = triangular_superior(A)\n",
        "print(A_t)\n",
        "D = matriz_diagonal(A_t)\n",
        "print(D)\n",
        "solucion = D[:, -1]\n",
        "print(solucion)\n",
        "print('comprobar solución')\n",
        "print(A[:, 0:-1] @ solucion)"
      ]
    },
    {
      "cell_type": "markdown",
      "metadata": {
        "id": "SKcOVGcsnvM2"
      },
      "source": [
        "## Eliminación gaussiana con pivoteo parcial\n",
        "\n",
        "Si aparecen ceros a lo largo de la diagonal de la matriz que representa el sistema de ecuaciónes el método anteriormente expuesto fallará, una forma versión más robusta del algoritmo es la eliminación gaussiana con pivoteo parcial, el cual realizan intercambios de filas en la matriz de forma tal que en la diagonal quede el elemento más grande en valor absoluto, comparado con los demas elementos de la columna a la que pertenece cada elemento diagonal.\n",
        "\n",
        "**Ejemplo:** Resolver el siguiente sistema de ecuaciones:\n",
        "\n",
        "$$      \\begin{array}{rrrcr}\n",
        "           & - 2y &   -z & = &   -14 \\\\\n",
        "         2x & + 3y & + z & = & 1 \\\\\n",
        "         3x & + y & - z & = & 1\n",
        "      \\end{array}$$\n",
        "\n",
        "se puede representar con la siguiente matriz aumentada:\n",
        "\n",
        "$$   \\left (\n",
        "      \\begin{array}{rrr:r}\n",
        "          0 & -2 & -1 & -14 \\\\\n",
        "          2 &  3 &  1 &   1 \\\\\n",
        "          3 &  1 & -1 &   1\n",
        "      \\end{array}\n",
        "   \\right )$$"
      ]
    },
    {
      "cell_type": "code",
      "execution_count": 17,
      "metadata": {
        "id": "yAonFDPln3cz"
      },
      "outputs": [],
      "source": [
        "def triangular_superior_con_pivoteo(A):\n",
        "  B = A.copy().astype(float)\n",
        "  n = B.shape[0]\n",
        "  for i in range(n):\n",
        "    indi_max = np.argmax(np.abs(B[i:, i]))\n",
        "    if indi_max > 0:\n",
        "      C = B[i].copy()\n",
        "      B[i] = B[i + indi_max]\n",
        "      B[i + indi_max] = C\n",
        "    for j in range(i + 1, n):\n",
        "      B[j] = (B[j, i]/B[i, i]) * B[i] - B[j]\n",
        "  return B\n"
      ]
    },
    {
      "cell_type": "code",
      "execution_count": 18,
      "metadata": {
        "colab": {
          "base_uri": "https://localhost:8080/"
        },
        "id": "84GLSBXipF5A",
        "outputId": "87cba370-d756-493a-9516-8a3f70c35da1"
      },
      "outputs": [
        {
          "output_type": "stream",
          "name": "stdout",
          "text": [
            "[[  1.   0.  -0. -18.]\n",
            " [  0.   1.   0.  23.]\n",
            " [ -0.   0.   1. -32.]]\n",
            "[-18.  23. -32.]\n",
            "comprobar solución\n",
            "[-14.   1.   1.]\n"
          ]
        }
      ],
      "source": [
        "A = np.array([\n",
        "              [0, -2, -1, -14],\n",
        "              [2, 3, 1, 1],\n",
        "              [3, 1, -1, 1]\n",
        "])\n",
        "\n",
        "A_t = triangular_superior_con_pivoteo(A)\n",
        "D = matriz_diagonal(A_t)\n",
        "print(D)\n",
        "solucion = D[:, -1]\n",
        "print(solucion)\n",
        "print('comprobar solución')\n",
        "print(A[:, 0:-1] @ solucion)"
      ]
    },
    {
      "cell_type": "code",
      "execution_count": 19,
      "metadata": {
        "id": "0OoNCFNlgQD8",
        "outputId": "dbf3e61d-56aa-4f65-e76f-d6ce5ba1c3c5",
        "colab": {
          "base_uri": "https://localhost:8080/"
        }
      },
      "outputs": [
        {
          "output_type": "execute_result",
          "data": {
            "text/plain": [
              "array([-18.,  23., -32.])"
            ]
          },
          "metadata": {},
          "execution_count": 19
        }
      ],
      "source": [
        "np.linalg.solve(A[:, 0:-1], A[:, -1])"
      ]
    },
    {
      "cell_type": "markdown",
      "metadata": {
        "id": "cqGzBTljgQD8"
      },
      "source": [
        "**Referencias:**\n",
        "\n",
        "**Universidad de los Andes**\n",
        "\n",
        "**Profesores: Diego Alberto Castro Rodríguez, Diego Useche Reyes**"
      ]
    },
    {
      "cell_type": "code",
      "source": [],
      "metadata": {
        "id": "oIUaXcF2MDYI"
      },
      "execution_count": null,
      "outputs": []
    }
  ],
  "metadata": {
    "colab": {
      "provenance": [],
      "toc_visible": true
    },
    "kernelspec": {
      "display_name": "Python 3",
      "language": "python",
      "name": "python3"
    },
    "language_info": {
      "codemirror_mode": {
        "name": "ipython",
        "version": 3
      },
      "file_extension": ".py",
      "mimetype": "text/x-python",
      "name": "python",
      "nbconvert_exporter": "python",
      "pygments_lexer": "ipython3",
      "version": "3.8.10"
    }
  },
  "nbformat": 4,
  "nbformat_minor": 0
}