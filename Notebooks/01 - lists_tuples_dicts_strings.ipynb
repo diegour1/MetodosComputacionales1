{
  "cells": [
    {
      "cell_type": "markdown",
      "metadata": {
        "id": "tAbV8ljjT_fC"
      },
      "source": [
        "# Introducition to Python 1\n",
        "\n",
        "## Str - Lists - Tuples - Dicts\n",
        "\n",
        "## Metodos Computacionales I\n",
        "## Uniandes\n",
        "\n",
        "Based on [SoloLearn Python](https://www.sololearn.com/Play/Python)"
      ]
    },
    {
      "cell_type": "markdown",
      "metadata": {
        "id": "-FzvZO1uUmNC"
      },
      "source": [
        "## Strings"
      ]
    },
    {
      "cell_type": "code",
      "source": [
        "print(\"Hello\"+ \"World\")"
      ],
      "metadata": {
        "colab": {
          "base_uri": "https://localhost:8080/"
        },
        "id": "8P36Dyc-pPo0",
        "outputId": "b50300f4-c9d9-4ed2-f231-f7002bba61f6"
      },
      "execution_count": null,
      "outputs": [
        {
          "output_type": "stream",
          "name": "stdout",
          "text": [
            "HelloWorld\n"
          ]
        }
      ]
    },
    {
      "cell_type": "code",
      "source": [
        "print(3*\"Hello\")"
      ],
      "metadata": {
        "colab": {
          "base_uri": "https://localhost:8080/"
        },
        "id": "JJGqA70TpPrY",
        "outputId": "bbf896e3-391e-4fbb-fa15-2702b590280d"
      },
      "execution_count": null,
      "outputs": [
        {
          "output_type": "stream",
          "name": "stdout",
          "text": [
            "HelloHelloHello\n"
          ]
        }
      ]
    },
    {
      "cell_type": "code",
      "source": [
        "\" \".join((\"Maria\", \"Judith\"))"
      ],
      "metadata": {
        "colab": {
          "base_uri": "https://localhost:8080/",
          "height": 35
        },
        "id": "6_8gxUImpPt2",
        "outputId": "0d7e3e8f-57f1-4a02-f712-05a0d74979c3"
      },
      "execution_count": null,
      "outputs": [
        {
          "output_type": "execute_result",
          "data": {
            "text/plain": [
              "'Maria Judith'"
            ],
            "application/vnd.google.colaboratory.intrinsic+json": {
              "type": "string"
            }
          },
          "metadata": {},
          "execution_count": 5
        }
      ]
    },
    {
      "cell_type": "code",
      "source": [
        "\"Hello\".upper()"
      ],
      "metadata": {
        "colab": {
          "base_uri": "https://localhost:8080/",
          "height": 35
        },
        "id": "2HwZOW2LpPwM",
        "outputId": "b089cd76-10db-43b6-9949-f3d092c6b3bd"
      },
      "execution_count": null,
      "outputs": [
        {
          "output_type": "execute_result",
          "data": {
            "text/plain": [
              "'HELLO'"
            ],
            "application/vnd.google.colaboratory.intrinsic+json": {
              "type": "string"
            }
          },
          "metadata": {},
          "execution_count": 6
        }
      ]
    },
    {
      "cell_type": "code",
      "source": [
        "age = 8\n",
        "print(f\"Edad: {age}\")"
      ],
      "metadata": {
        "colab": {
          "base_uri": "https://localhost:8080/"
        },
        "id": "W9Iu8x15pPyi",
        "outputId": "054f3be5-44b0-4183-f94d-031ad00f4ddb"
      },
      "execution_count": null,
      "outputs": [
        {
          "output_type": "stream",
          "name": "stdout",
          "text": [
            "Edad: 8\n"
          ]
        }
      ]
    },
    {
      "cell_type": "code",
      "execution_count": null,
      "metadata": {
        "colab": {
          "base_uri": "https://localhost:8080/"
        },
        "id": "psqA04lLUnYV",
        "outputId": "64400b05-9e1f-47c4-98ea-ef15564acfc0"
      },
      "outputs": [
        {
          "output_type": "stream",
          "name": "stdout",
          "text": [
            "Hello World\n"
          ]
        }
      ],
      "source": [
        "# Concatenation\n",
        "print(\"Hello\" +\" \" +\"World\")"
      ]
    },
    {
      "cell_type": "code",
      "execution_count": null,
      "metadata": {
        "colab": {
          "base_uri": "https://localhost:8080/"
        },
        "id": "QxSTmrZGVEEc",
        "outputId": "f0bc9dae-40c8-4f07-b436-8c9cf8d7d059"
      },
      "outputs": [
        {
          "output_type": "stream",
          "name": "stdout",
          "text": [
            "HelloHelloHello\n"
          ]
        }
      ],
      "source": [
        "# Muliplication of strings\n",
        "print(\"Hello\"*3)"
      ]
    },
    {
      "cell_type": "code",
      "execution_count": null,
      "metadata": {
        "colab": {
          "base_uri": "https://localhost:8080/"
        },
        "id": "HFBUQMl-VN74",
        "outputId": "00370a59-4d95-4698-a982-81cc43490706"
      },
      "outputs": [
        {
          "output_type": "stream",
          "name": "stdout",
          "text": [
            "Maria Judith Andrea\n"
          ]
        }
      ],
      "source": [
        "# Join Function\n",
        "name = \" \".join((\"Maria\", \"Judith\", \"Andrea\"))\n",
        "print(name)"
      ]
    },
    {
      "cell_type": "code",
      "execution_count": null,
      "metadata": {
        "colab": {
          "base_uri": "https://localhost:8080/"
        },
        "id": "Juu9mcwPYWwj",
        "outputId": "c3c8a2b7-e436-4c2e-bffe-a7a4e81a1cfe"
      },
      "outputs": [
        {
          "output_type": "stream",
          "name": "stdout",
          "text": [
            "Maria Judith Andrea\n"
          ]
        }
      ],
      "source": [
        "# Strings are unmutable\n",
        "name.upper()\n",
        "print(name)"
      ]
    },
    {
      "cell_type": "code",
      "execution_count": null,
      "metadata": {
        "colab": {
          "base_uri": "https://localhost:8080/"
        },
        "id": "pVSre8AxYdNi",
        "outputId": "afa9e29b-a9a9-4cf9-f4be-0a46434256cc"
      },
      "outputs": [
        {
          "output_type": "stream",
          "name": "stdout",
          "text": [
            "MARIA JUDITH ANDREA\n"
          ]
        }
      ],
      "source": [
        "# Upper or Lower Functions\n",
        "name_upper = name.upper()\n",
        "print(name_upper)"
      ]
    },
    {
      "cell_type": "code",
      "execution_count": null,
      "metadata": {
        "colab": {
          "base_uri": "https://localhost:8080/"
        },
        "id": "6rtj2emWVsCe",
        "outputId": "7359da77-c0a4-49d6-a510-45770908947a"
      },
      "outputs": [
        {
          "output_type": "execute_result",
          "data": {
            "text/plain": [
              "['M', 'ri', ' Judith Andre', '']"
            ]
          },
          "metadata": {},
          "execution_count": 6
        }
      ],
      "source": [
        "# Split Function\n",
        "name.split(\"a\")"
      ]
    },
    {
      "cell_type": "code",
      "execution_count": null,
      "metadata": {
        "colab": {
          "base_uri": "https://localhost:8080/"
        },
        "id": "0nYYlaGqV-Gx",
        "outputId": "836db712-e6f8-4f12-99fa-5af5215e811a"
      },
      "outputs": [
        {
          "output_type": "stream",
          "name": "stdout",
          "text": [
            "Maria is 56 years old\n"
          ]
        }
      ],
      "source": [
        "# String Formating\n",
        "age = 56\n",
        "print(\"Maria is {} years old\".format(age))"
      ]
    },
    {
      "cell_type": "code",
      "execution_count": null,
      "metadata": {
        "colab": {
          "base_uri": "https://localhost:8080/",
          "height": 35
        },
        "id": "gTRC1FvwWW64",
        "outputId": "9dede8b5-1a9d-456c-fd89-a6aad55599dc"
      },
      "outputs": [
        {
          "output_type": "execute_result",
          "data": {
            "text/plain": [
              "'ia J'"
            ],
            "application/vnd.google.colaboratory.intrinsic+json": {
              "type": "string"
            }
          },
          "metadata": {},
          "execution_count": 8
        }
      ],
      "source": [
        "# Access to substrings as a list\n",
        "name[3:7]"
      ]
    },
    {
      "cell_type": "markdown",
      "metadata": {
        "id": "bgUZzwHQSG9K"
      },
      "source": []
    },
    {
      "cell_type": "code",
      "execution_count": null,
      "metadata": {
        "id": "9MThyP2KSMxK"
      },
      "outputs": [],
      "source": [
        "age = 56"
      ]
    },
    {
      "cell_type": "code",
      "execution_count": null,
      "metadata": {
        "colab": {
          "base_uri": "https://localhost:8080/"
        },
        "id": "aKN3gzCbSIIa",
        "outputId": "39fb38f0-937d-433b-d792-9debb5e8b684"
      },
      "outputs": [
        {
          "output_type": "stream",
          "name": "stdout",
          "text": [
            "La edad de Maria es 56\n"
          ]
        }
      ],
      "source": [
        "### format\n",
        "print(\"La edad de Maria es {}\".format(age))"
      ]
    },
    {
      "cell_type": "markdown",
      "metadata": {
        "id": "V437kox8Wttv"
      },
      "source": [
        "## Lists"
      ]
    },
    {
      "cell_type": "code",
      "execution_count": null,
      "metadata": {
        "colab": {
          "base_uri": "https://localhost:8080/"
        },
        "id": "u0WVYnhBWkQS",
        "outputId": "a3181edc-3867-44a8-8efa-5915d64748c4"
      },
      "outputs": [
        {
          "output_type": "stream",
          "name": "stdout",
          "text": [
            "[4, 9, 16, 25]\n",
            "[9, 16, 25, 36, 49]\n",
            "[0]\n"
          ]
        }
      ],
      "source": [
        "# Taken from https://www.sololearn.com/Play/Python\n",
        "squares = [0, 1, 4, 9, 16, 25, 36, 49, 64, 81]\n",
        "print(squares[2:6])\n",
        "print(squares[3:8])\n",
        "print(squares[0:1])"
      ]
    },
    {
      "cell_type": "code",
      "execution_count": null,
      "metadata": {
        "colab": {
          "base_uri": "https://localhost:8080/"
        },
        "id": "8bSE3OS1YEA-",
        "outputId": "99c6fa7e-d2f2-4314-8b93-6e384218fee9"
      },
      "outputs": [
        {
          "output_type": "execute_result",
          "data": {
            "text/plain": [
              "10"
            ]
          },
          "metadata": {},
          "execution_count": 12
        }
      ],
      "source": [
        "# Find  the lenght of a list\n",
        "len(squares)"
      ]
    },
    {
      "cell_type": "code",
      "execution_count": null,
      "metadata": {
        "colab": {
          "base_uri": "https://localhost:8080/"
        },
        "id": "NhXuNeclW5Av",
        "outputId": "db09dbf8-91a5-4908-db57-830357f41722"
      },
      "outputs": [
        {
          "output_type": "stream",
          "name": "stdout",
          "text": [
            "[0, 4, 16, 36, 64]\n",
            "[4, 25]\n"
          ]
        }
      ],
      "source": [
        "# Taken from https://www.sololearn.com/Play/Python\n",
        "print(squares[::2])\n",
        "print(squares[2:8:3])"
      ]
    },
    {
      "cell_type": "code",
      "execution_count": null,
      "metadata": {
        "colab": {
          "base_uri": "https://localhost:8080/"
        },
        "id": "ivzIxyqvXIcy",
        "outputId": "1ef25a6d-dcea-4d23-ae21-e4b43e31389f"
      },
      "outputs": [
        {
          "output_type": "stream",
          "name": "stdout",
          "text": [
            "[0, 1, 4, 9, 16, 25, 36, 49, 64, 81]\n"
          ]
        }
      ],
      "source": [
        "# List Comprehension\n",
        "print([i**2 for i in range(10)])"
      ]
    },
    {
      "cell_type": "code",
      "execution_count": null,
      "metadata": {
        "colab": {
          "base_uri": "https://localhost:8080/"
        },
        "id": "ZZyvlbDaXawc",
        "outputId": "e8a00efb-adc7-4628-9404-cd494d3e1ed0"
      },
      "outputs": [
        {
          "output_type": "stream",
          "name": "stdout",
          "text": [
            "[[1, 2, 'hello'], [3, 4]]\n"
          ]
        }
      ],
      "source": [
        "# List inside list\n",
        "matrix = [[1, 2, \"hello\"],[3, 4]]\n",
        "print(matrix)"
      ]
    },
    {
      "cell_type": "code",
      "execution_count": null,
      "metadata": {
        "colab": {
          "base_uri": "https://localhost:8080/"
        },
        "id": "N_08Y_xFZra1",
        "outputId": "fe7bc9f9-6268-4c46-8b30-7cb7cda7c80f"
      },
      "outputs": [
        {
          "output_type": "stream",
          "name": "stdout",
          "text": [
            "[[1, 2, 'hello'], [3, 7]]\n"
          ]
        }
      ],
      "source": [
        "matrix[1][1] = 7\n",
        "print(matrix)"
      ]
    },
    {
      "cell_type": "code",
      "execution_count": null,
      "metadata": {
        "colab": {
          "base_uri": "https://localhost:8080/"
        },
        "id": "fMjkhyJRXyvY",
        "outputId": "d9b2410a-352a-4c75-df67-9076c9f339c1"
      },
      "outputs": [
        {
          "output_type": "stream",
          "name": "stdout",
          "text": [
            "[1, 2, 'hello']\n",
            "[3, 7]\n",
            "2\n"
          ]
        }
      ],
      "source": [
        "print(matrix[0])\n",
        "print(matrix[1])\n",
        "print(matrix[0][1])"
      ]
    },
    {
      "cell_type": "markdown",
      "metadata": {
        "id": "WUjNB3-oZR5t"
      },
      "source": [
        "## Tuples"
      ]
    },
    {
      "cell_type": "code",
      "execution_count": null,
      "metadata": {
        "colab": {
          "base_uri": "https://localhost:8080/",
          "height": 210
        },
        "id": "4YaoKF7lZDYf",
        "outputId": "55da453b-ed7c-4b18-e430-fdf6fd315a00"
      },
      "outputs": [
        {
          "output_type": "error",
          "ename": "TypeError",
          "evalue": "'tuple' object does not support item assignment",
          "traceback": [
            "\u001b[0;31m---------------------------------------------------------------------------\u001b[0m",
            "\u001b[0;31mTypeError\u001b[0m                                 Traceback (most recent call last)",
            "\u001b[0;32m<ipython-input-18-c28c46f7ae00>\u001b[0m in \u001b[0;36m<cell line: 4>\u001b[0;34m()\u001b[0m\n\u001b[1;32m      2\u001b[0m \u001b[0;31m# Taken from https://www.sololearn.com/Play/Python\u001b[0m\u001b[0;34m\u001b[0m\u001b[0;34m\u001b[0m\u001b[0m\n\u001b[1;32m      3\u001b[0m \u001b[0mwords\u001b[0m \u001b[0;34m=\u001b[0m \u001b[0;34m(\u001b[0m\u001b[0;34m\"spam\"\u001b[0m\u001b[0;34m,\u001b[0m \u001b[0;34m\"eggs\"\u001b[0m\u001b[0;34m,\u001b[0m \u001b[0;34m\"sausages\"\u001b[0m\u001b[0;34m)\u001b[0m\u001b[0;34m\u001b[0m\u001b[0;34m\u001b[0m\u001b[0m\n\u001b[0;32m----> 4\u001b[0;31m \u001b[0mwords\u001b[0m\u001b[0;34m[\u001b[0m\u001b[0;36m1\u001b[0m\u001b[0;34m]\u001b[0m \u001b[0;34m=\u001b[0m \u001b[0;34m\"cheese\"\u001b[0m\u001b[0;34m\u001b[0m\u001b[0;34m\u001b[0m\u001b[0m\n\u001b[0m",
            "\u001b[0;31mTypeError\u001b[0m: 'tuple' object does not support item assignment"
          ]
        }
      ],
      "source": [
        "# Tuples are inmutable\n",
        "# Taken from https://www.sololearn.com/Play/Python\n",
        "words = (\"spam\", \"eggs\", \"sausages\")\n",
        "words[1] = \"cheese\""
      ]
    },
    {
      "cell_type": "code",
      "execution_count": null,
      "metadata": {
        "colab": {
          "base_uri": "https://localhost:8080/"
        },
        "id": "pw0Hf-wWZkVV",
        "outputId": "69c50a4d-24ed-485b-93e5-38ea1d097f15"
      },
      "outputs": [
        {
          "output_type": "stream",
          "name": "stdout",
          "text": [
            "['spam', 'eggs', 'sausages', 'eggs']\n"
          ]
        }
      ],
      "source": [
        "# List of words\n",
        "words = [\"spam\", \"eggs\", \"sausages\", \"eggs\"]\n",
        "print(words)"
      ]
    },
    {
      "cell_type": "code",
      "execution_count": null,
      "metadata": {
        "colab": {
          "base_uri": "https://localhost:8080/"
        },
        "id": "56pqQJSpaLMA",
        "outputId": "705922b7-b64a-481d-dd8a-cb1bbd1f11d0"
      },
      "outputs": [
        {
          "output_type": "stream",
          "name": "stdout",
          "text": [
            "('spam', 'eggs', 'sausages', 'eggs')\n"
          ]
        }
      ],
      "source": [
        "words_tpl = tuple(words)\n",
        "print(words_tpl)"
      ]
    },
    {
      "cell_type": "code",
      "source": [
        "list(words_tpl)"
      ],
      "metadata": {
        "colab": {
          "base_uri": "https://localhost:8080/"
        },
        "id": "BV2XkEeTu5NO",
        "outputId": "d10599f8-f713-46fa-e7cf-b2b17aaf34a9"
      },
      "execution_count": null,
      "outputs": [
        {
          "output_type": "execute_result",
          "data": {
            "text/plain": [
              "['spam', 'eggs', 'sausages', 'eggs']"
            ]
          },
          "metadata": {},
          "execution_count": 43
        }
      ]
    },
    {
      "cell_type": "markdown",
      "metadata": {
        "id": "z3vDZ178cxSQ"
      },
      "source": [
        "## Dictionaries"
      ]
    },
    {
      "cell_type": "code",
      "execution_count": null,
      "metadata": {
        "colab": {
          "base_uri": "https://localhost:8080/"
        },
        "id": "1u4_8vpra5G5",
        "outputId": "5aaca942-1cae-4966-c9de-62f6b3aa9469"
      },
      "outputs": [
        {
          "output_type": "execute_result",
          "data": {
            "text/plain": [
              "dict"
            ]
          },
          "metadata": {},
          "execution_count": 21
        }
      ],
      "source": [
        "# Dictionaries map keys to value, keys must be inmutable\n",
        "ages = {\"David\":34, \"Felipe\":50, \"Ana\": 25}\n",
        "type(ages)"
      ]
    },
    {
      "cell_type": "code",
      "execution_count": null,
      "metadata": {
        "colab": {
          "base_uri": "https://localhost:8080/"
        },
        "id": "2LVgpByrdFfi",
        "outputId": "4a2f3dfd-f64b-4eb1-d10d-c3fa916915c4"
      },
      "outputs": [
        {
          "output_type": "execute_result",
          "data": {
            "text/plain": [
              "50"
            ]
          },
          "metadata": {},
          "execution_count": 22
        }
      ],
      "source": [
        "ages[\"Felipe\"]"
      ]
    },
    {
      "cell_type": "code",
      "execution_count": null,
      "metadata": {
        "id": "cXaiq-fGdSs0"
      },
      "outputs": [],
      "source": [
        "# Change the value of the dictionary\n",
        "ages[\"Felipe\"] = 80"
      ]
    },
    {
      "cell_type": "code",
      "execution_count": null,
      "metadata": {
        "colab": {
          "base_uri": "https://localhost:8080/"
        },
        "id": "QVfFphnZdnYo",
        "outputId": "cf2d2c5a-5391-41a5-ce85-56394933434a"
      },
      "outputs": [
        {
          "output_type": "stream",
          "name": "stdout",
          "text": [
            "{'David': 34, 'Felipe': 80, 'Ana': 25}\n"
          ]
        }
      ],
      "source": [
        "print(ages)"
      ]
    },
    {
      "cell_type": "code",
      "execution_count": null,
      "metadata": {
        "colab": {
          "base_uri": "https://localhost:8080/"
        },
        "id": "YVQKSugwdogo",
        "outputId": "84c83512-1027-444d-b03e-80127ca33f21"
      },
      "outputs": [
        {
          "output_type": "stream",
          "name": "stdout",
          "text": [
            "False\n"
          ]
        }
      ],
      "source": [
        "# Check wheter an element is in the dictinary\n",
        "print(\"Camila\" in ages)"
      ]
    },
    {
      "cell_type": "code",
      "execution_count": null,
      "metadata": {
        "colab": {
          "base_uri": "https://localhost:8080/"
        },
        "id": "vXi74GfjeKMx",
        "outputId": "50d7e2ff-d40f-48c9-9691-8fd926ea2d73"
      },
      "outputs": [
        {
          "output_type": "execute_result",
          "data": {
            "text/plain": [
              "dict_keys(['David', 'Felipe', 'Ana'])"
            ]
          },
          "metadata": {},
          "execution_count": 26
        }
      ],
      "source": [
        "# Use one dictionary function\n",
        "ages.keys()"
      ]
    },
    {
      "cell_type": "code",
      "execution_count": null,
      "metadata": {
        "id": "egAJ5l0T99-K"
      },
      "outputs": [],
      "source": [
        "ages[\"Camila\"] = 18"
      ]
    },
    {
      "cell_type": "code",
      "execution_count": null,
      "metadata": {
        "colab": {
          "base_uri": "https://localhost:8080/"
        },
        "id": "OszZIkH2-HZc",
        "outputId": "5698ee27-ecdc-4501-f9df-4e6bc3eff7f0"
      },
      "outputs": [
        {
          "output_type": "execute_result",
          "data": {
            "text/plain": [
              "{'David': 34, 'Felipe': 80, 'Ana': 25, 'Camila': 18}"
            ]
          },
          "metadata": {},
          "execution_count": 28
        }
      ],
      "source": [
        "ages"
      ]
    },
    {
      "cell_type": "code",
      "execution_count": null,
      "metadata": {
        "colab": {
          "base_uri": "https://localhost:8080/"
        },
        "id": "6TIwNnTQfMCV",
        "outputId": "b8594ded-1d47-4971-c6e0-873ba04a0a45"
      },
      "outputs": [
        {
          "output_type": "stream",
          "name": "stdout",
          "text": [
            "[54, 108, 162, 216, 270, 324, 378, 432, 486, 540, 594, 648, 702, 756, 810, 864, 918, 972]\n"
          ]
        }
      ],
      "source": [
        "integers = []\n",
        "i = 1\n",
        "while 54*i < 1000:\n",
        "  integers.append(54*i)\n",
        "  i += 1\n",
        "\n",
        "print(integers)"
      ]
    },
    {
      "cell_type": "code",
      "execution_count": null,
      "metadata": {
        "colab": {
          "base_uri": "https://localhost:8080/"
        },
        "id": "TApHuQnVoi3-",
        "outputId": "65fbca7e-b102-4be9-cc56-f913d2c3684b"
      },
      "outputs": [
        {
          "output_type": "execute_result",
          "data": {
            "text/plain": [
              "9234"
            ]
          },
          "metadata": {},
          "execution_count": 30
        }
      ],
      "source": [
        "sum(integers)"
      ]
    },
    {
      "cell_type": "markdown",
      "metadata": {
        "id": "EQ95z7C8uaFs"
      },
      "source": [
        "## Exercise"
      ]
    },
    {
      "cell_type": "code",
      "execution_count": null,
      "metadata": {
        "colab": {
          "base_uri": "https://localhost:8080/"
        },
        "id": "HovPi-gvowNH",
        "outputId": "2945013b-84ec-4cf3-cafb-326ac365b5be"
      },
      "outputs": [
        {
          "output_type": "stream",
          "name": "stdout",
          "text": [
            "Por favor ingrese su numero magico:56\n",
            "Los múltiplos de 56 entre 1 y 1000 son:\n",
            "[54, 108, 162, 216, 270, 324, 378, 432, 486, 540, 594, 648, 702, 756, 810, 864, 918]\n",
            "Su suma es: 8262\n"
          ]
        }
      ],
      "source": [
        "number = input(\"Por favor ingrese su numero magico:\")\n",
        "integers = []\n",
        "i = 1\n",
        "number = int(number)\n",
        "while number*i < 1000:\n",
        "  integers.append(54*i)\n",
        "  i += 1\n",
        "print(\"Los múltiplos de {} entre 1 y 1000 son:\".format(number))\n",
        "print(integers)\n",
        "print(\"Su suma es: {}\".format(sum(integers)))"
      ]
    },
    {
      "cell_type": "markdown",
      "source": [
        "## Additional code"
      ],
      "metadata": {
        "id": "WnyugTzJbWgg"
      }
    },
    {
      "cell_type": "code",
      "source": [
        "import numpy as np\n",
        "import matplotlib.pyplot as plt\n",
        "age = 8\n",
        "x = np.linspace(0, 10, 100)\n",
        "y = x**2\n",
        "plt.xlabel(f\"Hello {age}\")\n",
        "\n",
        "plt.plot(x, y)"
      ],
      "metadata": {
        "colab": {
          "base_uri": "https://localhost:8080/",
          "height": 466
        },
        "id": "xZ765C6zpP1K",
        "outputId": "31a5fd8f-f840-4b8f-b2ca-a7f7b484de90"
      },
      "execution_count": null,
      "outputs": [
        {
          "output_type": "execute_result",
          "data": {
            "text/plain": [
              "[<matplotlib.lines.Line2D at 0x78dceced6110>]"
            ]
          },
          "metadata": {},
          "execution_count": 14
        },
        {
          "output_type": "display_data",
          "data": {
            "text/plain": [
              "<Figure size 640x480 with 1 Axes>"
            ],
            "image/png": "[encoded data removed]"
          },
          "metadata": {}
        }
      ]
    },
    {
      "cell_type": "code",
      "source": [
        "for i in range(10):\n",
        "  print(i)"
      ],
      "metadata": {
        "id": "XdmBbGgamrTE",
        "colab": {
          "base_uri": "https://localhost:8080/"
        },
        "outputId": "782e43ce-6773-43a8-d306-d9d7c961264e"
      },
      "execution_count": null,
      "outputs": [
        {
          "output_type": "stream",
          "name": "stdout",
          "text": [
            "0\n",
            "1\n",
            "2\n",
            "3\n",
            "4\n",
            "5\n",
            "6\n",
            "7\n",
            "8\n",
            "9\n"
          ]
        }
      ]
    },
    {
      "cell_type": "code",
      "source": [
        "a = 1\n",
        "while a < 100:\n",
        "  print(a)\n",
        "  a += 1"
      ],
      "metadata": {
        "colab": {
          "base_uri": "https://localhost:8080/"
        },
        "id": "u7hqhuRXwgl1",
        "outputId": "dbd1bc81-091c-446b-8ea2-38be83a28d28"
      },
      "execution_count": null,
      "outputs": [
        {
          "output_type": "stream",
          "name": "stdout",
          "text": [
            "1\n",
            "2\n",
            "3\n",
            "4\n",
            "5\n",
            "6\n",
            "7\n",
            "8\n",
            "9\n",
            "10\n",
            "11\n",
            "12\n",
            "13\n",
            "14\n",
            "15\n",
            "16\n",
            "17\n",
            "18\n",
            "19\n",
            "20\n",
            "21\n",
            "22\n",
            "23\n",
            "24\n",
            "25\n",
            "26\n",
            "27\n",
            "28\n",
            "29\n",
            "30\n",
            "31\n",
            "32\n",
            "33\n",
            "34\n",
            "35\n",
            "36\n",
            "37\n",
            "38\n",
            "39\n",
            "40\n",
            "41\n",
            "42\n",
            "43\n",
            "44\n",
            "45\n",
            "46\n",
            "47\n",
            "48\n",
            "49\n",
            "50\n",
            "51\n",
            "52\n",
            "53\n",
            "54\n",
            "55\n",
            "56\n",
            "57\n",
            "58\n",
            "59\n",
            "60\n",
            "61\n",
            "62\n",
            "63\n",
            "64\n",
            "65\n",
            "66\n",
            "67\n",
            "68\n",
            "69\n",
            "70\n",
            "71\n",
            "72\n",
            "73\n",
            "74\n",
            "75\n",
            "76\n",
            "77\n",
            "78\n",
            "79\n",
            "80\n",
            "81\n",
            "82\n",
            "83\n",
            "84\n",
            "85\n",
            "86\n",
            "87\n",
            "88\n",
            "89\n",
            "90\n",
            "91\n",
            "92\n",
            "93\n",
            "94\n",
            "95\n",
            "96\n",
            "97\n",
            "98\n",
            "99\n"
          ]
        }
      ]
    },
    {
      "cell_type": "code",
      "source": [
        "a = 1\n",
        "while True:\n",
        "  print(a)\n",
        "  a += 1\n",
        "  if a > 100:\n",
        "    break\n"
      ],
      "metadata": {
        "colab": {
          "base_uri": "https://localhost:8080/"
        },
        "id": "mdGwTmF0wuKR",
        "outputId": "d7dc7afd-4884-413c-9df2-b820c4fad588"
      },
      "execution_count": null,
      "outputs": [
        {
          "output_type": "stream",
          "name": "stdout",
          "text": [
            "1\n",
            "2\n",
            "3\n",
            "4\n",
            "5\n",
            "6\n",
            "7\n",
            "8\n",
            "9\n",
            "10\n",
            "11\n",
            "12\n",
            "13\n",
            "14\n",
            "15\n",
            "16\n",
            "17\n",
            "18\n",
            "19\n",
            "20\n",
            "21\n",
            "22\n",
            "23\n",
            "24\n",
            "25\n",
            "26\n",
            "27\n",
            "28\n",
            "29\n",
            "30\n",
            "31\n",
            "32\n",
            "33\n",
            "34\n",
            "35\n",
            "36\n",
            "37\n",
            "38\n",
            "39\n",
            "40\n",
            "41\n",
            "42\n",
            "43\n",
            "44\n",
            "45\n",
            "46\n",
            "47\n",
            "48\n",
            "49\n",
            "50\n",
            "51\n",
            "52\n",
            "53\n",
            "54\n",
            "55\n",
            "56\n",
            "57\n",
            "58\n",
            "59\n",
            "60\n",
            "61\n",
            "62\n",
            "63\n",
            "64\n",
            "65\n",
            "66\n",
            "67\n",
            "68\n",
            "69\n",
            "70\n",
            "71\n",
            "72\n",
            "73\n",
            "74\n",
            "75\n",
            "76\n",
            "77\n",
            "78\n",
            "79\n",
            "80\n",
            "81\n",
            "82\n",
            "83\n",
            "84\n",
            "85\n",
            "86\n",
            "87\n",
            "88\n",
            "89\n",
            "90\n",
            "91\n",
            "92\n",
            "93\n",
            "94\n",
            "95\n",
            "96\n",
            "97\n",
            "98\n",
            "99\n",
            "100\n"
          ]
        }
      ]
    },
    {
      "cell_type": "code",
      "source": [],
      "metadata": {
        "id": "e464K6CUxCUT"
      },
      "execution_count": null,
      "outputs": []
    }
  ],
  "metadata": {
    "colab": {
      "provenance": []
    },
    "kernelspec": {
      "display_name": "Python 3",
      "language": "python",
      "name": "python3"
    },
    "language_info": {
      "codemirror_mode": {
        "name": "ipython",
        "version": 3
      },
      "file_extension": ".py",
      "mimetype": "text/x-python",
      "name": "python",
      "nbconvert_exporter": "python",
      "pygments_lexer": "ipython3",
      "version": "3.8.10"
    }
  },
  "nbformat": 4,
  "nbformat_minor": 0
}