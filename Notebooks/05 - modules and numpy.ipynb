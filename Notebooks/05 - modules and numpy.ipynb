{
 "cells": [
  {
   "cell_type": "markdown",
   "metadata": {
    "id": "GzkG4LcQt4-1"
   },
   "source": [
    "# Introduction to Python 5\n",
    "\n",
    "## Modules and Numpy\n",
    "\n",
    "## Metodos Computacionales I\n",
    "## Uniandes\n",
    "\n",
    "Based on [SoloLearn Python](https://www.sololearn.com/Play/Python)"
   ]
  },
  {
   "cell_type": "markdown",
   "metadata": {
    "id": "raGL9qCjjX5H"
   },
   "source": [
    "## Pip Install Modules"
   ]
  },
  {
   "cell_type": "code",
   "execution_count": null,
   "metadata": {
    "colab": {
     "base_uri": "https://localhost:8080/",
     "height": 105
    },
    "executionInfo": {
     "elapsed": 4642,
     "status": "ok",
     "timestamp": 1602636112060,
     "user": {
      "displayName": "Diego Useche Reyes",
      "photoUrl": "https://lh3.googleusercontent.com/a-/AOh14Gg6lrk9agmplTKK54rGVqavR8_tM4odcJqDil2B2w=s64",
      "userId": "02270832771774592167"
     },
     "user_tz": 300
    },
    "id": "Hs-MV0QhjW2k",
    "outputId": "e5b03c9d-06c4-49f2-973d-628fd02fa2ac"
   },
   "outputs": [
    {
     "name": "stdout",
     "output_type": "stream",
     "text": [
      "Collecting colorama\n",
      "  Downloading https://files.pythonhosted.org/packages/44/98/5b86278fbbf250d239ae0ecb724f8572af1c91f4a11edf4d36a206189440/colorama-0.4.4-py2.py3-none-any.whl\n",
      "Installing collected packages: colorama\n",
      "Successfully installed colorama-0.4.4\n"
     ]
    }
   ],
   "source": [
    "# To install a library we use a Linux command\n",
    "!pip install colorama"
   ]
  },
  {
   "cell_type": "code",
   "execution_count": null,
   "metadata": {
    "id": "Sct5guZwjjyk"
   },
   "outputs": [],
   "source": [
    "import colorama\n",
    "from colorama import Fore, Style"
   ]
  },
  {
   "cell_type": "code",
   "execution_count": null,
   "metadata": {
    "id": "K9CPjbTwjn0s"
   },
   "outputs": [],
   "source": [
    "Fore??"
   ]
  },
  {
   "cell_type": "code",
   "execution_count": null,
   "metadata": {
    "colab": {
     "base_uri": "https://localhost:8080/",
     "height": 34
    },
    "executionInfo": {
     "elapsed": 569,
     "status": "ok",
     "timestamp": 1602636468795,
     "user": {
      "displayName": "Diego Useche Reyes",
      "photoUrl": "https://lh3.googleusercontent.com/a-/AOh14Gg6lrk9agmplTKK54rGVqavR8_tM4odcJqDil2B2w=s64",
      "userId": "02270832771774592167"
     },
     "user_tz": 300
    },
    "id": "U0QzDXxsjrOc",
    "outputId": "127b3bf7-52cd-4174-9d40-81e8a5d808ac"
   },
   "outputs": [
    {
     "name": "stdout",
     "output_type": "stream",
     "text": [
      "\u001b[34mHello World\n"
     ]
    }
   ],
   "source": [
    "print(Fore.BLUE + \"Hello World\")"
   ]
  },
  {
   "cell_type": "code",
   "execution_count": 1,
   "metadata": {
    "executionInfo": {
     "elapsed": 2396,
     "status": "ok",
     "timestamp": 1602700583951,
     "user": {
      "displayName": "Diego Useche Reyes",
      "photoUrl": "https://lh3.googleusercontent.com/a-/AOh14Gg6lrk9agmplTKK54rGVqavR8_tM4odcJqDil2B2w=s64",
      "userId": "02270832771774592167"
     },
     "user_tz": 300
    },
    "id": "dClOv_Tsk277"
   },
   "outputs": [],
   "source": [
    "import tensorflow as tf\n",
    "from tensorflow.keras.layers import Dense"
   ]
  },
  {
   "cell_type": "code",
   "execution_count": 2,
   "metadata": {
    "executionInfo": {
     "elapsed": 475,
     "status": "ok",
     "timestamp": 1602700600686,
     "user": {
      "displayName": "Diego Useche Reyes",
      "photoUrl": "https://lh3.googleusercontent.com/a-/AOh14Gg6lrk9agmplTKK54rGVqavR8_tM4odcJqDil2B2w=s64",
      "userId": "02270832771774592167"
     },
     "user_tz": 300
    },
    "id": "M3U9D24alZXq"
   },
   "outputs": [],
   "source": [
    "Dense??"
   ]
  },
  {
   "cell_type": "markdown",
   "metadata": {
    "id": "vXRBKOJll4P8"
   },
   "source": [
    "## Numpy Arrays"
   ]
  },
  {
   "cell_type": "code",
   "execution_count": 5,
   "metadata": {
    "executionInfo": {
     "elapsed": 535,
     "status": "ok",
     "timestamp": 1602700711382,
     "user": {
      "displayName": "Diego Useche Reyes",
      "photoUrl": "https://lh3.googleusercontent.com/a-/AOh14Gg6lrk9agmplTKK54rGVqavR8_tM4odcJqDil2B2w=s64",
      "userId": "02270832771774592167"
     },
     "user_tz": 300
    },
    "id": "2hkxhwAGmAS5"
   },
   "outputs": [],
   "source": [
    "import numpy as np"
   ]
  },
  {
   "cell_type": "code",
   "execution_count": 6,
   "metadata": {
    "colab": {
     "base_uri": "https://localhost:8080/",
     "height": 51
    },
    "executionInfo": {
     "elapsed": 475,
     "status": "ok",
     "timestamp": 1602700741249,
     "user": {
      "displayName": "Diego Useche Reyes",
      "photoUrl": "https://lh3.googleusercontent.com/a-/AOh14Gg6lrk9agmplTKK54rGVqavR8_tM4odcJqDil2B2w=s64",
      "userId": "02270832771774592167"
     },
     "user_tz": 300
    },
    "id": "rFhg_BoRllqh",
    "outputId": "e80f50b5-c002-4d32-ce84-0f798977ab4d"
   },
   "outputs": [
    {
     "data": {
      "text/plain": [
       "array([[1, 2, 3, 4],\n",
       "       [5, 6, 7, 8]])"
      ]
     },
     "execution_count": 6,
     "metadata": {
      "tags": []
     },
     "output_type": "execute_result"
    }
   ],
   "source": [
    "# Creating a numpy array\n",
    "a = np.array([[1,2,3,4],[5,6,7,8]])\n",
    "\n",
    "a"
   ]
  },
  {
   "cell_type": "code",
   "execution_count": 7,
   "metadata": {
    "colab": {
     "base_uri": "https://localhost:8080/",
     "height": 51
    },
    "executionInfo": {
     "elapsed": 375,
     "status": "ok",
     "timestamp": 1602700821873,
     "user": {
      "displayName": "Diego Useche Reyes",
      "photoUrl": "https://lh3.googleusercontent.com/a-/AOh14Gg6lrk9agmplTKK54rGVqavR8_tM4odcJqDil2B2w=s64",
      "userId": "02270832771774592167"
     },
     "user_tz": 300
    },
    "id": "Rm0bWTALl--2",
    "outputId": "6a721ce1-bfc7-4ac2-be28-9858b8effdc5"
   },
   "outputs": [
    {
     "name": "stdout",
     "output_type": "stream",
     "text": [
      "2\n",
      "2\n"
     ]
    }
   ],
   "source": [
    "# Selecting an element in two diferent ways\n",
    "print(a[0][1])\n",
    "print(a[0, 1])"
   ]
  },
  {
   "cell_type": "code",
   "execution_count": 9,
   "metadata": {
    "colab": {
     "base_uri": "https://localhost:8080/",
     "height": 85
    },
    "executionInfo": {
     "elapsed": 498,
     "status": "ok",
     "timestamp": 1602700928786,
     "user": {
      "displayName": "Diego Useche Reyes",
      "photoUrl": "https://lh3.googleusercontent.com/a-/AOh14Gg6lrk9agmplTKK54rGVqavR8_tM4odcJqDil2B2w=s64",
      "userId": "02270832771774592167"
     },
     "user_tz": 300
    },
    "id": "dUgXwr_JmM_G",
    "outputId": "dd141f83-6440-4e9d-990f-2ee02a0dc37c"
   },
   "outputs": [
    {
     "name": "stdout",
     "output_type": "stream",
     "text": [
      "2\n",
      "(2, 4)\n",
      "8\n",
      "<class 'numpy.ndarray'>\n"
     ]
    }
   ],
   "source": [
    "# Attributes of a numpy array\n",
    "print(a.ndim)\n",
    "print(a.shape)\n",
    "print(a.size)\n",
    "print(type(a))"
   ]
  },
  {
   "cell_type": "markdown",
   "metadata": {
    "id": "lddi4VpLmlJY"
   },
   "source": [
    "## Initializing a numpy array"
   ]
  },
  {
   "cell_type": "code",
   "execution_count": 10,
   "metadata": {
    "colab": {
     "base_uri": "https://localhost:8080/",
     "height": 51
    },
    "executionInfo": {
     "elapsed": 510,
     "status": "ok",
     "timestamp": 1602700966823,
     "user": {
      "displayName": "Diego Useche Reyes",
      "photoUrl": "https://lh3.googleusercontent.com/a-/AOh14Gg6lrk9agmplTKK54rGVqavR8_tM4odcJqDil2B2w=s64",
      "userId": "02270832771774592167"
     },
     "user_tz": 300
    },
    "id": "LJyYXf1omTg9",
    "outputId": "bbdb93e7-8bcf-4c59-f91a-6356d5590a68"
   },
   "outputs": [
    {
     "data": {
      "text/plain": [
       "array([[1., 1., 1.],\n",
       "       [1., 1., 1.]])"
      ]
     },
     "execution_count": 10,
     "metadata": {
      "tags": []
     },
     "output_type": "execute_result"
    }
   ],
   "source": [
    "# Array of ones\n",
    "b = np.ones((2,3))\n",
    "\n",
    "b"
   ]
  },
  {
   "cell_type": "code",
   "execution_count": 11,
   "metadata": {
    "colab": {
     "base_uri": "https://localhost:8080/",
     "height": 51
    },
    "executionInfo": {
     "elapsed": 475,
     "status": "ok",
     "timestamp": 1602700986416,
     "user": {
      "displayName": "Diego Useche Reyes",
      "photoUrl": "https://lh3.googleusercontent.com/a-/AOh14Gg6lrk9agmplTKK54rGVqavR8_tM4odcJqDil2B2w=s64",
      "userId": "02270832771774592167"
     },
     "user_tz": 300
    },
    "id": "MY9YAQhEm7Ai",
    "outputId": "85643ee8-de4c-41c4-ff06-9b1a5d2b09ed"
   },
   "outputs": [
    {
     "data": {
      "text/plain": [
       "array([[0., 0., 0., 0.],\n",
       "       [0., 0., 0., 0.]])"
      ]
     },
     "execution_count": 11,
     "metadata": {
      "tags": []
     },
     "output_type": "execute_result"
    }
   ],
   "source": [
    "# Array of zeros\n",
    "c = np.zeros((2,4))\n",
    "\n",
    "c"
   ]
  },
  {
   "cell_type": "code",
   "execution_count": 13,
   "metadata": {
    "colab": {
     "base_uri": "https://localhost:8080/",
     "height": 51
    },
    "executionInfo": {
     "elapsed": 451,
     "status": "ok",
     "timestamp": 1602701042930,
     "user": {
      "displayName": "Diego Useche Reyes",
      "photoUrl": "https://lh3.googleusercontent.com/a-/AOh14Gg6lrk9agmplTKK54rGVqavR8_tM4odcJqDil2B2w=s64",
      "userId": "02270832771774592167"
     },
     "user_tz": 300
    },
    "id": "RXDXbh6zbK4W",
    "outputId": "9f58f451-dc0e-4cd2-c43c-54ce2a991b6b"
   },
   "outputs": [
    {
     "data": {
      "text/plain": [
       "array([[3, 3, 3, 3],\n",
       "       [3, 3, 3, 3]])"
      ]
     },
     "execution_count": 13,
     "metadata": {
      "tags": []
     },
     "output_type": "execute_result"
    }
   ],
   "source": [
    "h = np.full((2,4), 3)\n",
    "h"
   ]
  },
  {
   "cell_type": "code",
   "execution_count": 14,
   "metadata": {
    "colab": {
     "base_uri": "https://localhost:8080/",
     "height": 51
    },
    "executionInfo": {
     "elapsed": 579,
     "status": "ok",
     "timestamp": 1602701073025,
     "user": {
      "displayName": "Diego Useche Reyes",
      "photoUrl": "https://lh3.googleusercontent.com/a-/AOh14Gg6lrk9agmplTKK54rGVqavR8_tM4odcJqDil2B2w=s64",
      "userId": "02270832771774592167"
     },
     "user_tz": 300
    },
    "id": "yI3mbhZpnHo-",
    "outputId": "80f36184-37b6-4676-881c-2117a72342f1"
   },
   "outputs": [
    {
     "data": {
      "text/plain": [
       "array([[0.14310755, 0.53782233, 0.31065513, 0.2448181 ],\n",
       "       [0.07355256, 0.55165455, 0.56160801, 0.06921017]])"
      ]
     },
     "execution_count": 14,
     "metadata": {
      "tags": []
     },
     "output_type": "execute_result"
    }
   ],
   "source": [
    "# Array of random numbers\n",
    "d = np.random.random((2,4))\n",
    "\n",
    "d"
   ]
  },
  {
   "cell_type": "code",
   "execution_count": 17,
   "metadata": {
    "colab": {
     "base_uri": "https://localhost:8080/",
     "height": 85
    },
    "executionInfo": {
     "elapsed": 457,
     "status": "ok",
     "timestamp": 1602701153971,
     "user": {
      "displayName": "Diego Useche Reyes",
      "photoUrl": "https://lh3.googleusercontent.com/a-/AOh14Gg6lrk9agmplTKK54rGVqavR8_tM4odcJqDil2B2w=s64",
      "userId": "02270832771774592167"
     },
     "user_tz": 300
    },
    "id": "A3u-9oBInSzW",
    "outputId": "86abc891-fc27-446e-91da-b3716b39d1ad"
   },
   "outputs": [
    {
     "data": {
      "text/plain": [
       "array([[1., 0., 0., 0.],\n",
       "       [0., 1., 0., 0.],\n",
       "       [0., 0., 1., 0.],\n",
       "       [0., 0., 0., 1.]])"
      ]
     },
     "execution_count": 17,
     "metadata": {
      "tags": []
     },
     "output_type": "execute_result"
    }
   ],
   "source": [
    "# Identity matrix\n",
    "#g = np.eye(4)\n",
    "g = np.identity(4)\n",
    "g"
   ]
  },
  {
   "cell_type": "markdown",
   "metadata": {
    "id": "Ah6L5oq_nlas"
   },
   "source": [
    "## Creating ranges in numpy arrays"
   ]
  },
  {
   "cell_type": "code",
   "execution_count": 22,
   "metadata": {
    "colab": {
     "base_uri": "https://localhost:8080/",
     "height": 34
    },
    "executionInfo": {
     "elapsed": 526,
     "status": "ok",
     "timestamp": 1602701255427,
     "user": {
      "displayName": "Diego Useche Reyes",
      "photoUrl": "https://lh3.googleusercontent.com/a-/AOh14Gg6lrk9agmplTKK54rGVqavR8_tM4odcJqDil2B2w=s64",
      "userId": "02270832771774592167"
     },
     "user_tz": 300
    },
    "id": "21Uc8RMEbxUA",
    "outputId": "0f9c01d9-4764-4514-962c-e0a9a3ae1dc0"
   },
   "outputs": [
    {
     "name": "stdout",
     "output_type": "stream",
     "text": [
      "[0, 1, 2, 3, 4, 5, 6, 7, 8, 9]\n"
     ]
    }
   ],
   "source": [
    "l = range(10)\n",
    "print([i for i in range(10)])"
   ]
  },
  {
   "cell_type": "code",
   "execution_count": 23,
   "metadata": {
    "colab": {
     "base_uri": "https://localhost:8080/",
     "height": 34
    },
    "executionInfo": {
     "elapsed": 707,
     "status": "ok",
     "timestamp": 1602701275082,
     "user": {
      "displayName": "Diego Useche Reyes",
      "photoUrl": "https://lh3.googleusercontent.com/a-/AOh14Gg6lrk9agmplTKK54rGVqavR8_tM4odcJqDil2B2w=s64",
      "userId": "02270832771774592167"
     },
     "user_tz": 300
    },
    "id": "t-xoWO6DnaCP",
    "outputId": "526f2db7-3d33-4302-c1c5-7133aae27e44"
   },
   "outputs": [
    {
     "name": "stdout",
     "output_type": "stream",
     "text": [
      "[0 1 2 3 4 5 6 7 8 9]\n"
     ]
    }
   ],
   "source": [
    "# numpy range\n",
    "j = np.arange(10)\n",
    "print(j)"
   ]
  },
  {
   "cell_type": "code",
   "execution_count": 24,
   "metadata": {
    "colab": {
     "base_uri": "https://localhost:8080/",
     "height": 34
    },
    "executionInfo": {
     "elapsed": 522,
     "status": "ok",
     "timestamp": 1602701299021,
     "user": {
      "displayName": "Diego Useche Reyes",
      "photoUrl": "https://lh3.googleusercontent.com/a-/AOh14Gg6lrk9agmplTKK54rGVqavR8_tM4odcJqDil2B2w=s64",
      "userId": "02270832771774592167"
     },
     "user_tz": 300
    },
    "id": "3_yBsXg_n3T7",
    "outputId": "ecd25188-a7e9-49ba-9a95-38c13928346d"
   },
   "outputs": [
    {
     "name": "stdout",
     "output_type": "stream",
     "text": [
      "[0 2 4 6 8]\n"
     ]
    }
   ],
   "source": [
    "# numpy range\n",
    "i = np.arange(0,10,2)\n",
    "print(i)"
   ]
  },
  {
   "cell_type": "code",
   "execution_count": 26,
   "metadata": {
    "colab": {
     "base_uri": "https://localhost:8080/",
     "height": 119
    },
    "executionInfo": {
     "elapsed": 674,
     "status": "ok",
     "timestamp": 1602701357405,
     "user": {
      "displayName": "Diego Useche Reyes",
      "photoUrl": "https://lh3.googleusercontent.com/a-/AOh14Gg6lrk9agmplTKK54rGVqavR8_tM4odcJqDil2B2w=s64",
      "userId": "02270832771774592167"
     },
     "user_tz": 300
    },
    "id": "W3EIYq22n_cp",
    "outputId": "6bf42054-2286-43e6-aa63-9b4841da756c"
   },
   "outputs": [
    {
     "name": "stdout",
     "output_type": "stream",
     "text": [
      "[ 0.          0.28571429  0.57142857  0.85714286  1.14285714  1.42857143\n",
      "  1.71428571  2.          2.28571429  2.57142857  2.85714286  3.14285714\n",
      "  3.42857143  3.71428571  4.          4.28571429  4.57142857  4.85714286\n",
      "  5.14285714  5.42857143  5.71428571  6.          6.28571429  6.57142857\n",
      "  6.85714286  7.14285714  7.42857143  7.71428571  8.          8.28571429\n",
      "  8.57142857  8.85714286  9.14285714  9.42857143  9.71428571 10.        ]\n"
     ]
    }
   ],
   "source": [
    "# Creating a list with numbers in between\n",
    "k= np.linspace(0,10,36)\n",
    "print(k)"
   ]
  },
  {
   "cell_type": "markdown",
   "metadata": {
    "id": "d8uE2mJ4oRcS"
   },
   "source": [
    "## Utils Functions"
   ]
  },
  {
   "cell_type": "code",
   "execution_count": 57,
   "metadata": {
    "colab": {
     "base_uri": "https://localhost:8080/",
     "height": 102
    },
    "executionInfo": {
     "elapsed": 744,
     "status": "ok",
     "timestamp": 1602703838725,
     "user": {
      "displayName": "Diego Useche Reyes",
      "photoUrl": "https://lh3.googleusercontent.com/a-/AOh14Gg6lrk9agmplTKK54rGVqavR8_tM4odcJqDil2B2w=s64",
      "userId": "02270832771774592167"
     },
     "user_tz": 300
    },
    "id": "KhJOaJK3oHA8",
    "outputId": "5a4f58f2-aed5-49b0-a91f-777e5db1b34c"
   },
   "outputs": [
    {
     "name": "stdout",
     "output_type": "stream",
     "text": [
      "[[1 2 3]\n",
      " [4 5 6]]\n",
      "[[1 2]\n",
      " [3 4]\n",
      " [5 6]]\n"
     ]
    }
   ],
   "source": [
    "# Reshaping a matrix\n",
    "l = np.array([[1,2,3],[4,5,6]])\n",
    "print(l)\n",
    "#print(l.shape)\n",
    "print(l.reshape(3,2))"
   ]
  },
  {
   "cell_type": "markdown",
   "metadata": {
    "id": "ZtRNOBeeoj3X"
   },
   "source": [
    "## Slicing numpy arrays"
   ]
  },
  {
   "cell_type": "code",
   "execution_count": 40,
   "metadata": {
    "colab": {
     "base_uri": "https://localhost:8080/",
     "height": 85
    },
    "executionInfo": {
     "elapsed": 587,
     "status": "ok",
     "timestamp": 1602701846637,
     "user": {
      "displayName": "Diego Useche Reyes",
      "photoUrl": "https://lh3.googleusercontent.com/a-/AOh14Gg6lrk9agmplTKK54rGVqavR8_tM4odcJqDil2B2w=s64",
      "userId": "02270832771774592167"
     },
     "user_tz": 300
    },
    "id": "9r1sBn51oW5J",
    "outputId": "49a0f389-e462-44f3-bd9f-25eb56ee1953"
   },
   "outputs": [
    {
     "name": "stdout",
     "output_type": "stream",
     "text": [
      "[0 1 2 3 4 5 6 7]\n",
      "[7 6 5 4 3 2 1 0]\n",
      "[0 1 2 3 4]\n",
      "[6 7]\n"
     ]
    }
   ],
   "source": [
    "# Create an array\n",
    "m = np.arange(8)\n",
    "print(m)\n",
    "# Slicing\n",
    "n = m[::-1]\n",
    "print(n)\n",
    "o = m[:5]\n",
    "print(o)\n",
    "p = m[6:]\n",
    "print(p)"
   ]
  },
  {
   "cell_type": "code",
   "execution_count": 41,
   "metadata": {
    "colab": {
     "base_uri": "https://localhost:8080/",
     "height": 34
    },
    "executionInfo": {
     "elapsed": 626,
     "status": "ok",
     "timestamp": 1602701868412,
     "user": {
      "displayName": "Diego Useche Reyes",
      "photoUrl": "https://lh3.googleusercontent.com/a-/AOh14Gg6lrk9agmplTKK54rGVqavR8_tM4odcJqDil2B2w=s64",
      "userId": "02270832771774592167"
     },
     "user_tz": 300
    },
    "id": "IuHLcrEcpbOe",
    "outputId": "ebd5f19c-6b15-4790-889c-0cc2ab8248d1"
   },
   "outputs": [
    {
     "name": "stdout",
     "output_type": "stream",
     "text": [
      "[  0   1   2   3 100   5   6   7]\n"
     ]
    }
   ],
   "source": [
    "# Changing a value of the array\n",
    "m[4] = 100\n",
    "print(m)"
   ]
  },
  {
   "cell_type": "code",
   "execution_count": 50,
   "metadata": {
    "colab": {
     "base_uri": "https://localhost:8080/",
     "height": 68
    },
    "executionInfo": {
     "elapsed": 1064,
     "status": "ok",
     "timestamp": 1602702329031,
     "user": {
      "displayName": "Diego Useche Reyes",
      "photoUrl": "https://lh3.googleusercontent.com/a-/AOh14Gg6lrk9agmplTKK54rGVqavR8_tM4odcJqDil2B2w=s64",
      "userId": "02270832771774592167"
     },
     "user_tz": 300
    },
    "id": "ZXsrlc3ZpnzN",
    "outputId": "fff44b21-e159-4dcb-f9c3-712d6974eb5b"
   },
   "outputs": [
    {
     "name": "stdout",
     "output_type": "stream",
     "text": [
      "[[10 11 12 13]\n",
      " [20 22 23 25]]\n",
      "[20 22 23 25]\n"
     ]
    }
   ],
   "source": [
    "# Multidimensional slicing\n",
    "q = np.array([[10,11,12,13],[20,22,23,25]])\n",
    "print(q)\n",
    "# # Select some elements\n",
    "#print(q[0:1,1])\n",
    "# Select a column\n",
    "# print(q[:,0])\n",
    "# # Select a row\n",
    "print(q[1,:])"
   ]
  },
  {
   "cell_type": "markdown",
   "metadata": {
    "id": "FLjC0RJRqacW"
   },
   "source": [
    "## Arithmetic Operations"
   ]
  },
  {
   "cell_type": "code",
   "execution_count": 51,
   "metadata": {
    "executionInfo": {
     "elapsed": 561,
     "status": "ok",
     "timestamp": 1602702354926,
     "user": {
      "displayName": "Diego Useche Reyes",
      "photoUrl": "https://lh3.googleusercontent.com/a-/AOh14Gg6lrk9agmplTKK54rGVqavR8_tM4odcJqDil2B2w=s64",
      "userId": "02270832771774592167"
     },
     "user_tz": 300
    },
    "id": "4PZOpD6nqQXl"
   },
   "outputs": [],
   "source": [
    "x = np.array([[1,2,3,4],[5,6,7,8]])\n",
    "y = np.array([[9,10,11,12],[13,14,15,16]])"
   ]
  },
  {
   "cell_type": "code",
   "execution_count": 52,
   "metadata": {
    "colab": {
     "base_uri": "https://localhost:8080/",
     "height": 51
    },
    "executionInfo": {
     "elapsed": 450,
     "status": "ok",
     "timestamp": 1602702360981,
     "user": {
      "displayName": "Diego Useche Reyes",
      "photoUrl": "https://lh3.googleusercontent.com/a-/AOh14Gg6lrk9agmplTKK54rGVqavR8_tM4odcJqDil2B2w=s64",
      "userId": "02270832771774592167"
     },
     "user_tz": 300
    },
    "id": "7jOH7SUkqhNI",
    "outputId": "13d67060-5f39-4156-8cd8-8b2ffb1c0054"
   },
   "outputs": [
    {
     "name": "stdout",
     "output_type": "stream",
     "text": [
      "[[10 12 14 16]\n",
      " [18 20 22 24]]\n"
     ]
    }
   ],
   "source": [
    "# Add two matrices\n",
    "z = x + y\n",
    "print(z)"
   ]
  },
  {
   "cell_type": "code",
   "execution_count": 53,
   "metadata": {
    "colab": {
     "base_uri": "https://localhost:8080/",
     "height": 85
    },
    "executionInfo": {
     "elapsed": 630,
     "status": "ok",
     "timestamp": 1602702465025,
     "user": {
      "displayName": "Diego Useche Reyes",
      "photoUrl": "https://lh3.googleusercontent.com/a-/AOh14Gg6lrk9agmplTKK54rGVqavR8_tM4odcJqDil2B2w=s64",
      "userId": "02270832771774592167"
     },
     "user_tz": 300
    },
    "id": "RUpxRGoHqjKn",
    "outputId": "6dae3e8e-6b90-4ffb-f40c-cf6f5433b3e0"
   },
   "outputs": [
    {
     "name": "stdout",
     "output_type": "stream",
     "text": [
      "[[2.71828183e+00 7.38905610e+00 2.00855369e+01 5.45981500e+01]\n",
      " [1.48413159e+02 4.03428793e+02 1.09663316e+03 2.98095799e+03]]\n",
      "[[1.         1.41421356 1.73205081 2.        ]\n",
      " [2.23606798 2.44948974 2.64575131 2.82842712]]\n"
     ]
    }
   ],
   "source": [
    "# Numpy functions\n",
    "a = np.exp(x)\n",
    "print(a)\n",
    "b = np.sqrt(x)\n",
    "print(b)"
   ]
  },
  {
   "cell_type": "code",
   "execution_count": 54,
   "metadata": {
    "colab": {
     "base_uri": "https://localhost:8080/",
     "height": 231
    },
    "executionInfo": {
     "elapsed": 608,
     "status": "error",
     "timestamp": 1602702541872,
     "user": {
      "displayName": "Diego Useche Reyes",
      "photoUrl": "https://lh3.googleusercontent.com/a-/AOh14Gg6lrk9agmplTKK54rGVqavR8_tM4odcJqDil2B2w=s64",
      "userId": "02270832771774592167"
     },
     "user_tz": 300
    },
    "id": "h3FGzIdnqw2C",
    "outputId": "93560351-fda5-4f0b-a0a8-ddd3b76a421f"
   },
   "outputs": [
    {
     "ename": "ValueError",
     "evalue": "ignored",
     "output_type": "error",
     "traceback": [
      "\u001b[0;31m---------------------------------------------------------------------------\u001b[0m",
      "\u001b[0;31mValueError\u001b[0m                                Traceback (most recent call last)",
      "\u001b[0;32m<ipython-input-54-01f06e8f76a1>\u001b[0m in \u001b[0;36m<module>\u001b[0;34m()\u001b[0m\n\u001b[1;32m      1\u001b[0m \u001b[0;31m# Matrix multiplication, the shapes do not align for matrix multiplication\u001b[0m\u001b[0;34m\u001b[0m\u001b[0;34m\u001b[0m\u001b[0;34m\u001b[0m\u001b[0m\n\u001b[0;32m----> 2\u001b[0;31m \u001b[0mc\u001b[0m \u001b[0;34m=\u001b[0m \u001b[0mnp\u001b[0m\u001b[0;34m.\u001b[0m\u001b[0mdot\u001b[0m\u001b[0;34m(\u001b[0m\u001b[0mx\u001b[0m\u001b[0;34m,\u001b[0m \u001b[0my\u001b[0m\u001b[0;34m)\u001b[0m\u001b[0;34m\u001b[0m\u001b[0;34m\u001b[0m\u001b[0m\n\u001b[0m\u001b[1;32m      3\u001b[0m \u001b[0mprint\u001b[0m\u001b[0;34m(\u001b[0m\u001b[0mc\u001b[0m\u001b[0;34m)\u001b[0m\u001b[0;34m\u001b[0m\u001b[0;34m\u001b[0m\u001b[0m\n",
      "\u001b[0;32m<__array_function__ internals>\u001b[0m in \u001b[0;36mdot\u001b[0;34m(*args, **kwargs)\u001b[0m\n",
      "\u001b[0;31mValueError\u001b[0m: shapes (2,4) and (2,4) not aligned: 4 (dim 1) != 2 (dim 0)"
     ]
    }
   ],
   "source": [
    "# Matrix multiplication, the shapes do not align for matrix multiplication\n",
    "c = np.dot(x, y)\n",
    "print(c)"
   ]
  },
  {
   "cell_type": "code",
   "execution_count": 55,
   "metadata": {
    "colab": {
     "base_uri": "https://localhost:8080/",
     "height": 51
    },
    "executionInfo": {
     "elapsed": 446,
     "status": "ok",
     "timestamp": 1602702613218,
     "user": {
      "displayName": "Diego Useche Reyes",
      "photoUrl": "https://lh3.googleusercontent.com/a-/AOh14Gg6lrk9agmplTKK54rGVqavR8_tM4odcJqDil2B2w=s64",
      "userId": "02270832771774592167"
     },
     "user_tz": 300
    },
    "id": "qhxInczArNbQ",
    "outputId": "a7d5ed20-dd3b-4327-84fb-117de0358c6d"
   },
   "outputs": [
    {
     "name": "stdout",
     "output_type": "stream",
     "text": [
      "[[110 150]\n",
      " [278 382]]\n"
     ]
    }
   ],
   "source": [
    "# Matrix multiplication\n",
    "c = np.dot(x, y.T)\n",
    "print(c)"
   ]
  },
  {
   "cell_type": "code",
   "execution_count": 56,
   "metadata": {
    "colab": {
     "base_uri": "https://localhost:8080/",
     "height": 51
    },
    "executionInfo": {
     "elapsed": 532,
     "status": "ok",
     "timestamp": 1602702691342,
     "user": {
      "displayName": "Diego Useche Reyes",
      "photoUrl": "https://lh3.googleusercontent.com/a-/AOh14Gg6lrk9agmplTKK54rGVqavR8_tM4odcJqDil2B2w=s64",
      "userId": "02270832771774592167"
     },
     "user_tz": 300
    },
    "id": "FXgSkjwprecm",
    "outputId": "23f006f4-5ce8-402c-df07-e4496cf84384"
   },
   "outputs": [
    {
     "name": "stdout",
     "output_type": "stream",
     "text": [
      "[[110 150]\n",
      " [278 382]]\n"
     ]
    }
   ],
   "source": [
    "# Matrix multiplication\n",
    "print(x @ y.T)"
   ]
  },
  {
   "cell_type": "code",
   "execution_count": null,
   "metadata": {
    "id": "rQNS6btKhkj0"
   },
   "outputs": [],
   "source": []
  }
 ],
 "metadata": {
  "colab": {
   "authorship_tag": "ABX9TyNwGfFvMO3v9agOxLRVX9PI",
   "name": "python 5 modules and numpy.ipynb",
   "provenance": []
  },
  "kernelspec": {
   "display_name": "Python 3",
   "language": "python",
   "name": "python3"
  },
  "language_info": {
   "codemirror_mode": {
    "name": "ipython",
    "version": 3
   },
   "file_extension": ".py",
   "mimetype": "text/x-python",
   "name": "python",
   "nbconvert_exporter": "python",
   "pygments_lexer": "ipython3",
   "version": "3.8.10"
  }
 },
 "nbformat": 4,
 "nbformat_minor": 1
}
