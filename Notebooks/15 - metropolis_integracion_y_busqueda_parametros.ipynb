{
  "cells": [
    {
      "cell_type": "markdown",
      "metadata": {
        "id": "yxspwlhfEB75"
      },
      "source": [
        "**Métodos Computacionales I**\n",
        "\n",
        "**Universidad de los Andes**\n"
      ]
    },
    {
      "cell_type": "markdown",
      "metadata": {
        "id": "arTh2Y80A6x5"
      },
      "source": [
        "## Integración con Metropolis-Hastings\n",
        "\n",
        "Dada una distribuón $g(x)$ y una función $f(x)$ se tiene que\n",
        "\n",
        "$$ \\frac{\\int g(x)f(x)dx}{\\int f(x)dx} = \\left< g(x) \\right> \\approx \\frac{1}{N} \\sum_{i=1}^{N} g(x_{i}) $$\n",
        "\n",
        "Si se tiene una integral que se pueda escribir en la forma $\\int g(x)f(x)dx$, se puede hacer uso del algoritmo de Metropolis-Hastings para encontrar el valor de dicha integral si se calcula o se sabe $\\int f(x)dx$ (que suele llamarse factor de normalización)\n",
        "\n",
        "$$I = \\int g(x)f(x)dx \\approx \\frac{\\int f(x)dx}{N}\\sum_{i = 1}^{N}g(x_{i})$$\n"
      ]
    },
    {
      "cell_type": "code",
      "source": [
        "import numpy as np\n",
        "import matplotlib.pyplot as plt\n",
        "\n",
        "def f(x):\n",
        "  return (1/2)*(1/(np.pi*(1 + x**2)) + 1/(np.pi*(1 + (x+5)**2)))\n",
        "\n",
        "x_0 = 1.1\n",
        "\n",
        "puntos = []\n",
        "iters = 10000\n",
        "\n",
        "for i in range(iters):\n",
        "  x_1 = x_0 + np.random.normal(0, 1)\n",
        "  a = f(x_1)/f(x_0)\n",
        "\n",
        "  if a > 1:\n",
        "    x_0 = x_1\n",
        "    puntos.append(x_0)\n",
        "  else:\n",
        "    if a > np.random.rand():\n",
        "      x_0 = x_1\n",
        "      puntos.append(x_0)\n",
        "\n",
        "puntos\n",
        "x = np.linspace(-10, 10, 100)\n",
        "y = f(x)\n",
        "plt.plot(x, y)\n",
        "plt.hist(puntos, bins = 100, density = True)\n",
        "plt.show()"
      ],
      "metadata": {
        "colab": {
          "base_uri": "https://localhost:8080/",
          "height": 430
        },
        "id": "yICk2rSfRZ0P",
        "outputId": "33c994de-8098-445f-aab8-60a3b410bc58"
      },
      "execution_count": 1,
      "outputs": [
        {
          "output_type": "display_data",
          "data": {
            "text/plain": [
              "<Figure size 640x480 with 1 Axes>"
            ],
            "image/png": "[encoded data removed]"
          },
          "metadata": {}
        }
      ]
    },
    {
      "cell_type": "code",
      "source": [
        "def g(x):\n",
        "  return x[0]\n",
        "\n",
        "def p(x):\n",
        "  xp = x**2\n",
        "  return np.exp(-(-8*np.sum(x)+np.prod(xp) + np.sum(xp))*0.5)\n",
        "\n",
        "x_0 = np.array([1., 2.])\n",
        "\n",
        "puntos = []\n",
        "iters = 100000\n",
        "\n",
        "for i in range(iters):\n",
        "  x_1 = x_0 + np.random.normal(0, 0.5, 2)\n",
        "  a = p(x_1)/p(x_0)\n",
        "\n",
        "  if a > 1:\n",
        "    x_0 = x_1\n",
        "    puntos.append(x_0)\n",
        "  else:\n",
        "    if a > np.random.rand():\n",
        "      x_0 = x_1\n",
        "    puntos.append(x_0)\n",
        "\n",
        "int_temp = g(np.array(puntos))\n",
        "integral = int_temp.mean()\n",
        "\n",
        "integral"
      ],
      "metadata": {
        "colab": {
          "base_uri": "https://localhost:8080/"
        },
        "id": "kyuzoua9RZ24",
        "outputId": "17dea848-216d-478b-beaa-cf361f76ea33"
      },
      "execution_count": null,
      "outputs": [
        {
          "output_type": "execute_result",
          "data": {
            "text/plain": [
              "1.7496496910833965"
            ]
          },
          "metadata": {},
          "execution_count": 23
        }
      ]
    },
    {
      "cell_type": "markdown",
      "metadata": {
        "id": "OZlrVSXxc9WI"
      },
      "source": [
        "**Ejemplo:** Use Metropolis-Hasting para estimar el valor de la integral\n",
        "\n",
        "$$I = \\int_{-\\infty}^{\\infty} \\int_{-\\infty}^{\\infty}  x\\frac{e^{-\\frac{1}{2}(-8x-8y+x^2y^2+x^2+y^2)}}{C}dxdy$$\n",
        "\n",
        "Donde la constante de normalización $C\\approx 20216.336$"
      ]
    },
    {
      "cell_type": "code",
      "execution_count": null,
      "metadata": {
        "colab": {
          "base_uri": "https://localhost:8080/"
        },
        "id": "SxhIcDCIBjDv",
        "outputId": "7c691f4f-134a-4a8e-c926-b9e6ca997bc9"
      },
      "outputs": [
        {
          "output_type": "execute_result",
          "data": {
            "text/plain": [
              "(1.7713481827422553, 0.0103460909365267)"
            ]
          },
          "metadata": {},
          "execution_count": 24
        }
      ],
      "source": [
        "#implementación para de la integración de Metropolis-hastings en n dimensiones\n",
        "import numpy as np\n",
        "\n",
        "def integracion_metropolis(p,g,dimension, steps):\n",
        "  v_gx = np.zeros(steps)\n",
        "  old_x = np.ones(dimension)\n",
        "  old_prob = p(old_x)\n",
        "\n",
        "  for i in range(steps):\n",
        "    new_x = np.random.normal(old_x, 0.5,dimension)\n",
        "    new_prob = p(new_x)\n",
        "    aceptacion = new_prob / old_prob\n",
        "    if aceptacion > np.random.rand():\n",
        "      old_x = new_x\n",
        "      old_prob = new_prob\n",
        "    v_gx[i] = g(old_x)\n",
        "\n",
        "  return np.mean(v_gx), 2*np.std(v_gx)/np.sqrt(steps)\n",
        "\n",
        "def g(x):\n",
        "  return x[0]\n",
        "\n",
        "def p(x):\n",
        "  xp = x**2\n",
        "  return np.exp(-(-8*np.sum(x)+np.prod(xp) + np.sum(xp))*0.5)\n",
        "\n",
        "integracion_metropolis(p,g,2,100000)"
      ]
    },
    {
      "cell_type": "markdown",
      "metadata": {
        "id": "8z0llpGuA5xq"
      },
      "source": [
        "## Estimación de parámetros con Metropolis-Hastings\n",
        "\n",
        "Suponga que tiene datos $D (t_i)$,  (ya sea un escalar o un vector) en puntos discretos $t_i$ y un modelo propuesto, que produce una serie $y (t | \\theta)$, donde $\\theta$ representa un conjunto de parámetros libres que cambia la función propuesta.\n",
        "\n",
        "Lo primero que debe hacer es elegir una función de error. El más común es la suma de errores cuadrados dada por\n",
        "\n",
        "$$\\chi ^ 2 = \\sum_i \\frac {(D (t_i) -y (t_i | \\theta)) ^ 2} {2 \\sigma ^ 2}$$\n",
        "\n",
        "donde $\\sigma$ es una estimación del error de los datos. Usualmente, puede utilizar la incertidumbre experimental o simplemente adivinar.\n",
        "\n",
        "Lo que se desea es que la probabilidad $P$ sea máxima cuando $\\chi^2$ sea mínimo. Esto lo podemos plasmar por ejemplo así\n",
        "\n",
        "$$\n",
        "P(D | \\theta) = e^{- \\chi ^ 2}\n",
        "$$\n",
        "\n",
        "(Esto puede generar números que estan por fuera del rango de presición de python, si esto ocurre puede remplasar la función exponencial por otra que no cause este problema, o asegurarse de que sus valores iniciales para los parámetros no esten muy lejos de los valores buscados)"
      ]
    },
    {
      "cell_type": "code",
      "source": [
        "def model(t,c):\n",
        "  return c[0]*t + c[1]\n",
        "\n",
        "def p(t,D,model, theta):\n",
        "  sigma = 1\n",
        "  chi2 = np.sum((D - model(t,theta))**2)/(2*sigma**2)\n",
        "  return np.exp(-chi2)\n",
        "\n",
        "theta_0 = np.array([1., 2.])\n",
        "\n",
        "t = np.linspace(0,10,num=11) ### los puntos x\n",
        "D = 0.1*t + 7 + np.random.normal(0, 0.05, 11) #### puntos y\n",
        "\n",
        "\n",
        "puntos = []\n",
        "iters = 100000\n",
        "\n",
        "for i in range(iters):\n",
        "  theta_1 = theta_0 + np.random.normal(0, 1.0, 2)\n",
        "  a = p(t, D, model, theta_1)/p(t, D, model, theta_0)\n",
        "\n",
        "  if a > 1:\n",
        "    theta_0 = theta_1\n",
        "    puntos.append(theta_0)\n",
        "  else:\n",
        "    if a > np.random.rand():\n",
        "      theta_0 = theta_1\n",
        "    puntos.append(theta_0)\n",
        "\n",
        "puntos_array = np.array(puntos)\n",
        "\n",
        "puntos_array, puntos_array.mean(axis = 0)\n",
        "\n"
      ],
      "metadata": {
        "colab": {
          "base_uri": "https://localhost:8080/"
        },
        "id": "sMeXhLDpVY7g",
        "outputId": "87e23076-c563-4d56-f913-d2a9ad5dc248"
      },
      "execution_count": null,
      "outputs": [
        {
          "output_type": "execute_result",
          "data": {
            "text/plain": [
              "(array([[0.36146635, 3.74865199],\n",
              "        [0.36146635, 3.74865199],\n",
              "        [0.36146635, 3.74865199],\n",
              "        ...,\n",
              "        [0.12985609, 6.9751824 ],\n",
              "        [0.12985609, 6.9751824 ],\n",
              "        [0.12985609, 6.9751824 ]]),\n",
              " array([0.09685716, 7.00907151]))"
            ]
          },
          "metadata": {},
          "execution_count": 31
        }
      ]
    },
    {
      "cell_type": "code",
      "source": [],
      "metadata": {
        "id": "ztMCHH4mVY-J"
      },
      "execution_count": null,
      "outputs": []
    },
    {
      "cell_type": "code",
      "source": [],
      "metadata": {
        "id": "oZNPVU2uVZBA"
      },
      "execution_count": null,
      "outputs": []
    },
    {
      "cell_type": "code",
      "source": [],
      "metadata": {
        "id": "YSROVdKAVZDe"
      },
      "execution_count": null,
      "outputs": []
    },
    {
      "cell_type": "code",
      "source": [],
      "metadata": {
        "id": "DCnS9IbCVZGz"
      },
      "execution_count": null,
      "outputs": []
    },
    {
      "cell_type": "code",
      "execution_count": null,
      "metadata": {
        "id": "EG11ivoaVwt1"
      },
      "outputs": [],
      "source": [
        "import numpy as np\n",
        "\n",
        "def metropolis_fit(p,t,D,model,theta,steps):\n",
        "  dimension = len(theta)\n",
        "  muestras = np.zeros([dimension,steps])\n",
        "  probabilidad = np.zeros([dimension,steps])\n",
        "  old_theta = theta\n",
        "  old_prob = p(t,D,model, old_theta)\n",
        "\n",
        "  for i in range(steps):\n",
        "    new_theta = old_theta + np.random.normal(0, 0.5, dimension)\n",
        "    new_prob = p(t,D,model, new_theta)\n",
        "    aceptacion = new_prob / old_prob\n",
        "\n",
        "    if aceptacion > np.random.rand():\n",
        "      old_theta = new_theta\n",
        "      old_prob = new_prob\n",
        "\n",
        "    muestras[:,i] = old_theta\n",
        "    probabilidad[:,i] = old_prob\n",
        "\n",
        "  return muestras, probabilidad"
      ]
    },
    {
      "cell_type": "markdown",
      "metadata": {
        "id": "0Qohb2zxFYvb"
      },
      "source": [
        "**Ejemplo:** Ajustar con un modelo lineal los datos generados con `t = np.linspace(0,10,num=11)` y con `D = 0.1*t + 7`. Ignorar los primeros 1000 samples.\n",
        "\n",
        "\n"
      ]
    },
    {
      "cell_type": "code",
      "execution_count": null,
      "metadata": {
        "id": "OqORG0Q8FQQt"
      },
      "outputs": [],
      "source": [
        "def model(t,c):\n",
        "  return c[0]*t + c[1]\n",
        "\n",
        "def p(t,D,model, theta):\n",
        "  sigma = 1\n",
        "  chi2 = np.sum((D - model(t,theta))**2)/(2*sigma**2)\n",
        "  return np.exp(-chi2)\n",
        "\n",
        "def calcular_parametro(samples,inicio,dimension):\n",
        "  return np.mean(samples[dimension,ignora:])\n",
        "\n",
        "def mostrar_histograma(samples,inicio,dimension):\n",
        "  print('c{}:'.format(dimension),calcular_parametro(samples,inicio,dimension))\n",
        "  plt.hist(samples[dimension,ignora:], bins=50)\n",
        "  plt.show()\n",
        "\n",
        "def mostrar_ajuste(t,D,samples,inicio):\n",
        "  c0 = calcular_parametro(samples,inicio,0)\n",
        "  c1 = calcular_parametro(samples,inicio,1)\n",
        "  print(c0,c1)\n",
        "  y = c0*t + c1\n",
        "  plt.plot(t,D,'o')\n",
        "  plt.plot(t,y,c='r')\n",
        "  plt.show()\n",
        "\n",
        "t = np.linspace(0,10,num=11)\n",
        "D = 0.1*t + 7 + np.random.normal(0, 0.05, 11)\n",
        "dimensiones = 2\n",
        "steps = 100000\n",
        "theta = np.ones(dimensiones)\n",
        "samples, probabilidad = metropolis_fit(p,t,D,model,theta,steps)"
      ]
    },
    {
      "cell_type": "code",
      "execution_count": null,
      "metadata": {
        "colab": {
          "base_uri": "https://localhost:8080/",
          "height": 447
        },
        "id": "4Sko6Z_uXWH-",
        "outputId": "9f1f967d-007d-4a0b-c1bc-54f4b2afebeb"
      },
      "outputs": [
        {
          "output_type": "stream",
          "name": "stdout",
          "text": [
            "c0: 0.09841775303474302\n"
          ]
        },
        {
          "output_type": "display_data",
          "data": {
            "text/plain": [
              "<Figure size 640x480 with 1 Axes>"
            ],
            "image/png": "[encoded data removed]"
          },
          "metadata": {}
        }
      ],
      "source": [
        "import matplotlib.pyplot as plt\n",
        "plt.style.use('dark_background')\n",
        "\n",
        "dimension = 0\n",
        "ignora = 1000\n",
        "mostrar_histograma(samples,ignora,dimension)"
      ]
    },
    {
      "cell_type": "code",
      "execution_count": null,
      "metadata": {
        "colab": {
          "base_uri": "https://localhost:8080/",
          "height": 447
        },
        "id": "xe6D-e3tYGoR",
        "outputId": "d879bb12-a737-4622-e88c-129b36b96d17"
      },
      "outputs": [
        {
          "output_type": "stream",
          "name": "stdout",
          "text": [
            "c1: 6.990885856428511\n"
          ]
        },
        {
          "output_type": "display_data",
          "data": {
            "text/plain": [
              "<Figure size 640x480 with 1 Axes>"
            ],
            "image/png": "[encoded data removed]"
          },
          "metadata": {}
        }
      ],
      "source": [
        "dimension = 1\n",
        "ignora = 1000\n",
        "mostrar_histograma(samples,ignora,dimension)"
      ]
    },
    {
      "cell_type": "code",
      "execution_count": null,
      "metadata": {
        "colab": {
          "base_uri": "https://localhost:8080/",
          "height": 447
        },
        "id": "rspTe9QUJN9_",
        "outputId": "ff4d2f63-1a9f-4ff6-82d1-f7583dc21872"
      },
      "outputs": [
        {
          "output_type": "stream",
          "name": "stdout",
          "text": [
            "0.09841775303474302 6.990885856428511\n"
          ]
        },
        {
          "output_type": "display_data",
          "data": {
            "text/plain": [
              "<Figure size 640x480 with 1 Axes>"
            ],
            "image/png": "[encoded data removed]"
          },
          "metadata": {}
        }
      ],
      "source": [
        "mostrar_ajuste(t,D,samples,ignora)"
      ]
    },
    {
      "cell_type": "markdown",
      "metadata": {
        "id": "KmNpmFvrKuB4"
      },
      "source": [
        "**References**\n",
        "\n",
        "**Profesor: Diego Alberto Castro Rodríguez**"
      ]
    },
    {
      "cell_type": "code",
      "execution_count": null,
      "metadata": {
        "id": "fkSHBZ3dKuB4"
      },
      "outputs": [],
      "source": []
    }
  ],
  "metadata": {
    "colab": {
      "provenance": []
    },
    "kernelspec": {
      "display_name": "Python 3",
      "language": "python",
      "name": "python3"
    },
    "language_info": {
      "codemirror_mode": {
        "name": "ipython",
        "version": 3
      },
      "file_extension": ".py",
      "mimetype": "text/x-python",
      "name": "python",
      "nbconvert_exporter": "python",
      "pygments_lexer": "ipython3",
      "version": "3.8.10"
    }
  },
  "nbformat": 4,
  "nbformat_minor": 0
}