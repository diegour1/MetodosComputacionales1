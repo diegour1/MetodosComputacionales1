{
  "cells": [
    {
      "cell_type": "markdown",
      "metadata": {
        "id": "GzkG4LcQt4-1"
      },
      "source": [
        "# Introduction to Python\n",
        "\n",
        "## Numpy\n",
        "\n",
        "## Metodos Computacionales 1\n",
        "## Uniandes\n",
        "\n",
        "Based on [SoloLearn Python](https://www.sololearn.com/Play/Python)"
      ]
    },
    {
      "cell_type": "code",
      "source": [
        "import numpy as np\n",
        "import matplotlib.pyplot as plt"
      ],
      "metadata": {
        "id": "Pftmo8UXlm_2"
      },
      "execution_count": 23,
      "outputs": []
    },
    {
      "cell_type": "markdown",
      "metadata": {
        "id": "vXRBKOJll4P8"
      },
      "source": [
        "## Numpy Arrays"
      ]
    },
    {
      "cell_type": "code",
      "execution_count": null,
      "metadata": {
        "colab": {
          "base_uri": "https://localhost:8080/"
        },
        "id": "rFhg_BoRllqh",
        "outputId": "005940ae-debf-4b7f-9b45-b076bf220d75"
      },
      "outputs": [
        {
          "output_type": "execute_result",
          "data": {
            "text/plain": [
              "array([[1, 2, 3, 4],\n",
              "       [5, 6, 7, 8]])"
            ]
          },
          "metadata": {},
          "execution_count": 2
        }
      ],
      "source": [
        "# Creating a numpy array\n",
        "a = np.array([[1,2,3,4],[5,6,7,8]])\n",
        "\n",
        "a"
      ]
    },
    {
      "cell_type": "code",
      "execution_count": null,
      "metadata": {
        "colab": {
          "base_uri": "https://localhost:8080/"
        },
        "id": "Rm0bWTALl--2",
        "outputId": "54684d22-4772-44dd-e9b6-35260a1fe18d"
      },
      "outputs": [
        {
          "output_type": "stream",
          "name": "stdout",
          "text": [
            "2\n",
            "2\n"
          ]
        }
      ],
      "source": [
        "# Selecting an element in two diferent ways\n",
        "print(a[0][1])\n",
        "print(a[0, 1])"
      ]
    },
    {
      "cell_type": "code",
      "execution_count": null,
      "metadata": {
        "colab": {
          "base_uri": "https://localhost:8080/"
        },
        "id": "dUgXwr_JmM_G",
        "outputId": "62760e00-d956-413a-cc3e-c6da22fead3b"
      },
      "outputs": [
        {
          "output_type": "stream",
          "name": "stdout",
          "text": [
            "2\n",
            "(2, 4)\n",
            "8\n",
            "<class 'numpy.ndarray'>\n"
          ]
        }
      ],
      "source": [
        "# Attributes of a numpy array\n",
        "print(a.ndim)\n",
        "print(a.shape)\n",
        "print(a.size)\n",
        "print(type(a))"
      ]
    },
    {
      "cell_type": "markdown",
      "metadata": {
        "id": "lddi4VpLmlJY"
      },
      "source": [
        "## Initializing a numpy array"
      ]
    },
    {
      "cell_type": "code",
      "execution_count": null,
      "metadata": {
        "colab": {
          "base_uri": "https://localhost:8080/"
        },
        "id": "LJyYXf1omTg9",
        "outputId": "114dcc2e-9257-46e7-e59f-ce8c223588fd"
      },
      "outputs": [
        {
          "output_type": "execute_result",
          "data": {
            "text/plain": [
              "array([[1., 1., 1.],\n",
              "       [1., 1., 1.]])"
            ]
          },
          "metadata": {},
          "execution_count": 20
        }
      ],
      "source": [
        "# Array of ones\n",
        "b = np.ones((2,3))\n",
        "\n",
        "b"
      ]
    },
    {
      "cell_type": "code",
      "execution_count": null,
      "metadata": {
        "colab": {
          "base_uri": "https://localhost:8080/"
        },
        "id": "MY9YAQhEm7Ai",
        "outputId": "abdfaa4e-8cb2-4372-c024-7b5ddd157109"
      },
      "outputs": [
        {
          "output_type": "execute_result",
          "data": {
            "text/plain": [
              "array([[0., 0., 0., 0.],\n",
              "       [0., 0., 0., 0.]])"
            ]
          },
          "metadata": {},
          "execution_count": 21
        }
      ],
      "source": [
        "# Array of zeros\n",
        "c = np.zeros((2,4))\n",
        "\n",
        "c"
      ]
    },
    {
      "cell_type": "code",
      "execution_count": null,
      "metadata": {
        "colab": {
          "base_uri": "https://localhost:8080/"
        },
        "id": "RXDXbh6zbK4W",
        "outputId": "ce6c8370-2ce3-4663-9907-f402b65c4b65"
      },
      "outputs": [
        {
          "output_type": "execute_result",
          "data": {
            "text/plain": [
              "array([[3, 3, 3, 3],\n",
              "       [3, 3, 3, 3]])"
            ]
          },
          "metadata": {},
          "execution_count": 22
        }
      ],
      "source": [
        "h = np.full((2,4), 3)\n",
        "h"
      ]
    },
    {
      "cell_type": "code",
      "execution_count": null,
      "metadata": {
        "colab": {
          "base_uri": "https://localhost:8080/"
        },
        "id": "yI3mbhZpnHo-",
        "outputId": "786ec1c9-3811-48cc-ce24-60a12ff5f03f"
      },
      "outputs": [
        {
          "output_type": "execute_result",
          "data": {
            "text/plain": [
              "array([[0.68103732, 2.81318582, 1.74489983, 1.25182008],\n",
              "       [0.94068129, 2.38519927, 0.49175075, 0.43621515]])"
            ]
          },
          "metadata": {},
          "execution_count": 28
        }
      ],
      "source": [
        "# Array of random numbers\n",
        "d = np.random.random((2,4))*3\n",
        "\n",
        "d"
      ]
    },
    {
      "cell_type": "code",
      "execution_count": null,
      "metadata": {
        "colab": {
          "base_uri": "https://localhost:8080/"
        },
        "id": "A3u-9oBInSzW",
        "outputId": "05a5ee69-b7ef-4dc0-8e86-8290a96f98d4"
      },
      "outputs": [
        {
          "output_type": "execute_result",
          "data": {
            "text/plain": [
              "array([[1., 0., 0., 0.],\n",
              "       [0., 1., 0., 0.],\n",
              "       [0., 0., 1., 0.],\n",
              "       [0., 0., 0., 1.]])"
            ]
          },
          "metadata": {},
          "execution_count": 31
        }
      ],
      "source": [
        "# Identity matrix\n",
        "#g = np.eye(4)\n",
        "g = np.identity(4)\n",
        "g"
      ]
    },
    {
      "cell_type": "markdown",
      "metadata": {
        "id": "Ah6L5oq_nlas"
      },
      "source": [
        "## Creating ranges in numpy arrays"
      ]
    },
    {
      "cell_type": "code",
      "execution_count": null,
      "metadata": {
        "colab": {
          "base_uri": "https://localhost:8080/"
        },
        "id": "21Uc8RMEbxUA",
        "outputId": "610212d0-9ec4-4768-ccd3-bd208bcc7eea"
      },
      "outputs": [
        {
          "output_type": "stream",
          "name": "stdout",
          "text": [
            "[0, 1, 2, 3, 4, 5, 6, 7, 8, 9]\n"
          ]
        }
      ],
      "source": [
        "l = range(10)\n",
        "print([i for i in range(10)])"
      ]
    },
    {
      "cell_type": "code",
      "execution_count": null,
      "metadata": {
        "colab": {
          "base_uri": "https://localhost:8080/"
        },
        "id": "t-xoWO6DnaCP",
        "outputId": "516f02c5-9859-41ab-8b35-cbb6b544b6ab"
      },
      "outputs": [
        {
          "output_type": "stream",
          "name": "stdout",
          "text": [
            "[0 1 2 3 4 5 6 7 8 9]\n"
          ]
        }
      ],
      "source": [
        "# numpy range\n",
        "j = np.arange(10)\n",
        "print(j)"
      ]
    },
    {
      "cell_type": "code",
      "execution_count": null,
      "metadata": {
        "colab": {
          "base_uri": "https://localhost:8080/"
        },
        "id": "3_yBsXg_n3T7",
        "outputId": "022d1a1e-1603-40f8-e7d3-1aa333d2fa7d"
      },
      "outputs": [
        {
          "output_type": "stream",
          "name": "stdout",
          "text": [
            "[0 2 4 6 8]\n"
          ]
        }
      ],
      "source": [
        "# numpy range\n",
        "i = np.arange(0,10,2)\n",
        "print(i)"
      ]
    },
    {
      "cell_type": "code",
      "execution_count": null,
      "metadata": {
        "colab": {
          "base_uri": "https://localhost:8080/"
        },
        "id": "W3EIYq22n_cp",
        "outputId": "b2e52dbc-2fe1-4ad3-bd0c-8012f010bc92"
      },
      "outputs": [
        {
          "output_type": "stream",
          "name": "stdout",
          "text": [
            "[ 0.          0.28571429  0.57142857  0.85714286  1.14285714  1.42857143\n",
            "  1.71428571  2.          2.28571429  2.57142857  2.85714286  3.14285714\n",
            "  3.42857143  3.71428571  4.          4.28571429  4.57142857  4.85714286\n",
            "  5.14285714  5.42857143  5.71428571  6.          6.28571429  6.57142857\n",
            "  6.85714286  7.14285714  7.42857143  7.71428571  8.          8.28571429\n",
            "  8.57142857  8.85714286  9.14285714  9.42857143  9.71428571 10.        ]\n"
          ]
        }
      ],
      "source": [
        "# Creating a list with numbers in between\n",
        "k= np.linspace(0,10,36)\n",
        "print(k)"
      ]
    },
    {
      "cell_type": "markdown",
      "metadata": {
        "id": "d8uE2mJ4oRcS"
      },
      "source": [
        "## Utils Functions"
      ]
    },
    {
      "cell_type": "code",
      "execution_count": null,
      "metadata": {
        "colab": {
          "base_uri": "https://localhost:8080/"
        },
        "id": "KhJOaJK3oHA8",
        "outputId": "e3d68166-85b9-41db-a74a-fe6552d647ff"
      },
      "outputs": [
        {
          "output_type": "stream",
          "name": "stdout",
          "text": [
            "[[1 2 3]\n",
            " [4 5 6]]\n",
            "[[1 2]\n",
            " [3 4]\n",
            " [5 6]]\n"
          ]
        }
      ],
      "source": [
        "# Reshaping a matrix\n",
        "l = np.array([[1,2,3],[4,5,6]])\n",
        "print(l)\n",
        "print(l.reshape(3,2))"
      ]
    },
    {
      "cell_type": "markdown",
      "metadata": {
        "id": "ZtRNOBeeoj3X"
      },
      "source": [
        "## Slicing numpy arrays"
      ]
    },
    {
      "cell_type": "code",
      "execution_count": null,
      "metadata": {
        "colab": {
          "base_uri": "https://localhost:8080/"
        },
        "id": "9r1sBn51oW5J",
        "outputId": "8c5fb474-cf62-4972-d81f-15c0acb5e1eb"
      },
      "outputs": [
        {
          "output_type": "stream",
          "name": "stdout",
          "text": [
            "[0 1 2 3 4 5 6 7]\n",
            "[7 6 5 4 3 2 1 0]\n",
            "[0 1 2 3 4]\n",
            "[6 7]\n"
          ]
        }
      ],
      "source": [
        "# Create an array\n",
        "m = np.arange(8)\n",
        "print(m)\n",
        "# Slicing\n",
        "n = m[::-1]\n",
        "print(n)\n",
        "o = m[:5]\n",
        "print(o)\n",
        "p = m[6:]\n",
        "print(p)"
      ]
    },
    {
      "cell_type": "code",
      "execution_count": null,
      "metadata": {
        "colab": {
          "base_uri": "https://localhost:8080/"
        },
        "id": "IuHLcrEcpbOe",
        "outputId": "433ebf8f-2ea0-41a5-8632-12eb8b85665b"
      },
      "outputs": [
        {
          "output_type": "stream",
          "name": "stdout",
          "text": [
            "[  0   1   2   3 100   5   6   7]\n"
          ]
        }
      ],
      "source": [
        "# Changing a value of the array\n",
        "m[4] = 100\n",
        "print(m)"
      ]
    },
    {
      "cell_type": "code",
      "execution_count": null,
      "metadata": {
        "colab": {
          "base_uri": "https://localhost:8080/"
        },
        "id": "ZXsrlc3ZpnzN",
        "outputId": "5c943eaf-9338-45ca-9e9e-76c1fe73dee5"
      },
      "outputs": [
        {
          "output_type": "stream",
          "name": "stdout",
          "text": [
            "[[10 11 12 13]\n",
            " [20 22 23 25]]\n",
            "[20 22 23 25]\n"
          ]
        }
      ],
      "source": [
        "# Multidimensional slicing\n",
        "q = np.array([[10,11,12,13],[20,22,23,25]])\n",
        "print(q)\n",
        "# # Select some elements\n",
        "#print(q[0:1,1])\n",
        "# Select a column\n",
        "# print(q[:,0])\n",
        "# # Select a row\n",
        "print(q[1,:])"
      ]
    },
    {
      "cell_type": "code",
      "execution_count": null,
      "metadata": {
        "id": "1ob8ER01jIJC",
        "outputId": "7b94eabe-cc76-49df-f523-6e416872a2c9",
        "colab": {
          "base_uri": "https://localhost:8080/",
          "height": 263
        }
      },
      "outputs": [
        {
          "output_type": "stream",
          "name": "stdout",
          "text": [
            "[0 1 2 3 4 5 6 7 8 9]\n",
            "[ 0  1  4  9 16 25 36 49 64 81]\n"
          ]
        },
        {
          "output_type": "error",
          "ename": "ValueError",
          "evalue": "The truth value of an array with more than one element is ambiguous. Use a.any() or a.all()",
          "traceback": [
            "\u001b[0;31m---------------------------------------------------------------------------\u001b[0m",
            "\u001b[0;31mValueError\u001b[0m                                Traceback (most recent call last)",
            "\u001b[0;32m<ipython-input-54-8fb695e12822>\u001b[0m in \u001b[0;36m<cell line: 6>\u001b[0;34m()\u001b[0m\n\u001b[1;32m      4\u001b[0m \u001b[0msquares\u001b[0m \u001b[0;34m=\u001b[0m \u001b[0mnp\u001b[0m\u001b[0;34m.\u001b[0m\u001b[0marange\u001b[0m\u001b[0;34m(\u001b[0m\u001b[0;36m10\u001b[0m\u001b[0;34m)\u001b[0m\u001b[0;34m**\u001b[0m\u001b[0;36m2\u001b[0m\u001b[0;34m\u001b[0m\u001b[0;34m\u001b[0m\u001b[0m\n\u001b[1;32m      5\u001b[0m \u001b[0mprint\u001b[0m\u001b[0;34m(\u001b[0m\u001b[0msquares\u001b[0m\u001b[0;34m)\u001b[0m\u001b[0;34m\u001b[0m\u001b[0;34m\u001b[0m\u001b[0m\n\u001b[0;32m----> 6\u001b[0;31m \u001b[0mprint\u001b[0m\u001b[0;34m(\u001b[0m\u001b[0msquares\u001b[0m\u001b[0;34m[\u001b[0m\u001b[0msquares\u001b[0m \u001b[0;34m<\u001b[0m \u001b[0;36m5\u001b[0m \u001b[0;34m&\u001b[0m \u001b[0mrango\u001b[0m \u001b[0;34m>\u001b[0m \u001b[0;36m0\u001b[0m\u001b[0;34m]\u001b[0m\u001b[0;34m)\u001b[0m\u001b[0;34m\u001b[0m\u001b[0;34m\u001b[0m\u001b[0m\n\u001b[0m",
            "\u001b[0;31mValueError\u001b[0m: The truth value of an array with more than one element is ambiguous. Use a.any() or a.all()"
          ]
        }
      ],
      "source": [
        "# Slicing with condition\n",
        "rango = np.arange(10)\n",
        "print(rango)\n",
        "squares = np.arange(10)**2\n",
        "print(squares)\n",
        "print(squares[squares < 5  rango > 0])"
      ]
    },
    {
      "cell_type": "markdown",
      "metadata": {
        "id": "FLjC0RJRqacW"
      },
      "source": [
        "## Arithmetic Operations"
      ]
    },
    {
      "cell_type": "code",
      "execution_count": null,
      "metadata": {
        "id": "4PZOpD6nqQXl"
      },
      "outputs": [],
      "source": [
        "x = np.array([[1,2,3,4],[5,6,7,8]])\n",
        "y = np.array([[9,10,11,12],[13,14,15,16]])"
      ]
    },
    {
      "cell_type": "code",
      "execution_count": null,
      "metadata": {
        "colab": {
          "base_uri": "https://localhost:8080/"
        },
        "id": "7jOH7SUkqhNI",
        "outputId": "d30b5678-6846-4208-f52c-374968fcc83b"
      },
      "outputs": [
        {
          "output_type": "stream",
          "name": "stdout",
          "text": [
            "[[10 12 14 16]\n",
            " [18 20 22 24]]\n"
          ]
        }
      ],
      "source": [
        "# Add two matrices\n",
        "z = x + y\n",
        "print(z)"
      ]
    },
    {
      "cell_type": "code",
      "execution_count": null,
      "metadata": {
        "colab": {
          "base_uri": "https://localhost:8080/"
        },
        "id": "RUpxRGoHqjKn",
        "outputId": "822a658a-abfb-417c-cccd-c16cc8957314"
      },
      "outputs": [
        {
          "output_type": "stream",
          "name": "stdout",
          "text": [
            "[[2.71828183e+00 7.38905610e+00 2.00855369e+01 5.45981500e+01]\n",
            " [1.48413159e+02 4.03428793e+02 1.09663316e+03 2.98095799e+03]]\n",
            "[[1.         1.41421356 1.73205081 2.        ]\n",
            " [2.23606798 2.44948974 2.64575131 2.82842712]]\n"
          ]
        }
      ],
      "source": [
        "# Numpy functions\n",
        "a = np.exp(x)\n",
        "print(a)\n",
        "b = np.sqrt(x)\n",
        "print(b)"
      ]
    },
    {
      "cell_type": "code",
      "execution_count": null,
      "metadata": {
        "colab": {
          "base_uri": "https://localhost:8080/"
        },
        "id": "h3FGzIdnqw2C",
        "outputId": "777341d7-8460-4f27-b8c2-de6adada6b6b"
      },
      "outputs": [
        {
          "output_type": "stream",
          "name": "stdout",
          "text": [
            "[[1 2 3 4]\n",
            " [5 6 7 8]]\n",
            "[[ 9 13]\n",
            " [10 14]\n",
            " [11 15]\n",
            " [12 16]]\n",
            "[[110 150]\n",
            " [278 382]]\n"
          ]
        }
      ],
      "source": [
        "# Matrix multiplication, the shapes do not align for matrix multiplication\n",
        "print(x)\n",
        "print(y.T)\n",
        "\n",
        "c = np.dot(x, y.T)\n",
        "print(c)"
      ]
    },
    {
      "cell_type": "code",
      "execution_count": null,
      "metadata": {
        "colab": {
          "base_uri": "https://localhost:8080/"
        },
        "id": "qhxInczArNbQ",
        "outputId": "af348c2e-c685-4697-eac1-ecb1ae836011"
      },
      "outputs": [
        {
          "output_type": "stream",
          "name": "stdout",
          "text": [
            "[[110 150]\n",
            " [278 382]]\n"
          ]
        }
      ],
      "source": [
        "# Matrix multiplication\n",
        "c = np.dot(x, y.T)\n",
        "print(c)"
      ]
    },
    {
      "cell_type": "code",
      "execution_count": null,
      "metadata": {
        "colab": {
          "base_uri": "https://localhost:8080/"
        },
        "id": "FXgSkjwprecm",
        "outputId": "cdd06041-92fa-4aae-cb50-05324c8553be"
      },
      "outputs": [
        {
          "output_type": "stream",
          "name": "stdout",
          "text": [
            "[[110 150]\n",
            " [278 382]]\n"
          ]
        }
      ],
      "source": [
        "# Matrix multiplication\n",
        "print(x @ y.T)"
      ]
    },
    {
      "cell_type": "code",
      "execution_count": null,
      "metadata": {
        "id": "rQNS6btKhkj0",
        "outputId": "acf73cad-9d29-4a61-abf0-8ea84bba1d0e",
        "colab": {
          "base_uri": "https://localhost:8080/"
        }
      },
      "outputs": [
        {
          "output_type": "stream",
          "name": "stdout",
          "text": [
            "16.881943016134134\n"
          ]
        }
      ],
      "source": [
        "# Norm of a vector\n",
        "x = np.arange(10)\n",
        "print(np.linalg.norm(x))"
      ]
    },
    {
      "cell_type": "markdown",
      "metadata": {
        "id": "mqbqEPQdjIJE"
      },
      "source": [
        "## Axis operations"
      ]
    },
    {
      "cell_type": "code",
      "execution_count": null,
      "metadata": {
        "id": "KC5FxQORjIJE",
        "outputId": "d23b6b67-6842-460d-e2ff-c71202df6f52",
        "colab": {
          "base_uri": "https://localhost:8080/"
        }
      },
      "outputs": [
        {
          "output_type": "stream",
          "name": "stdout",
          "text": [
            "[[4 4 5]\n",
            " [3 3 2]]\n",
            "21\n",
            "[7 7 7]\n",
            "[13  8]\n"
          ]
        }
      ],
      "source": [
        "A = np.random.randint(0, 6, (2, 3))\n",
        "print(A)\n",
        "print(A.sum())\n",
        "print(A.sum(axis = 0))\n",
        "print(A.sum(axis = 1))"
      ]
    },
    {
      "cell_type": "markdown",
      "source": [
        "### Example\n",
        "\n",
        "Normalize a set of vectors"
      ],
      "metadata": {
        "id": "WKs5in8nUtGa"
      }
    },
    {
      "cell_type": "code",
      "source": [
        "np.random.seed(5)\n",
        "A = np.random.rand(5, 2)"
      ],
      "metadata": {
        "id": "C9eURoOWUu26"
      },
      "execution_count": 52,
      "outputs": []
    },
    {
      "cell_type": "code",
      "source": [
        "plt.quiver(np.zeros(5), np.zeros(5), A[:, 0], A[:, 1], scale = 2.8)\n",
        "plt.xlim(-1,1)\n",
        "plt.ylim(-1,1)"
      ],
      "metadata": {
        "colab": {
          "base_uri": "https://localhost:8080/",
          "height": 452
        },
        "id": "Eiwgl6TrbsEE",
        "outputId": "9567ff68-cdd8-49df-f341-499fd78d9bd8"
      },
      "execution_count": 53,
      "outputs": [
        {
          "output_type": "execute_result",
          "data": {
            "text/plain": [
              "(-1.0, 1.0)"
            ]
          },
          "metadata": {},
          "execution_count": 53
        },
        {
          "output_type": "display_data",
          "data": {
            "text/plain": [
              "<Figure size 640x480 with 1 Axes>"
            ],
            "image/png": "[encoded data removed]"
          },
          "metadata": {}
        }
      ]
    },
    {
      "cell_type": "code",
      "source": [
        "A = A / np.linalg.norm(A, axis = 1).reshape(-1, 1)\n",
        "np.linalg.norm(A, axis = 1)"
      ],
      "metadata": {
        "colab": {
          "base_uri": "https://localhost:8080/"
        },
        "id": "nzB-4HazUvVS",
        "outputId": "da325df5-d1c9-4c2c-94bb-959ed46beac0"
      },
      "execution_count": 54,
      "outputs": [
        {
          "output_type": "execute_result",
          "data": {
            "text/plain": [
              "array([1., 1., 1., 1., 1.])"
            ]
          },
          "metadata": {},
          "execution_count": 54
        }
      ]
    },
    {
      "cell_type": "code",
      "source": [
        "plt.quiver(np.zeros(5), np.zeros(5), A[:, 0], A[:, 1], scale = 2.8)\n",
        "plt.xlim(-1,1)\n",
        "plt.ylim(-1,1)"
      ],
      "metadata": {
        "colab": {
          "base_uri": "https://localhost:8080/",
          "height": 452
        },
        "id": "6W26YSS5a7qp",
        "outputId": "aa3fddf9-60e0-4359-93e4-18497972fb7d"
      },
      "execution_count": 55,
      "outputs": [
        {
          "output_type": "execute_result",
          "data": {
            "text/plain": [
              "(-1.0, 1.0)"
            ]
          },
          "metadata": {},
          "execution_count": 55
        },
        {
          "output_type": "display_data",
          "data": {
            "text/plain": [
              "<Figure size 640x480 with 1 Axes>"
            ],
            "image/png": "[encoded data removed]"
          },
          "metadata": {}
        }
      ]
    },
    {
      "cell_type": "code",
      "source": [],
      "metadata": {
        "id": "aYdq45A6bWmY"
      },
      "execution_count": null,
      "outputs": []
    }
  ],
  "metadata": {
    "colab": {
      "provenance": []
    },
    "kernelspec": {
      "display_name": "Python 3",
      "language": "python",
      "name": "python3"
    },
    "language_info": {
      "codemirror_mode": {
        "name": "ipython",
        "version": 3
      },
      "file_extension": ".py",
      "mimetype": "text/x-python",
      "name": "python",
      "nbconvert_exporter": "python",
      "pygments_lexer": "ipython3",
      "version": "3.8.10"
    }
  },
  "nbformat": 4,
  "nbformat_minor": 0
}