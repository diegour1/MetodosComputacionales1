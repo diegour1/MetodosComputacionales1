{
  "cells": [
    {
      "cell_type": "markdown",
      "metadata": {
        "id": "GzkG4LcQt4-1"
      },
      "source": [
        "# Introduction to Python\n",
        "\n",
        "## Numpy\n",
        "\n",
        "## Metodos Computacionales 1\n",
        "## Uniandes\n",
        "\n",
        "Based on [SoloLearn Python](https://www.sololearn.com/Play/Python)"
      ]
    },
    {
      "cell_type": "markdown",
      "metadata": {
        "id": "vXRBKOJll4P8"
      },
      "source": [
        "## Numpy Arrays"
      ]
    },
    {
      "cell_type": "code",
      "execution_count": 1,
      "metadata": {
        "id": "2hkxhwAGmAS5"
      },
      "outputs": [],
      "source": [
        "import numpy as np"
      ]
    },
    {
      "cell_type": "code",
      "execution_count": 2,
      "metadata": {
        "colab": {
          "base_uri": "https://localhost:8080/"
        },
        "id": "rFhg_BoRllqh",
        "outputId": "005940ae-debf-4b7f-9b45-b076bf220d75"
      },
      "outputs": [
        {
          "output_type": "execute_result",
          "data": {
            "text/plain": [
              "array([[1, 2, 3, 4],\n",
              "       [5, 6, 7, 8]])"
            ]
          },
          "metadata": {},
          "execution_count": 2
        }
      ],
      "source": [
        "# Creating a numpy array\n",
        "a = np.array([[1,2,3,4],[5,6,7,8]])\n",
        "\n",
        "a"
      ]
    },
    {
      "cell_type": "code",
      "execution_count": 3,
      "metadata": {
        "colab": {
          "base_uri": "https://localhost:8080/"
        },
        "id": "Rm0bWTALl--2",
        "outputId": "54684d22-4772-44dd-e9b6-35260a1fe18d"
      },
      "outputs": [
        {
          "output_type": "stream",
          "name": "stdout",
          "text": [
            "2\n",
            "2\n"
          ]
        }
      ],
      "source": [
        "# Selecting an element in two diferent ways\n",
        "print(a[0][1])\n",
        "print(a[0, 1])"
      ]
    },
    {
      "cell_type": "code",
      "execution_count": 4,
      "metadata": {
        "colab": {
          "base_uri": "https://localhost:8080/"
        },
        "id": "dUgXwr_JmM_G",
        "outputId": "62760e00-d956-413a-cc3e-c6da22fead3b"
      },
      "outputs": [
        {
          "output_type": "stream",
          "name": "stdout",
          "text": [
            "2\n",
            "(2, 4)\n",
            "8\n",
            "<class 'numpy.ndarray'>\n"
          ]
        }
      ],
      "source": [
        "# Attributes of a numpy array\n",
        "print(a.ndim)\n",
        "print(a.shape)\n",
        "print(a.size)\n",
        "print(type(a))"
      ]
    },
    {
      "cell_type": "markdown",
      "metadata": {
        "id": "lddi4VpLmlJY"
      },
      "source": [
        "## Initializing a numpy array"
      ]
    },
    {
      "cell_type": "code",
      "execution_count": 5,
      "metadata": {
        "colab": {
          "base_uri": "https://localhost:8080/"
        },
        "id": "LJyYXf1omTg9",
        "outputId": "232afe3c-9d46-43a9-d2e1-879e2a05d394"
      },
      "outputs": [
        {
          "output_type": "execute_result",
          "data": {
            "text/plain": [
              "array([[1., 1., 1.],\n",
              "       [1., 1., 1.]])"
            ]
          },
          "metadata": {},
          "execution_count": 5
        }
      ],
      "source": [
        "# Array of ones\n",
        "b = np.ones((2,3))\n",
        "\n",
        "b"
      ]
    },
    {
      "cell_type": "code",
      "execution_count": 6,
      "metadata": {
        "colab": {
          "base_uri": "https://localhost:8080/"
        },
        "id": "MY9YAQhEm7Ai",
        "outputId": "8c65a5db-bd25-4ed0-b4c3-8c747e2f1fa4"
      },
      "outputs": [
        {
          "output_type": "execute_result",
          "data": {
            "text/plain": [
              "array([[0., 0., 0., 0.],\n",
              "       [0., 0., 0., 0.]])"
            ]
          },
          "metadata": {},
          "execution_count": 6
        }
      ],
      "source": [
        "# Array of zeros\n",
        "c = np.zeros((2,4))\n",
        "\n",
        "c"
      ]
    },
    {
      "cell_type": "code",
      "execution_count": 7,
      "metadata": {
        "colab": {
          "base_uri": "https://localhost:8080/"
        },
        "id": "RXDXbh6zbK4W",
        "outputId": "9ed9bd0f-1ca6-4896-9ce0-6cc3fadeced3"
      },
      "outputs": [
        {
          "output_type": "execute_result",
          "data": {
            "text/plain": [
              "array([[3, 3, 3, 3],\n",
              "       [3, 3, 3, 3]])"
            ]
          },
          "metadata": {},
          "execution_count": 7
        }
      ],
      "source": [
        "h = np.full((2,4), 3)\n",
        "h"
      ]
    },
    {
      "cell_type": "code",
      "execution_count": 8,
      "metadata": {
        "colab": {
          "base_uri": "https://localhost:8080/"
        },
        "id": "yI3mbhZpnHo-",
        "outputId": "79a45c1b-91df-494c-95e0-29f0dcbf1856"
      },
      "outputs": [
        {
          "output_type": "execute_result",
          "data": {
            "text/plain": [
              "array([[0.80338489, 0.46009793, 0.70187682, 0.18828094],\n",
              "       [0.33066254, 0.8655148 , 0.93050914, 0.2131253 ]])"
            ]
          },
          "metadata": {},
          "execution_count": 8
        }
      ],
      "source": [
        "# Array of random numbers\n",
        "d = np.random.random((2,4))\n",
        "\n",
        "d"
      ]
    },
    {
      "cell_type": "code",
      "execution_count": 9,
      "metadata": {
        "colab": {
          "base_uri": "https://localhost:8080/"
        },
        "id": "A3u-9oBInSzW",
        "outputId": "dc1df69a-436a-4a08-ca9f-ed0ff133fa06"
      },
      "outputs": [
        {
          "output_type": "execute_result",
          "data": {
            "text/plain": [
              "array([[1., 0., 0., 0.],\n",
              "       [0., 1., 0., 0.],\n",
              "       [0., 0., 1., 0.],\n",
              "       [0., 0., 0., 1.]])"
            ]
          },
          "metadata": {},
          "execution_count": 9
        }
      ],
      "source": [
        "# Identity matrix\n",
        "#g = np.eye(4)\n",
        "g = np.identity(4)\n",
        "g"
      ]
    },
    {
      "cell_type": "markdown",
      "metadata": {
        "id": "Ah6L5oq_nlas"
      },
      "source": [
        "## Creating ranges in numpy arrays"
      ]
    },
    {
      "cell_type": "code",
      "execution_count": 10,
      "metadata": {
        "colab": {
          "base_uri": "https://localhost:8080/"
        },
        "id": "21Uc8RMEbxUA",
        "outputId": "102e603c-761d-4fee-be13-f4d1e361651c"
      },
      "outputs": [
        {
          "output_type": "stream",
          "name": "stdout",
          "text": [
            "[0, 1, 2, 3, 4, 5, 6, 7, 8, 9]\n"
          ]
        }
      ],
      "source": [
        "l = range(10)\n",
        "print([i for i in range(10)])"
      ]
    },
    {
      "cell_type": "code",
      "execution_count": 11,
      "metadata": {
        "colab": {
          "base_uri": "https://localhost:8080/"
        },
        "id": "t-xoWO6DnaCP",
        "outputId": "d7c40c51-cb54-43c3-976d-cd6666bffe54"
      },
      "outputs": [
        {
          "output_type": "stream",
          "name": "stdout",
          "text": [
            "[0 1 2 3 4 5 6 7 8 9]\n"
          ]
        }
      ],
      "source": [
        "# numpy range\n",
        "j = np.arange(10)\n",
        "print(j)"
      ]
    },
    {
      "cell_type": "code",
      "execution_count": 12,
      "metadata": {
        "colab": {
          "base_uri": "https://localhost:8080/"
        },
        "id": "3_yBsXg_n3T7",
        "outputId": "e6cd8767-2d77-4e1c-e37c-2a713fea2f49"
      },
      "outputs": [
        {
          "output_type": "stream",
          "name": "stdout",
          "text": [
            "[0 2 4 6 8]\n"
          ]
        }
      ],
      "source": [
        "# numpy range\n",
        "i = np.arange(0,10,2)\n",
        "print(i)"
      ]
    },
    {
      "cell_type": "code",
      "execution_count": 13,
      "metadata": {
        "colab": {
          "base_uri": "https://localhost:8080/"
        },
        "id": "W3EIYq22n_cp",
        "outputId": "a0f97823-88f6-4a57-c018-2ca78e4d09c1"
      },
      "outputs": [
        {
          "output_type": "stream",
          "name": "stdout",
          "text": [
            "[ 0.          0.28571429  0.57142857  0.85714286  1.14285714  1.42857143\n",
            "  1.71428571  2.          2.28571429  2.57142857  2.85714286  3.14285714\n",
            "  3.42857143  3.71428571  4.          4.28571429  4.57142857  4.85714286\n",
            "  5.14285714  5.42857143  5.71428571  6.          6.28571429  6.57142857\n",
            "  6.85714286  7.14285714  7.42857143  7.71428571  8.          8.28571429\n",
            "  8.57142857  8.85714286  9.14285714  9.42857143  9.71428571 10.        ]\n"
          ]
        }
      ],
      "source": [
        "# Creating a list with numbers in between\n",
        "k= np.linspace(0,10,36)\n",
        "print(k)"
      ]
    },
    {
      "cell_type": "markdown",
      "metadata": {
        "id": "d8uE2mJ4oRcS"
      },
      "source": [
        "## Utils Functions"
      ]
    },
    {
      "cell_type": "code",
      "execution_count": 14,
      "metadata": {
        "colab": {
          "base_uri": "https://localhost:8080/"
        },
        "id": "KhJOaJK3oHA8",
        "outputId": "e3d68166-85b9-41db-a74a-fe6552d647ff"
      },
      "outputs": [
        {
          "output_type": "stream",
          "name": "stdout",
          "text": [
            "[[1 2 3]\n",
            " [4 5 6]]\n",
            "[[1 2]\n",
            " [3 4]\n",
            " [5 6]]\n"
          ]
        }
      ],
      "source": [
        "# Reshaping a matrix\n",
        "l = np.array([[1,2,3],[4,5,6]])\n",
        "print(l)\n",
        "print(l.reshape(3,2))"
      ]
    },
    {
      "cell_type": "markdown",
      "metadata": {
        "id": "ZtRNOBeeoj3X"
      },
      "source": [
        "## Slicing numpy arrays"
      ]
    },
    {
      "cell_type": "code",
      "execution_count": 15,
      "metadata": {
        "colab": {
          "base_uri": "https://localhost:8080/"
        },
        "id": "9r1sBn51oW5J",
        "outputId": "d48049e7-2c7b-4900-dda0-4d1f8a66d947"
      },
      "outputs": [
        {
          "output_type": "stream",
          "name": "stdout",
          "text": [
            "[0 1 2 3 4 5 6 7]\n",
            "[7 6 5 4 3 2 1 0]\n",
            "[0 1 2 3 4]\n",
            "[6 7]\n"
          ]
        }
      ],
      "source": [
        "# Create an array\n",
        "m = np.arange(8)\n",
        "print(m)\n",
        "# Slicing\n",
        "n = m[::-1]\n",
        "print(n)\n",
        "o = m[:5]\n",
        "print(o)\n",
        "p = m[6:]\n",
        "print(p)"
      ]
    },
    {
      "cell_type": "code",
      "execution_count": 16,
      "metadata": {
        "colab": {
          "base_uri": "https://localhost:8080/"
        },
        "id": "IuHLcrEcpbOe",
        "outputId": "f4fedd38-9098-4375-a29d-ac6a72139726"
      },
      "outputs": [
        {
          "output_type": "stream",
          "name": "stdout",
          "text": [
            "[  0   1   2   3 100   5   6   7]\n"
          ]
        }
      ],
      "source": [
        "# Changing a value of the array\n",
        "m[4] = 100\n",
        "print(m)"
      ]
    },
    {
      "cell_type": "code",
      "execution_count": 17,
      "metadata": {
        "colab": {
          "base_uri": "https://localhost:8080/"
        },
        "id": "ZXsrlc3ZpnzN",
        "outputId": "8844b9b6-db6b-429c-8c47-8550e0736a26"
      },
      "outputs": [
        {
          "output_type": "stream",
          "name": "stdout",
          "text": [
            "[[10 11 12 13]\n",
            " [20 22 23 25]]\n",
            "[20 22 23 25]\n"
          ]
        }
      ],
      "source": [
        "# Multidimensional slicing\n",
        "q = np.array([[10,11,12,13],[20,22,23,25]])\n",
        "print(q)\n",
        "# # Select some elements\n",
        "#print(q[0:1,1])\n",
        "# Select a column\n",
        "# print(q[:,0])\n",
        "# # Select a row\n",
        "print(q[1,:])"
      ]
    },
    {
      "cell_type": "code",
      "execution_count": 18,
      "metadata": {
        "id": "1ob8ER01jIJC",
        "outputId": "71af40d9-86be-4225-d924-febe56eb02c4",
        "colab": {
          "base_uri": "https://localhost:8080/"
        }
      },
      "outputs": [
        {
          "output_type": "stream",
          "name": "stdout",
          "text": [
            "[ 0  1  4  9 16]\n"
          ]
        }
      ],
      "source": [
        "# Slicing with condition\n",
        "rango = np.arange(10)\n",
        "squares = np.arange(10)**2\n",
        "print(squares[rango < 5])"
      ]
    },
    {
      "cell_type": "markdown",
      "metadata": {
        "id": "FLjC0RJRqacW"
      },
      "source": [
        "## Arithmetic Operations"
      ]
    },
    {
      "cell_type": "code",
      "execution_count": 19,
      "metadata": {
        "id": "4PZOpD6nqQXl"
      },
      "outputs": [],
      "source": [
        "x = np.array([[1,2,3,4],[5,6,7,8]])\n",
        "y = np.array([[9,10,11,12],[13,14,15,16]])"
      ]
    },
    {
      "cell_type": "code",
      "execution_count": 20,
      "metadata": {
        "colab": {
          "base_uri": "https://localhost:8080/"
        },
        "id": "7jOH7SUkqhNI",
        "outputId": "8ff5558f-2c88-4e2c-f8e4-f139b6e48e32"
      },
      "outputs": [
        {
          "output_type": "stream",
          "name": "stdout",
          "text": [
            "[[10 12 14 16]\n",
            " [18 20 22 24]]\n"
          ]
        }
      ],
      "source": [
        "# Add two matrices\n",
        "z = x + y\n",
        "print(z)"
      ]
    },
    {
      "cell_type": "code",
      "execution_count": 21,
      "metadata": {
        "colab": {
          "base_uri": "https://localhost:8080/"
        },
        "id": "RUpxRGoHqjKn",
        "outputId": "b9d06b45-d4f0-4a2f-e8f1-8018130b95e4"
      },
      "outputs": [
        {
          "output_type": "stream",
          "name": "stdout",
          "text": [
            "[[2.71828183e+00 7.38905610e+00 2.00855369e+01 5.45981500e+01]\n",
            " [1.48413159e+02 4.03428793e+02 1.09663316e+03 2.98095799e+03]]\n",
            "[[1.         1.41421356 1.73205081 2.        ]\n",
            " [2.23606798 2.44948974 2.64575131 2.82842712]]\n"
          ]
        }
      ],
      "source": [
        "# Numpy functions\n",
        "a = np.exp(x)\n",
        "print(a)\n",
        "b = np.sqrt(x)\n",
        "print(b)"
      ]
    },
    {
      "cell_type": "code",
      "execution_count": 22,
      "metadata": {
        "colab": {
          "base_uri": "https://localhost:8080/",
          "height": 245
        },
        "id": "h3FGzIdnqw2C",
        "outputId": "8bfa2e5a-5f44-49e9-ca6c-9922be72e6b5"
      },
      "outputs": [
        {
          "output_type": "error",
          "ename": "ValueError",
          "evalue": "shapes (2,4) and (2,4) not aligned: 4 (dim 1) != 2 (dim 0)",
          "traceback": [
            "\u001b[0;31m---------------------------------------------------------------------------\u001b[0m",
            "\u001b[0;31mValueError\u001b[0m                                Traceback (most recent call last)",
            "\u001b[0;32m<ipython-input-22-01f06e8f76a1>\u001b[0m in \u001b[0;36m<cell line: 2>\u001b[0;34m()\u001b[0m\n\u001b[1;32m      1\u001b[0m \u001b[0;31m# Matrix multiplication, the shapes do not align for matrix multiplication\u001b[0m\u001b[0;34m\u001b[0m\u001b[0;34m\u001b[0m\u001b[0m\n\u001b[0;32m----> 2\u001b[0;31m \u001b[0mc\u001b[0m \u001b[0;34m=\u001b[0m \u001b[0mnp\u001b[0m\u001b[0;34m.\u001b[0m\u001b[0mdot\u001b[0m\u001b[0;34m(\u001b[0m\u001b[0mx\u001b[0m\u001b[0;34m,\u001b[0m \u001b[0my\u001b[0m\u001b[0;34m)\u001b[0m\u001b[0;34m\u001b[0m\u001b[0;34m\u001b[0m\u001b[0m\n\u001b[0m\u001b[1;32m      3\u001b[0m \u001b[0mprint\u001b[0m\u001b[0;34m(\u001b[0m\u001b[0mc\u001b[0m\u001b[0;34m)\u001b[0m\u001b[0;34m\u001b[0m\u001b[0;34m\u001b[0m\u001b[0m\n",
            "\u001b[0;32m/usr/local/lib/python3.10/dist-packages/numpy/core/overrides.py\u001b[0m in \u001b[0;36mdot\u001b[0;34m(*args, **kwargs)\u001b[0m\n",
            "\u001b[0;31mValueError\u001b[0m: shapes (2,4) and (2,4) not aligned: 4 (dim 1) != 2 (dim 0)"
          ]
        }
      ],
      "source": [
        "# Matrix multiplication, the shapes do not align for matrix multiplication\n",
        "c = np.dot(x, y)\n",
        "print(c)"
      ]
    },
    {
      "cell_type": "code",
      "execution_count": 23,
      "metadata": {
        "colab": {
          "base_uri": "https://localhost:8080/"
        },
        "id": "qhxInczArNbQ",
        "outputId": "af348c2e-c685-4697-eac1-ecb1ae836011"
      },
      "outputs": [
        {
          "output_type": "stream",
          "name": "stdout",
          "text": [
            "[[110 150]\n",
            " [278 382]]\n"
          ]
        }
      ],
      "source": [
        "# Matrix multiplication\n",
        "c = np.dot(x, y.T)\n",
        "print(c)"
      ]
    },
    {
      "cell_type": "code",
      "execution_count": 24,
      "metadata": {
        "colab": {
          "base_uri": "https://localhost:8080/"
        },
        "id": "FXgSkjwprecm",
        "outputId": "cb0328ad-1806-4d96-ffb3-e27ef2f9dfa9"
      },
      "outputs": [
        {
          "output_type": "stream",
          "name": "stdout",
          "text": [
            "[[110 150]\n",
            " [278 382]]\n"
          ]
        }
      ],
      "source": [
        "# Matrix multiplication\n",
        "print(x @ y.T)"
      ]
    },
    {
      "cell_type": "code",
      "execution_count": 25,
      "metadata": {
        "id": "rQNS6btKhkj0",
        "outputId": "0145122b-0191-44f6-a79c-0ee8402a993f",
        "colab": {
          "base_uri": "https://localhost:8080/"
        }
      },
      "outputs": [
        {
          "output_type": "stream",
          "name": "stdout",
          "text": [
            "16.881943016134134\n"
          ]
        }
      ],
      "source": [
        "# Norm of a vector\n",
        "x = np.arange(10)\n",
        "print(np.linalg.norm(x))"
      ]
    },
    {
      "cell_type": "markdown",
      "metadata": {
        "id": "mqbqEPQdjIJE"
      },
      "source": [
        "## Axis operations"
      ]
    },
    {
      "cell_type": "code",
      "execution_count": 26,
      "metadata": {
        "id": "KC5FxQORjIJE",
        "outputId": "d23b6b67-6842-460d-e2ff-c71202df6f52",
        "colab": {
          "base_uri": "https://localhost:8080/"
        }
      },
      "outputs": [
        {
          "output_type": "stream",
          "name": "stdout",
          "text": [
            "[[4 4 5]\n",
            " [3 3 2]]\n",
            "21\n",
            "[7 7 7]\n",
            "[13  8]\n"
          ]
        }
      ],
      "source": [
        "A = np.random.randint(0, 6, (2, 3))\n",
        "print(A)\n",
        "print(A.sum())\n",
        "print(A.sum(axis = 0))\n",
        "print(A.sum(axis = 1))"
      ]
    },
    {
      "cell_type": "code",
      "source": [],
      "metadata": {
        "id": "gK2FXNHR7AWA"
      },
      "execution_count": 26,
      "outputs": []
    }
  ],
  "metadata": {
    "colab": {
      "provenance": []
    },
    "kernelspec": {
      "display_name": "Python 3",
      "language": "python",
      "name": "python3"
    },
    "language_info": {
      "codemirror_mode": {
        "name": "ipython",
        "version": 3
      },
      "file_extension": ".py",
      "mimetype": "text/x-python",
      "name": "python",
      "nbconvert_exporter": "python",
      "pygments_lexer": "ipython3",
      "version": "3.8.10"
    }
  },
  "nbformat": 4,
  "nbformat_minor": 0
}